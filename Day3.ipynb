{
 "cells": [
  {
   "cell_type": "markdown",
   "id": "4acbdfc4-dfb6-4ae9-9b11-40ce18ed4541",
   "metadata": {},
   "source": [
    "<h1>Class 3: Data Structures (Lists, Tuples, and Dictionaries)</h1>"
   ]
  },
  {
   "cell_type": "markdown",
   "id": "3f364cb3-2966-4fe5-8dca-1029a38375cc",
   "metadata": {},
   "source": [
    "<h2>Overview of different data structures in Python</h2>"
   ]
  },
  {
   "cell_type": "markdown",
   "id": "b7cccc89-1e44-486d-927e-0347890be915",
   "metadata": {},
   "source": [
    "<p><span style=\"font-size:16px;\">Lists:</span></p>\n",
    "\n",
    "\n",
    "<ul>\n",
    "\t<li><span style=\"font-size:16px;\">Lists are one of the most versatile and commonly used data structures in Python.</span></li>\n",
    "\t<li><span style=\"font-size:16px;\">They are ordered, mutable (modifiable), and can contain elements of different data types.</span></li>\n",
    "\t<li><span style=\"font-size:16px;\">Lists are defined using square brackets [] and elements are separated by commas.</span></li>\n",
    "\t<li><span style=\"font-size:16px;\">Example: <code>my_list = [1, &quot;apple&quot;, True, 3.14]</code></span></li>\n",
    "</ul>\n"
   ]
  },
  {
   "cell_type": "code",
   "execution_count": null,
   "id": "60990562-5805-41cd-812b-2dc8a01d359c",
   "metadata": {
    "tags": []
   },
   "outputs": [],
   "source": []
  },
  {
   "cell_type": "markdown",
   "id": "18f12eab-566a-4db0-8c40-e74d4c304379",
   "metadata": {},
   "source": [
    "<p><span style=\"font-size:16px;\">Tuples:</span></p>\n",
    "\n",
    "<ul>\n",
    "\t<li><span style=\"font-size:16px;\">Tuples are similar to lists but are immutable (cannot be modified after creation).</span></li>\n",
    "\t<li><span style=\"font-size:16px;\">They are defined using parentheses () and elements are separated by commas.</span></li>\n",
    "\t<li><span style=\"font-size:16px;\">Tuples are often used to represent a collection of related values that should not be changed.</span></li>\n",
    "\t<li><span style=\"font-size:16px;\">Example: <code>my_tuple = (1, &quot;apple&quot;, True, 3.14)</code></span></li>\n",
    "</ul>\n"
   ]
  },
  {
   "cell_type": "code",
   "execution_count": null,
   "id": "54f67005-b3df-49cd-9cb1-3df559499fd0",
   "metadata": {
    "tags": []
   },
   "outputs": [],
   "source": []
  },
  {
   "cell_type": "markdown",
   "id": "28854bef-82d1-48f9-b3c4-cb007c75e197",
   "metadata": {},
   "source": [
    "<p><span style=\"font-size:16px;\">Dictionaries:</span></p>\n",
    "\n",
    "<ul>\n",
    "\t<li><span style=\"font-size:16px;\">Dictionaries are key-value pairs that allow efficient lookup, insertion, and deletion of elements.</span></li>\n",
    "\t<li><span style=\"font-size:16px;\">They are defined using curly braces {} and use a colon (:) to separate keys and values.</span></li>\n",
    "\t<li><span style=\"font-size:16px;\">Keys must be unique and immutable (strings, numbers, or tuples), while values can be of any data type.</span></li>\n",
    "\t<li><span style=\"font-size:16px;\">Example: <code>my_dict = {&quot;name&quot;: &quot;John&quot;, &quot;age&quot;: 25, &quot;city&quot;: &quot;New York&quot;}</code></span></li>\n",
    "</ul>\n",
    "\n",
    "<ol start=\"5\">\n",
    "</ol>\n"
   ]
  },
  {
   "cell_type": "code",
   "execution_count": null,
   "id": "5218451e-4767-4ece-b4d5-d713b2cc637d",
   "metadata": {
    "tags": []
   },
   "outputs": [],
   "source": []
  },
  {
   "cell_type": "markdown",
   "id": "12d0d56b-0484-483d-a31a-2fa0217d73a1",
   "metadata": {},
   "source": [
    "<h2>Working with lists: indexing, slicing, and list methods</h2>"
   ]
  },
  {
   "cell_type": "markdown",
   "id": "ca4c226f-cf95-42cc-81d6-e391be249d0c",
   "metadata": {},
   "source": [
    "<ol>\n",
    "\t<li><span style=\"font-size:16px;\">Indexing:</span></li>\n",
    "</ol>\n",
    "\n",
    "<ul>\n",
    "\t<li><span style=\"font-size:16px;\">Indexing allows accessing individual elements in a data structure using their position.</span></li>\n",
    "\t<li><span style=\"font-size:16px;\">In Python, indexing is zero-based, meaning the first element has an index of 0, the second element has an index of 1, and so on.</span></li>\n",
    "\t<li><span style=\"font-size:16px;\">Indexing is performed using square brackets [] after the object&#39;s name, specifying the index of the element.</span></li>\n",
    "\t<li><span style=\"font-size:16px;\">Example: <code>my_list = [10, 20, 30, 40]</code>, accessing the first element: <code>my_list[0]</code> returns <code>10</code>.</span></li>\n",
    "</ul>"
   ]
  },
  {
   "cell_type": "code",
   "execution_count": null,
   "id": "00f63726-6073-4652-9e46-22fd8fb873e7",
   "metadata": {
    "tags": []
   },
   "outputs": [],
   "source": []
  },
  {
   "cell_type": "markdown",
   "id": "c3670b8e-d0e3-4c8f-bbbb-ec597d187088",
   "metadata": {},
   "source": [
    "<ol start=\"2\">\n",
    "\t<li><span style=\"font-size:16px;\">Slicing:</span></li>\n",
    "</ol>\n",
    "\n",
    "<ul>\n",
    "\t<li><span style=\"font-size:16px;\">Slicing allows extracting a portion (subsequence) of a data structure.</span></li>\n",
    "\t<li><span style=\"font-size:16px;\">It is performed using square brackets [] and a colon : inside them to specify the start and end indices.</span></li>\n",
    "\t<li><span style=\"font-size:16px;\">Slicing includes the start index but excludes the end index.</span></li>\n",
    "\t<li><span style=\"font-size:16px;\">Example: <code>my_list = [10, 20, 30, 40]</code>, slicing the sublist from index 1 to 3: <code>my_list[1:3]</code> returns <code>[20, 30]</code>.</span></li>\n",
    "</ul>"
   ]
  },
  {
   "cell_type": "code",
   "execution_count": null,
   "id": "74a04517-a6b0-4998-8a9d-ab05cc034f12",
   "metadata": {
    "tags": []
   },
   "outputs": [],
   "source": []
  },
  {
   "cell_type": "markdown",
   "id": "95e28b1a-16db-42b8-9b62-47944a8178b8",
   "metadata": {},
   "source": [
    "<ol start=\"3\">\n",
    "\t<li><span style=\"font-size:16px;\">Adding:</span></li>\n",
    "</ol>\n",
    "\n",
    "<ul>\n",
    "\t<li><span style=\"font-size:16px;\">Adding elements involves appending or extending data structures to include new elements.</span></li>\n",
    "\t<li><span style=\"font-size:16px;\">Lists support adding elements using the <code>append()</code> method to add an element at the end, or the <code>extend()</code> method to add multiple elements from another iterable.</span></li>\n",
    "\t<li><span style=\"font-size:16px;\">Example: <code>my_list = [10, 20, 30]</code>, appending an element: <code>my_list.append(40)</code> adds <code>40</code> to the list.</span></li>\n",
    "</ul>"
   ]
  },
  {
   "cell_type": "code",
   "execution_count": null,
   "id": "e56961be-ff17-4ef1-a8c0-8d202efb53ff",
   "metadata": {
    "tags": []
   },
   "outputs": [],
   "source": []
  },
  {
   "cell_type": "markdown",
   "id": "618e6ad8-3ce8-4b9f-b930-e5de951f72ba",
   "metadata": {},
   "source": [
    "<ol start=\"4\">\n",
    "\t<li><span style=\"font-size:16px;\">Removing:</span></li>\n",
    "</ol>\n",
    "\n",
    "<ul>\n",
    "\t<li><span style=\"font-size:16px;\">Removing elements involves deleting specific elements from a data structure.</span></li>\n",
    "\t<li><span style=\"font-size:16px;\">Lists support removing elements using the <code>remove()</code> method to remove a specific value, or the <code>del</code> keyword with indexing or slicing to delete elements by their position.</span></li>\n",
    "\t<li><span style=\"font-size:16px;\">Example: <code>my_list = [10, 20, 30, 40]</code>, removing an element: <code>my_list.remove(20)</code> removes the value <code>20</code> from the list.</span></li>\n",
    "</ul>"
   ]
  },
  {
   "cell_type": "code",
   "execution_count": null,
   "id": "06e014bf-39f3-469b-a40f-5d75ae0b773f",
   "metadata": {
    "tags": []
   },
   "outputs": [],
   "source": []
  },
  {
   "cell_type": "markdown",
   "id": "fe6c40e6-0df3-4264-8c0b-406d4b2efd5a",
   "metadata": {},
   "source": [
    "<ol start=\"5\">\n",
    "\t<li><span style=\"font-size:16px;\">List Comprehensions:</span></li>\n",
    "</ol>\n",
    "\n",
    "<ul>\n",
    "\t<li><span style=\"font-size:16px;\">List comprehensions provide a concise way to create new lists based on existing lists or other iterables.</span></li>\n",
    "\t<li><span style=\"font-size:16px;\">They consist of brackets [] containing an expression, followed by a for loop to iterate over the iterable, and optionally, additional for loops or conditional statements.</span></li>\n",
    "\t<li><span style=\"font-size:16px;\">List comprehensions can be used for filtering, transforming, or combining elements from the original iterable.</span></li>\n",
    "\t<li><span style=\"font-size:16px;\">Example: <code>[x * 2 for x in range(5)]</code> generates a new list with each element doubled: <code>[0, 2, 4, 6, 8]</code>.</span></li>\n",
    "</ul>"
   ]
  },
  {
   "cell_type": "code",
   "execution_count": null,
   "id": "deb220e1-0dee-4b5d-9f2c-d49b3b94c58b",
   "metadata": {
    "tags": []
   },
   "outputs": [],
   "source": []
  },
  {
   "cell_type": "markdown",
   "id": "427d1106-b841-4672-a886-2c7c6a780197",
   "metadata": {},
   "source": [
    "<p><span style=\"font-size:16px;\">Challenge 1: Shopping List Organizer Write a program that allows the user to manage their shopping list. The program should provide the following functionalities:</span></p>\n",
    "\n",
    "<ul>\n",
    "\t<li><span style=\"font-size:16px;\">Add items to the shopping list.</span></li>\n",
    "\t<li><span style=\"font-size:16px;\">Remove items from the shopping list.</span></li>\n",
    "\t<li><span style=\"font-size:16px;\">Print the current shopping list.</span></li>\n",
    "\t<li><span style=\"font-size:16px;\">Print a slice of the shopping list based on a start and end index.</span></li>\n",
    "</ul>"
   ]
  },
  {
   "cell_type": "code",
   "execution_count": null,
   "id": "02364ec7-9273-4739-8015-a18b07cbb941",
   "metadata": {
    "jupyter": {
     "source_hidden": true
    },
    "tags": []
   },
   "outputs": [],
   "source": [
    "shopping_list = []\n",
    "\n",
    "while True:\n",
    "    print(\"\\nShopping List Organizer\")\n",
    "    print(\"1. Add item\")\n",
    "    print(\"2. Remove item\")\n",
    "    print(\"3. Print shopping list\")\n",
    "    print(\"4. Print slice of shopping list\")\n",
    "    print(\"0. Quit\")\n",
    "\n",
    "    choice = input(\"Enter your choice: \")\n",
    "\n",
    "    if choice == \"1\":\n",
    "        item = input(\"Enter the item: \")\n",
    "        shopping_list.append(item)\n",
    "        print(\"Item added to the shopping list.\")\n",
    "    elif choice == \"2\":\n",
    "        item = input(\"Enter the item to remove: \")\n",
    "        if item in shopping_list:\n",
    "            shopping_list.remove(item)\n",
    "            print(\"Item removed from the shopping list.\")\n",
    "        else:\n",
    "            print(\"Item not found in the shopping list.\")\n",
    "    elif choice == \"3\":\n",
    "        print(\"Shopping List:\")\n",
    "        for item in shopping_list:\n",
    "            print(item)\n",
    "    elif choice == \"4\":\n",
    "        start = int(input(\"Enter the start index: \"))\n",
    "        end = int(input(\"Enter the end index: \"))\n",
    "        print(\"Slice of Shopping List:\")\n",
    "        for item in shopping_list[start:end]:\n",
    "            print(item)\n",
    "    elif choice == \"0\":\n",
    "        break\n",
    "    else:\n",
    "        print(\"Invalid choice. Please try again.\")"
   ]
  },
  {
   "cell_type": "code",
   "execution_count": null,
   "id": "0bbc773f-9ce1-41b4-bed7-18d1a8f8b84e",
   "metadata": {
    "tags": []
   },
   "outputs": [],
   "source": [
    " "
   ]
  },
  {
   "cell_type": "markdown",
   "id": "bcf46241-2cdc-4649-afd7-b581271569a4",
   "metadata": {},
   "source": [
    "<p><span style=\"font-size:16px;\">Challenge 2: Number Squares Write a program that generates a list of squares of numbers from 1 to 10 using list comprehension. The program should print the resulting list. It should be completed in 2 statements (2 lines of code).</span></p>"
   ]
  },
  {
   "cell_type": "code",
   "execution_count": null,
   "id": "fd5d50fa-8960-4046-931b-3d720ca3bccb",
   "metadata": {
    "jupyter": {
     "source_hidden": true
    },
    "tags": []
   },
   "outputs": [],
   "source": [
    "squares = [x**2 for x in range(1, 11)]\n",
    "print(\"Number Squares:\", squares)"
   ]
  },
  {
   "cell_type": "code",
   "execution_count": null,
   "id": "d11f890e-73b8-4bbf-a904-3de8971ec598",
   "metadata": {
    "tags": []
   },
   "outputs": [],
   "source": []
  },
  {
   "cell_type": "markdown",
   "id": "7de345f0-ff2f-44a5-951b-fccbaccd9585",
   "metadata": {
    "tags": []
   },
   "source": [
    "<h2>Introduction to tuples and their immutability</h2>"
   ]
  },
  {
   "cell_type": "markdown",
   "id": "c4b5185d-ec37-4f77-8aaf-ce2d016879be",
   "metadata": {},
   "source": [
    "<ol>\n",
    "\t<li><span style=\"font-size:16px;\">Definition and Syntax:</span></li>\n",
    "</ol>\n",
    "\n",
    "<ul>\n",
    "\t<li><span style=\"font-size:16px;\">Tuples are defined using parentheses () or without any delimiters if the context allows.</span></li>\n",
    "\t<li><span style=\"font-size:16px;\">Elements in a tuple are separated by commas.</span></li>\n",
    "\t<li><span style=\"font-size:16px;\">Example: <code>my_tuple = (1, 2, 3)</code> or <code>my_tuple = 1, 2, 3</code></span></li>\n",
    "</ul>"
   ]
  },
  {
   "cell_type": "code",
   "execution_count": null,
   "id": "ecd0f51a-778b-4ca7-85a7-de87e7e286cd",
   "metadata": {
    "tags": []
   },
   "outputs": [],
   "source": []
  },
  {
   "cell_type": "markdown",
   "id": "c3e935fc-6a8d-452b-8785-ca88ccbf56af",
   "metadata": {},
   "source": [
    "<ol start=\"2\">\n",
    "\t<li><span style=\"font-size:16px;\">Immutable Nature:</span></li>\n",
    "</ol>\n",
    "\n",
    "<ul>\n",
    "\t<li><span style=\"font-size:16px;\">The key characteristic of tuples is immutability, which means once a tuple is created, its elements cannot be modified, added, or removed.</span></li>\n",
    "\t<li><span style=\"font-size:16px;\">Attempts to modify a tuple will result in a TypeError</span></li>\n",
    "</ul>"
   ]
  },
  {
   "cell_type": "code",
   "execution_count": null,
   "id": "64eb3844-389f-42b3-8ec6-515a2d72a0bc",
   "metadata": {
    "tags": []
   },
   "outputs": [],
   "source": [
    "\n"
   ]
  },
  {
   "cell_type": "markdown",
   "id": "3fb10f24-743e-4e1f-acce-1bc4c9b7da13",
   "metadata": {},
   "source": [
    "<ol start=\"3\">\n",
    "\t<li><span style=\"font-size:16px;\">Accessing Elements:</span></li>\n",
    "</ol>\n",
    "\n",
    "<ul>\n",
    "\t<li><span style=\"font-size:16px;\">Individual elements of a tuple can be accessed using indexing, similar to lists.</span></li>\n",
    "\t<li><span style=\"font-size:16px;\">Indexing in tuples is zero-based, meaning the first element has an index of 0.</span></li>\n",
    "\t<li><span style=\"font-size:16px;\">Example: <code>print(my_tuple[0])</code> will output <code>1</code></span></li>\n",
    "</ul>"
   ]
  },
  {
   "cell_type": "code",
   "execution_count": null,
   "id": "f53bcd4c-8af3-4410-87aa-6c778568ecef",
   "metadata": {
    "tags": []
   },
   "outputs": [],
   "source": []
  },
  {
   "cell_type": "markdown",
   "id": "8b874727-98ac-465f-8e5f-4e82877d2cf4",
   "metadata": {},
   "source": [
    "<ol start=\"4\">\n",
    "\t<li><span style=\"font-size:16px;\">Tuple Operations:</span></li>\n",
    "</ol>\n",
    "\n",
    "<ul>\n",
    "\t<li><span style=\"font-size:16px;\">Tuples support several operations, including concatenation, repetition, and length calculation.</span></li>\n",
    "\t<li><span style=\"font-size:16px;\">Concatenation: Tuples can be concatenated using the <code>+</code> operator.</span></li>\n",
    "\t<li><span style=\"font-size:16px;\">Repetition: Tuples can be repeated using the <code>*</code> operator.</span></li>\n",
    "\t<li><span style=\"font-size:16px;\">Length: The number of elements in a tuple can be obtained using the <code>len()</code> function.</span></li>\n",
    "</ul>"
   ]
  },
  {
   "cell_type": "code",
   "execution_count": null,
   "id": "0255d3b4-fcbf-4d72-93f7-19bce037f5b5",
   "metadata": {
    "tags": []
   },
   "outputs": [],
   "source": []
  },
  {
   "cell_type": "markdown",
   "id": "0d081c65-1fad-4122-b7d8-4733b10d45be",
   "metadata": {},
   "source": [
    "<ol start=\"5\">\n",
    "\t<li><span style=\"font-size:16px;\">Tuple Packing and Unpacking:</span></li>\n",
    "</ol>\n",
    "\n",
    "<ul>\n",
    "\t<li><span style=\"font-size:16px;\">Tuple packing refers to creating a tuple by assigning multiple values separated by commas.</span></li>\n",
    "\t<li><span style=\"font-size:16px;\">Tuple unpacking involves assigning the elements of a tuple to multiple variables.</span></li>\n",
    "</ul>"
   ]
  },
  {
   "cell_type": "code",
   "execution_count": null,
   "id": "a7f0ff6d-adf1-4a08-92df-c5572aad25c5",
   "metadata": {
    "tags": []
   },
   "outputs": [],
   "source": []
  },
  {
   "cell_type": "markdown",
   "id": "79788c38-70b9-4d2f-acb2-4107040048dc",
   "metadata": {},
   "source": [
    "<ol start=\"6\">\n",
    "\t<li><span style=\"font-size:16px;\">Use Cases:</span></li>\n",
    "</ol>\n",
    "\n",
    "<ul>\n",
    "\t<li><span style=\"font-size:16px;\">Tuples are commonly used when you want to store related data that should not be modified after creation, such as coordinates, database records, or function return values.</span></li>\n",
    "\t<li><span style=\"font-size:16px;\">Tuples are also used in cases where immutability is desired to ensure data integrity or to make the code more robust.</span></li>\n",
    "</ul>"
   ]
  },
  {
   "cell_type": "code",
   "execution_count": null,
   "id": "a785bd9b-bcd6-4c36-9526-793f5fc623d5",
   "metadata": {},
   "outputs": [],
   "source": []
  },
  {
   "cell_type": "markdown",
   "id": "c0fc2503-509d-4f90-b373-98cabb305bba",
   "metadata": {},
   "source": [
    "<p><span style=\"font-size:16px;\">Challenge: Common Elements in Tuples<br />\n",
    "Write a program that finds the common elements between two given tuples and stores them in a new tuple. The program should then print the common elements tuple.</span></p>"
   ]
  },
  {
   "cell_type": "code",
   "execution_count": null,
   "id": "cb51dd34-7990-4abe-8875-cadb92b42fe5",
   "metadata": {
    "jupyter": {
     "source_hidden": true
    },
    "tags": []
   },
   "outputs": [],
   "source": [
    "tuple1 = (1,2,6,8,3,5,8)\n",
    "tuple2 = (8,4,7,0,10,4,6)\n",
    "\n",
    "common_elements = tuple(item for item in tuple1 if item in tuple2)\n",
    "\n",
    "print(\"Common Elements Tuple:\", common_elements)"
   ]
  },
  {
   "cell_type": "code",
   "execution_count": null,
   "id": "5b1a26a3-6768-480c-8c08-1abcfa00f241",
   "metadata": {
    "tags": []
   },
   "outputs": [],
   "source": []
  },
  {
   "cell_type": "markdown",
   "id": "2f356d1d-3ba4-4783-b452-7ebdf27d252e",
   "metadata": {
    "tags": []
   },
   "source": [
    "<h2>Working with dictionaries: key-value pairs and dictionary methods</h2>"
   ]
  },
  {
   "cell_type": "markdown",
   "id": "6d12cc6b-4014-4434-92ba-45d24948995b",
   "metadata": {},
   "source": [
    "<p><span style=\"font-size:16px;\">Understanding dictionaries in Python allows you to efficiently store and access data using key-value pairs. Dictionaries provide a flexible and powerful way to manage data, making them an essential data structure in Python programming.</span></p>\n",
    "\n",
    "<ol>\n",
    "\t<li><span style=\"font-size:16px;\">Definition and Syntax:</span></li>\n",
    "</ol>\n",
    "\n",
    "<ul>\n",
    "\t<li><span style=\"font-size:16px;\">Dictionaries are unordered collections of key-value pairs.</span></li>\n",
    "\t<li><span style=\"font-size:16px;\">Each key-value pair is separated by a colon (:), and different pairs are separated by commas (,).</span></li>\n",
    "\t<li><span style=\"font-size:16px;\">Dictionaries are defined using curly braces {} or the <code>dict()</code> constructor.</span></li>\n",
    "\t<li><span style=\"font-size:16px;\">Example: <code>my_dict = {&quot;name&quot;: &quot;John&quot;, &quot;age&quot;: 25, &quot;city&quot;: &quot;New York&quot;}</code></span></li>\n",
    "</ul>"
   ]
  },
  {
   "cell_type": "code",
   "execution_count": null,
   "id": "f077dc62-1d5b-4b97-a9b0-1ed251a33376",
   "metadata": {
    "tags": []
   },
   "outputs": [],
   "source": []
  },
  {
   "cell_type": "markdown",
   "id": "ac34805c-9bea-4416-8004-5534e8c8f68b",
   "metadata": {},
   "source": [
    "<ol start=\"2\">\n",
    "\t<li><span style=\"font-size:16px;\">Accessing Values:</span></li>\n",
    "</ol>\n",
    "\n",
    "<ul>\n",
    "\t<li><span style=\"font-size:16px;\">Dictionary values can be accessed by referring to their corresponding keys.</span></li>\n",
    "\t<li><span style=\"font-size:16px;\">Values are retrieved by using square brackets [] and providing the key inside the brackets.</span></li>\n",
    "\t<li><span style=\"font-size:16px;\">Example: <code>print(my_dict[&quot;name&quot;])</code> will output <code>&#39;John&#39;</code>.</span></li>\n",
    "</ul>"
   ]
  },
  {
   "cell_type": "code",
   "execution_count": null,
   "id": "e0f02ad1-96a2-4bf3-84ab-90584e36ecf5",
   "metadata": {
    "tags": []
   },
   "outputs": [],
   "source": []
  },
  {
   "cell_type": "markdown",
   "id": "735cb6d8-1b97-4164-93e7-f88a6de0b9f0",
   "metadata": {},
   "source": [
    "<ol start=\"3\">\n",
    "\t<li><span style=\"font-size:16px;\">Modifying Values:</span></li>\n",
    "</ol>\n",
    "\n",
    "<ul>\n",
    "\t<li><span style=\"font-size:16px;\">Dictionary values can be modified by assigning a new value to a specific key.</span></li>\n",
    "\t<li><span style=\"font-size:16px;\">If the key already exists, the value will be updated; otherwise, a new key-value pair will be added.</span></li>\n",
    "\t<li><span style=\"font-size:16px;\">Example: <code>my_dict[&quot;age&quot;] = 26</code> will update the value associated with the key <code>&#39;age&#39;</code> to <code>26</code>.</span></li>\n",
    "</ul>"
   ]
  },
  {
   "cell_type": "code",
   "execution_count": null,
   "id": "9ff25cb6-b64d-443d-b767-72b92e7d85ae",
   "metadata": {
    "tags": []
   },
   "outputs": [],
   "source": []
  },
  {
   "cell_type": "markdown",
   "id": "cc605279-bea0-4748-95b0-9992f6abb7b1",
   "metadata": {},
   "source": [
    "<ol start=\"4\">\n",
    "\t<li><span style=\"font-size:16px;\">Adding and Removing Items:</span></li>\n",
    "</ol>\n",
    "\n",
    "<ul>\n",
    "\t<li><span style=\"font-size:16px;\">Items can be added to dictionaries by assigning a value to a new key.</span></li>\n",
    "\t<li><span style=\"font-size:16px;\">Items can be removed from dictionaries using the <code>del</code> keyword followed by the key.</span></li>\n",
    "\t<li><span style=\"font-size:16px;\">Example:</span>\n",
    "\t<ul>\n",
    "\t\t<li><span style=\"font-size:16px;\">Adding: <code>my_dict[&quot;occupation&quot;] = &quot;Engineer&quot;</code> adds a new key-value pair to the dictionary.</span></li>\n",
    "\t\t<li><span style=\"font-size:16px;\">Removing: <code>del my_dict[&quot;city&quot;]</code> removes the key-value pair with the key <code>&#39;city&#39;</code>.</span></li>\n",
    "\t</ul>\n",
    "\t</li>\n",
    "</ul>"
   ]
  },
  {
   "cell_type": "code",
   "execution_count": null,
   "id": "6af123b4-19c6-4825-a150-8cbf89888106",
   "metadata": {
    "tags": []
   },
   "outputs": [],
   "source": []
  },
  {
   "cell_type": "markdown",
   "id": "cf1bcc86-49ac-4c6f-9b56-c33e546d6b05",
   "metadata": {},
   "source": [
    "<ol start=\"5\">\n",
    "\t<li><span style=\"font-size:16px;\">Dictionary Methods:</span></li>\n",
    "</ol>\n",
    "\n",
    "<ul>\n",
    "\t<li><span style=\"font-size:16px;\">Python provides various built-in methods to perform operations on dictionaries.</span></li>\n",
    "\t<li><span style=\"font-size:16px;\">Some common methods include <code>keys()</code> to retrieve all the keys, <code>values()</code> to retrieve all the values, and <code>items()</code> to retrieve key-value pairs as tuples.</span></li>\n",
    "\t<li><span style=\"font-size:16px;\">Example:</span>\n",
    "\t<ul>\n",
    "\t\t<li><span style=\"font-size:16px;\"><code>keys = my_dict.keys()</code> retrieves all the keys in the dictionary.</span></li>\n",
    "\t\t<li><span style=\"font-size:16px;\"><code>values = my_dict.values()</code> retrieves all the values in the dictionary.</span></li>\n",
    "\t\t<li><span style=\"font-size:16px;\"><code>items = my_dict.items()</code> retrieves key-value pairs as tuples.</span></li>\n",
    "\t</ul>\n",
    "\t</li>\n",
    "</ul>"
   ]
  },
  {
   "cell_type": "code",
   "execution_count": null,
   "id": "94a67500-efe6-42d8-ae42-3748c183d729",
   "metadata": {
    "tags": []
   },
   "outputs": [],
   "source": []
  },
  {
   "cell_type": "markdown",
   "id": "fddd142b-457a-4e53-bb41-0743004497b1",
   "metadata": {},
   "source": [
    "<ol start=\"6\">\n",
    "\t<li><span style=\"font-size:16px;\">Use Cases:</span></li>\n",
    "</ol>\n",
    "\n",
    "<ul>\n",
    "\t<li><span style=\"font-size:16px;\">Dictionaries are useful when you want to store and retrieve data based on specific keys rather than by position.</span></li>\n",
    "\t<li><span style=\"font-size:16px;\">They are commonly used for tasks such as storing configuration settings, representing JSON data, or mapping unique identifiers to corresponding values.</span></li>\n",
    "</ul>\n",
    "\n",
    "<p><span style=\"font-size:16px;\">Challenge: Student Grade Calculator Write a program that calculates the average grade for a group of students. The program should prompt the user to enter the names and grades of the students. Once the input is complete, the program should calculate the average grade and display the names of students who scored above the average.</span></p>"
   ]
  },
  {
   "cell_type": "code",
   "execution_count": null,
   "id": "c91ef4c7-5040-47df-a4f5-9dd862fedc1c",
   "metadata": {
    "jupyter": {
     "source_hidden": true
    },
    "tags": []
   },
   "outputs": [],
   "source": [
    "# Prompt the user for the number of students\n",
    "num_students = int(input(\"Enter the number of students: \"))\n",
    "\n",
    "# Create an empty dictionary to store student names and grades\n",
    "student_grades = {}\n",
    "\n",
    "# Read the names and grades of the students\n",
    "for i in range(num_students):\n",
    "    name = input(f\"Enter the name of student {i+1}: \")\n",
    "    grade = int(input(f\"Enter the grade of student {i+1}: \"))\n",
    "    student_grades[name] = grade\n",
    "\n",
    "# Calculate the average grade\n",
    "total_grades = sum(student_grades.values())\n",
    "average_grade = total_grades / num_students\n",
    "\n",
    "# Find the students above average\n",
    "above_average_students = [name for name, grade in student_grades.items() if grade > average_grade]\n",
    "\n",
    "# Display the average grade and the students above average\n",
    "print(\"Average Grade:\", average_grade)\n",
    "print(\"Students Above Average:\")\n",
    "for student in above_average_students:\n",
    "    print(student)"
   ]
  },
  {
   "cell_type": "code",
   "execution_count": null,
   "id": "18a60200-20cf-4b43-aa9c-7acee8e7d5eb",
   "metadata": {},
   "outputs": [],
   "source": []
  }
 ],
 "metadata": {
  "kernelspec": {
   "display_name": "Python 3 (ipykernel)",
   "language": "python",
   "name": "python3"
  },
  "language_info": {
   "codemirror_mode": {
    "name": "ipython",
    "version": 3
   },
   "file_extension": ".py",
   "mimetype": "text/x-python",
   "name": "python",
   "nbconvert_exporter": "python",
   "pygments_lexer": "ipython3",
   "version": "3.11.3"
  }
 },
 "nbformat": 4,
 "nbformat_minor": 5
}

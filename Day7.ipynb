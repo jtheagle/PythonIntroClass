{
 "cells": [
  {
   "cell_type": "markdown",
   "id": "efed4835-684c-464b-abdb-3f81f976b4fd",
   "metadata": {},
   "source": [
    "<h1>Class 7: Advanced Data Structures (Sets and Queues)</h1>"
   ]
  },
  {
   "cell_type": "markdown",
   "id": "50d4bb20-4e6a-4886-8d25-ded66c9e619e",
   "metadata": {},
   "source": [
    "<h2>Understanding sets and their operations</h2>"
   ]
  },
  {
   "cell_type": "markdown",
   "id": "6f567bce-b7ed-4a03-932f-0f2f2674a74d",
   "metadata": {},
   "source": [
    "<p><span style=\"font-size:16px;\">Sets in Python are useful when dealing with collections of unique elements and performing operations such as set operations and membership checks. They provide a convenient way to work with distinct values and perform various set-related operations efficiently.</span></p>"
   ]
  },
  {
   "cell_type": "markdown",
   "id": "e6934f78-f894-4cbe-af7d-f4a2c5ab2baf",
   "metadata": {},
   "source": [
    "<ol>\n",
    "\t<li><span style=\"font-size:16px;\">Creating a Set:</span></li>\n",
    "</ol>\n",
    "\n",
    "<ul style=\"margin-left: 40px;\">\n",
    "\t<li><span style=\"font-size:16px;\">Sets can be created by directly specifying elements within curly braces or by using the <code>set()</code> constructor.</span></li>\n",
    "\t<li><span style=\"font-size:16px;\">Sets are unordered, so you cannot access elements by their index.</span></li>\n",
    "\t<li><span style=\"font-size:16px;\">However, you can check if an element is present in a set using the <code>in</code> keyword.</span></li>\n",
    "</ul>\n"
   ]
  },
  {
   "cell_type": "code",
   "execution_count": null,
   "id": "e954cc67-5125-48fd-a11b-179fe0d34b18",
   "metadata": {},
   "outputs": [],
   "source": []
  },
  {
   "cell_type": "markdown",
   "id": "0382f804-4802-4e85-b9bb-ca97c5f99bf4",
   "metadata": {},
   "source": [
    "<h2>Working with set methods and set operations</h2>"
   ]
  },
  {
   "cell_type": "markdown",
   "id": "000b5969-2b40-4609-a815-8ef424d3170b",
   "metadata": {},
   "source": [
    "<ol start=\"1\">\n",
    "\t<li><span style=\"font-size:16px;\">Set Operations:</span></li>\n",
    "</ol>\n",
    "\n",
    "<ul style=\"margin-left: 40px;\">\n",
    "\t<li>\n",
    "\t<p><span style=\"font-size:16px;\">Sets support various operations, including union, intersection, difference, and symmetric difference.</span></p>\n",
    "\t</li>\n",
    "\t<li>\n",
    "\t<p><span style=\"font-size:16px;\">Union (<code>|</code> or <code>union()</code>): Returns a new set that contains all unique elements from both sets.</span></p>\n",
    "\t</li>\n",
    "\t<li>\n",
    "\t<p><span style=\"font-size:16px;\">Intersection (<code>&amp;</code> or <code>intersection()</code>): Returns a new set that contains common elements between two sets.</span></p>\n",
    "\t</li>\n",
    "\t<li>\n",
    "\t<p><span style=\"font-size:16px;\">Difference (<code>-</code> or <code>difference()</code>): Returns a new set that contains elements present in the first set but not in the second set.</span></p>\n",
    "\t</li>\n",
    "\t<li>\n",
    "\t<p><span style=\"font-size:16px;\">Symmetric Difference (<code>^</code> or <code>symmetric_difference()</code>): Returns a new set that contains elements present in either of the sets, but not in both.</span></p>\n",
    "\t</li>\n",
    "</ul>\n"
   ]
  },
  {
   "cell_type": "code",
   "execution_count": null,
   "id": "9e74a9b3-7c66-4fb4-aee0-afcb5c643d09",
   "metadata": {},
   "outputs": [],
   "source": []
  },
  {
   "cell_type": "markdown",
   "id": "ffdea0d5-dfa9-49e0-8e51-fd8e3262181f",
   "metadata": {},
   "source": [
    "<ol start=\"2\">\n",
    "\t<li><span style=\"font-size:16px;\">Modifying Sets:</span></li>\n",
    "</ol>\n",
    "\n",
    "<ul style=\"margin-left: 40px;\">\n",
    "\t<li><span style=\"font-size:16px;\">Sets are mutable, meaning you can add or remove elements from a set.</span></li>\n",
    "\t<li><span style=\"font-size:16px;\">Use the <code>add()</code> method to add a single element to a set.</span></li>\n",
    "\t<li><span style=\"font-size:16px;\">Use the <code>update()</code> method to add multiple elements from another set or an iterable.</span></li>\n",
    "\t<li><span style=\"font-size:16px;\">Use the <code>remove()</code> or <code>discard()</code> method to remove an element from a set.</span></li>\n",
    "</ul>"
   ]
  },
  {
   "cell_type": "code",
   "execution_count": null,
   "id": "ac03d994-f1c6-4fb8-9a2d-1d5b1424ca1c",
   "metadata": {},
   "outputs": [],
   "source": []
  },
  {
   "cell_type": "markdown",
   "id": "63d8ccce-74a1-41f6-88e0-6d514a3c8450",
   "metadata": {},
   "source": [
    "<h2>Introduction to queues and their implementation in Python</h2>"
   ]
  },
  {
   "cell_type": "markdown",
   "id": "0b437579-2594-453f-a7a1-d5f4d11b05f2",
   "metadata": {},
   "source": [
    "<p><span style=\"font-size:16px;\">In computer science, a queue is a linear data structure that follows the FIFO (First-In-First-Out) principle. It operates on the principle that elements are added to the end of the queue and removed from the front.&nbsp;Queues are commonly used in various applications, such as job scheduling, breadth-first search algorithms, and handling asynchronous tasks.</span></p>"
   ]
  },
  {
   "cell_type": "markdown",
   "id": "b8770e21-995e-48e1-a4ea-7dd127f0283c",
   "metadata": {},
   "source": [
    "<ol>\n",
    "\t<li><span style=\"font-size:16px;\">Queue Operations:</span></li>\n",
    "</ol>\n",
    "\n",
    "<ul>\n",
    "\t<li><span style=\"font-size:16px;\">Enqueue: Adds an element to the end of the queue.</span></li>\n",
    "\t<li><span style=\"font-size:16px;\">Dequeue: Removes an element from the front of the queue.</span></li>\n",
    "\t<li><span style=\"font-size:16px;\">Peek/Front: Returns the element at the front of the queue without removing it.</span></li>\n",
    "\t<li><span style=\"font-size:16px;\">IsEmpty: Checks if the queue is empty.</span></li>\n",
    "\t<li><span style=\"font-size:16px;\">Size: Returns the number of elements in the queue.</span></li>\n",
    "</ul>\n",
    "\n",
    "<ol start=\"2\">\n",
    "\t<li><span style=\"font-size:16px;\">Implementing a Queue:</span></li>\n",
    "</ol>\n",
    "\n",
    "<ul>\n",
    "\t<li>\n",
    "\t<p><span style=\"font-size:16px;\">Python offers several ways to implement a queue, including using lists, collections.deque, or the queue module.</span></p>\n",
    "\t</li>\n",
    "\t<li>\n",
    "\t<p><span style=\"font-size:16px;\">Using Lists:</span><br />\n",
    "\t&nbsp; &nbsp; -&nbsp;<span style=\"font-size: 16px;\">You can use a Python list to implement a basic queue.</span><br />\n",
    "\t&nbsp; &nbsp; -&nbsp;<span style=\"font-size:16px;\">Append elements to the end of the list and pop elements from the front.</span></p>\n",
    "\t</li>\n",
    "</ul>\n"
   ]
  },
  {
   "cell_type": "code",
   "execution_count": null,
   "id": "74b8a0b2-4471-4087-8f0f-1796a9306b13",
   "metadata": {},
   "outputs": [],
   "source": []
  },
  {
   "cell_type": "markdown",
   "id": "a7de3069-95ab-4e1f-8ddc-cd555b0e4a52",
   "metadata": {},
   "source": [
    "<h2>Working with queue data structure using built-in modules</h2>"
   ]
  },
  {
   "cell_type": "markdown",
   "id": "1d6e01ac-a3c9-44ad-8c12-6dd94ab8b437",
   "metadata": {},
   "source": [
    "<ol>\n",
    "\t<li><span style=\"font-size:16px;\">Using the queue module:</span></li>\n",
    "</ol>\n",
    "\n",
    "<ul style=\"margin-left: 40px;\">\n",
    "\t<li><span style=\"font-size:16px;\">The <code>queue</code> module in Python provides the <code>Queue</code> class that can be used to implement a queue.</span></li>\n",
    "\t<li><span style=\"font-size:16px;\">The <code>put()</code> and <code>get()</code> methods are used for enqueue and dequeue operations, respectively.</span></li>\n",
    "</ul>"
   ]
  },
  {
   "cell_type": "code",
   "execution_count": null,
   "id": "001233a6-12ac-446f-9799-464b343261d2",
   "metadata": {},
   "outputs": [],
   "source": []
  },
  {
   "cell_type": "markdown",
   "id": "0d177b90-254f-4b8a-b50e-a9d44aabbb8d",
   "metadata": {},
   "source": [
    "<ol start=\"2\">\n",
    "\t<li><span style=\"font-size:16px;\">Using collections.deque:</span></li>\n",
    "</ol>\n",
    "\n",
    "<ul style=\"margin-left: 40px;\">\n",
    "\t<li><span style=\"font-size:16px;\">The <code>collections</code> module provides a <code>deque</code> class that can be used to implement a queue efficiently.</span></li>\n",
    "\t<li><span style=\"font-size:16px;\">The <code>append()</code> and <code>popleft()</code> methods are used for enqueue and dequeue operations, respectively.</span></li>\n",
    "</ul>"
   ]
  },
  {
   "cell_type": "code",
   "execution_count": null,
   "id": "f65eb243-4aa4-47ef-aa57-b972679b7fb0",
   "metadata": {},
   "outputs": [],
   "source": []
  },
  {
   "cell_type": "markdown",
   "id": "fce2e465-b842-495b-96e9-8164d28ade3c",
   "metadata": {},
   "source": [
    "<p><span style=\"font-size:16px;\">Challenge 1: Unique Element Queue </span></p>\n",
    "\n",
    "<p><span style=\"font-size:16px;\">Implement a class called <code>UniqueElementQueue</code> that maintains a queue of unique elements. The class should have the following methods:</span></p>\n",
    "\n",
    "<ul>\n",
    "\t<li><span style=\"font-size:16px;\"><code>enqueue(element)</code>: Adds the element to the queue if it is not already present.</span></li>\n",
    "\t<li><span style=\"font-size:16px;\"><code>dequeue()</code>: Removes and returns the front element from the queue.</span></li>\n",
    "\t<li><span style=\"font-size:16px;\"><code>is_empty()</code>: Returns <code>True</code> if the queue is empty, <code>False</code> otherwise.</span></li>\n",
    "</ul>"
   ]
  },
  {
   "cell_type": "code",
   "execution_count": null,
   "id": "793726da-33f9-4c58-afd2-9171e06b7eb0",
   "metadata": {
    "jupyter": {
     "source_hidden": true
    },
    "tags": []
   },
   "outputs": [],
   "source": [
    "from collections import deque\n",
    "\n",
    "class UniqueElementQueue:\n",
    "    def __init__(self):\n",
    "        self.queue = deque()\n",
    "        self.elements = set()\n",
    "\n",
    "    def enqueue(self, element):\n",
    "        if element not in self.elements:\n",
    "            self.queue.append(element)\n",
    "            self.elements.add(element)\n",
    "\n",
    "    def dequeue(self):\n",
    "        if self.queue:\n",
    "            element = self.queue.popleft()\n",
    "            self.elements.remove(element)\n",
    "            return element\n",
    "\n",
    "    def is_empty(self):\n",
    "        return len(self.queue) == 0\n",
    "\n",
    "# Usage:\n",
    "q = UniqueElementQueue()\n",
    "q.enqueue(10)\n",
    "q.enqueue(20)\n",
    "q.enqueue(10)  # Ignored since 10 is already in the queue\n",
    "\n",
    "print(q.dequeue())  # Output: 10\n",
    "print(q.is_empty())  # Output: False\n",
    "print(q.dequeue())  # Output: 20\n",
    "print(q.is_empty())  # Output: True\n"
   ]
  },
  {
   "cell_type": "code",
   "execution_count": null,
   "id": "1d1fd140-c8a3-4d65-bc3b-9a9c0672ac4e",
   "metadata": {},
   "outputs": [],
   "source": []
  },
  {
   "cell_type": "markdown",
   "id": "959b3931-9562-49b8-9c16-106fcff9eabb",
   "metadata": {},
   "source": [
    "<p><span style=\"font-size:16px;\">Challenge 2: Set Intersection </span></p>\n",
    "\n",
    "<p><span style=\"font-size:16px;\">Write a function called <code>set_intersection</code> that takes two lists as input and returns a set containing the common elements between the two lists. You cannot use the built-in set intersection methods.</span></p>"
   ]
  },
  {
   "cell_type": "code",
   "execution_count": null,
   "id": "0d27b11a-1352-447a-b23e-03ac69dad705",
   "metadata": {
    "jupyter": {
     "source_hidden": true
    },
    "tags": []
   },
   "outputs": [],
   "source": [
    "def set_intersection(list1, list2):\n",
    "    set1 = set(list1)\n",
    "    common_elements = set()\n",
    "\n",
    "    for element in list2:\n",
    "        if element in set1:\n",
    "            common_elements.add(element)\n",
    "\n",
    "    return common_elements\n",
    "\n",
    "# Usage:\n",
    "list1 = [1, 2, 3, 4, 5]\n",
    "list2 = [4, 5, 6, 7, 8]\n",
    "result = set_intersection(list1, list2)\n",
    "print(result)  # Output: {4, 5}\n"
   ]
  },
  {
   "cell_type": "code",
   "execution_count": null,
   "id": "ec2be882-5868-4cf8-a75f-6e53656289d8",
   "metadata": {},
   "outputs": [],
   "source": []
  }
 ],
 "metadata": {
  "kernelspec": {
   "display_name": "Python 3 (ipykernel)",
   "language": "python",
   "name": "python3"
  },
  "language_info": {
   "codemirror_mode": {
    "name": "ipython",
    "version": 3
   },
   "file_extension": ".py",
   "mimetype": "text/x-python",
   "name": "python",
   "nbconvert_exporter": "python",
   "pygments_lexer": "ipython3",
   "version": "3.11.3"
  }
 },
 "nbformat": 4,
 "nbformat_minor": 5
}

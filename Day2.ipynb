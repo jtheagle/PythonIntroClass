{
 "cells": [
  {
   "cell_type": "markdown",
   "metadata": {},
   "source": [
    "<h1>Class 2: Control Flow and Looping</h1>"
   ]
  },
  {
   "cell_type": "markdown",
   "metadata": {},
   "source": [
    "<h2>Introduction to control flow statements: if-else, switch-case, and loops</h2>"
   ]
  },
  {
   "cell_type": "markdown",
   "metadata": {},
   "source": [
    "<p><span style=\"font-size:16px;\">If-Else Statements:</span></p>\n",
    "\n",
    "<ul>\n",
    "\t<li><span style=\"font-size:16px;\">Introduction to conditional statements: Explain the concept of making decisions in code based on certain conditions.</span></li>\n",
    "\t<li><span style=\"font-size:16px;\">Syntax of if-else statements: Cover the structure of if-else statements, which allows executing different blocks of code based on a condition.</span></li>\n",
    "\t<li><span style=\"font-size:16px;\">Comparison operators: Introduce the different comparison operators (e.g., ==, !=, &gt;, &lt;, &gt;=, &lt;=) to compare values in conditions.</span></li>\n",
    "\t<li><span style=\"font-size:16px;\">Nested if-else statements: Demonstrate how to have multiple if-else statements nested inside each other for more complex conditions.</span></li>\n",
    "\t<li><span style=\"font-size:16px;\">Elif statement: Explain the use of the elif statement as an extension of if-else statements to check multiple conditions.</span></li>\n",
    "</ul>\n"
   ]
  },
  {
   "cell_type": "code",
   "execution_count": null,
   "metadata": {
    "tags": []
   },
   "outputs": [],
   "source": []
  },
  {
   "cell_type": "markdown",
   "metadata": {
    "tags": []
   },
   "source": [
    "<p><span style=\"font-size:16px;\">Switch-Case (match case):</span></p>\n",
    "\n",
    "<ul>\n",
    "\t<li><span style=\"font-size:16px;\">match case looks like a switch statements in c based languages.</span></li>\n",
    "\t<li><span style=\"font-size:16px;\">Functionally similar to if-else statements, but they require less code when defining the cases.</span></li>\n",
    "\t<li><span style=\"font-size:16px;\">match case statement didn't exist until Python 3.10</span></li>\n",
    "</ul>\n"
   ]
  },
  {
   "cell_type": "code",
   "execution_count": null,
   "metadata": {
    "tags": []
   },
   "outputs": [],
   "source": []
  },
  {
   "cell_type": "markdown",
   "metadata": {
    "tags": []
   },
   "source": [
    "<p><span style=\"font-size:16px;\">Loops:</span></p>\n",
    "\n",
    "<ul>\n",
    "\t<li><span style=\"font-size:16px;\">While loop: Introduce the while loop, which repeats a block of code while a condition is true.</span></li>\n",
    "\t<li><span style=\"font-size:16px;\">Syntax and structure of a while loop: Explain the structure of a while loop, including the condition and the indented block of code.</span></li>\n",
    "\t<li><span style=\"font-size:16px;\">Infinite loops and loop control statements: Discuss how to create infinite loops and how to break out of loops using the <code>break</code> statement or skip iterations using the <code>continue</code> statement.</span></li>\n",
    "\t<li><span style=\"font-size:16px;\">For loop: Introduce the for loop, which iterates over a sequence (such as a list, string, or range of numbers).</span></li>\n",
    "\t<li><span style=\"font-size:16px;\">Syntax and structure of a for loop: Explain the structure of a for loop, including the iteration variable, the sequence to iterate over, and the indented block of code.</span></li>\n",
    "\t<li><span style=\"font-size:16px;\">Range function: Discuss the range function and its usage in for loops to generate a sequence of numbers.</span></li>\n",
    "\t<li><span style=\"font-size:16px;\">Nested loops: Demonstrate the concept of nested loops, where one loop is present inside another loop, and explain their usage.</span></li>\n",
    "</ul>\n"
   ]
  },
  {
   "cell_type": "code",
   "execution_count": null,
   "metadata": {
    "tags": []
   },
   "outputs": [],
   "source": []
  },
  {
   "cell_type": "markdown",
   "metadata": {
    "tags": []
   },
   "source": [
    "<h2>Understanding conditional statements and decision-making in Python</h2>"
   ]
  },
  {
   "cell_type": "markdown",
   "metadata": {},
   "source": [
    "<ul>\n",
    "\t<li>Recap if-elif-else statements</li>\n",
    "\t<li>Short Hand If statements</li>\n",
    "\t<li>Explain&nbsp;Ternary operators:&nbsp;provide a concise way to write simple if-else statements in a single line</li>\n",
    "\t<li>pass Statement - Used as a no operation statement</li>\n",
    "</ul>"
   ]
  },
  {
   "cell_type": "code",
   "execution_count": null,
   "metadata": {
    "tags": []
   },
   "outputs": [],
   "source": []
  },
  {
   "cell_type": "markdown",
   "metadata": {},
   "source": [
    "<h2>Iteration and looping using for and while loops</h2>"
   ]
  },
  {
   "cell_type": "markdown",
   "metadata": {},
   "source": [
    "<ol>\n",
    "\t<li><span style=\"font-size:14px;\">Introduction to Loops:</span></li>\n",
    "</ol>\n",
    "\n",
    "<ul>\n",
    "\t<li><span style=\"font-size:14px;\">Explain the concept of loops: Loops allow executing a block of code repeatedly until a certain condition is met.</span></li>\n",
    "\t<li><span style=\"font-size:14px;\">Emphasize the importance of loops in automating repetitive tasks and iterating over collections of data.</span></li>\n",
    "</ul>\n",
    "\n",
    "<ol start=\"2\">\n",
    "\t<li><span style=\"font-size:14px;\">While Loop:</span></li>\n",
    "</ol>\n",
    "\n",
    "<ul>\n",
    "\t<li><span style=\"font-size:14px;\">Syntax and structure of a while loop: Discuss the structure of a while loop, which executes a block of code as long as a specified condition is true.</span></li>\n",
    "\t<li><span style=\"font-size:14px;\">Example: Provide a simple example demonstrating the usage of a while loop to repeatedly execute code until a condition is no longer true.</span></li>\n",
    "\t<li><span style=\"font-size:14px;\">Infinite loops: Highlight the risk of infinite loops and discuss techniques such as using break or modifying loop variables to break out of an infinite loop.</span></li>\n",
    "\t<li><span style=\"font-size:14px;\">Loop control statements: Introduce the usage of loop control statements like <code>break</code> and <code>continue</code> to modify the flow of a loop.</span></li>\n",
    "</ul>\n",
    "\n",
    "<ol start=\"3\">\n",
    "\t<li><span style=\"font-size:14px;\">For Loop:</span></li>\n",
    "</ol>\n",
    "\n",
    "<ul>\n",
    "\t<li><span style=\"font-size:14px;\">Syntax and structure of a for loop: Explain the structure of a for loop, which iterates over a sequence of elements such as lists, strings, or range of numbers.</span></li>\n",
    "\t<li><span style=\"font-size:14px;\">Example: Provide an example demonstrating the usage of a for loop to iterate over a sequence and perform specific operations on each element.</span></li>\n",
    "\t<li><span style=\"font-size:14px;\">Range function: Explain the range function and its usage in for loops to generate a sequence of numbers.</span></li>\n",
    "\t<li><span style=\"font-size:14px;\">Nested loops: Introduce the concept of nested loops, where one loop is present inside another loop, and explain their usage.</span></li>\n",
    "</ul>\n",
    "\n",
    "<ol start=\"4\">\n",
    "\t<li><span style=\"font-size:14px;\">Iterating Over Collections:</span></li>\n",
    "</ol>\n",
    "\n",
    "<ul>\n",
    "\t<li><span style=\"font-size:14px;\">Iterate over lists: Demonstrate how to iterate over the elements of a list using for loops and perform operations on each element.</span></li>\n",
    "\t<li><span style=\"font-size:14px;\">Iterate over strings: Explain how strings can be treated as sequences of characters, allowing iteration using for loops to process individual characters.</span></li>\n",
    "\t<li><span style=\"font-size:14px;\">Iterate over dictionaries: Discuss the usage of for loops to iterate over key-value pairs in dictionaries and perform operations based on each pair.</span></li>\n",
    "</ul>\n"
   ]
  },
  {
   "cell_type": "code",
   "execution_count": null,
   "metadata": {
    "tags": []
   },
   "outputs": [],
   "source": []
  },
  {
   "cell_type": "markdown",
   "metadata": {
    "tags": []
   },
   "source": [
    "<h2>Using break and continue statements in loops</h2>"
   ]
  },
  {
   "cell_type": "markdown",
   "metadata": {},
   "source": [
    "Challenge 1: Odd Number Finder\n",
    "Write a program that prompts the user to enter a number in a loop. The program should ignore even numbers but print odd numbers. Hint: use the continue statement to skip even numbers."
   ]
  },
  {
   "cell_type": "code",
   "execution_count": null,
   "metadata": {
    "jupyter": {
     "source_hidden": true
    },
    "tags": []
   },
   "outputs": [],
   "source": [
    "while True:\n",
    "    number = int(input(\"Enter a number (0 to quit): \"))\n",
    "    if number == 0:\n",
    "        break\n",
    "    if number % 2 == 0:\n",
    "        continue\n",
    "    print(number)\n",
    "\n",
    "print(\"Done\")"
   ]
  },
  {
   "cell_type": "code",
   "execution_count": null,
   "metadata": {},
   "outputs": [],
   "source": []
  },
  {
   "cell_type": "markdown",
   "metadata": {},
   "source": [
    "Challenge 2: Name Search\n",
    "Create a program that asks the user to enter a list of names (seperate names by a space). Iterate through the names, and if the name \"Alice\" is found, print \"Alice found!\" and exit the loop using the break statement. If the loop completes without finding \"Alice\", print \"Alice not found!\"."
   ]
  },
  {
   "cell_type": "code",
   "execution_count": null,
   "metadata": {
    "jupyter": {
     "source_hidden": true
    },
    "tags": []
   },
   "outputs": [],
   "source": [
    "names = input(\"Enter a list of names (separated by space): \").split(\" \")\n",
    "for name in names:\n",
    "    if name.title() == \"Alice\":\n",
    "        print(\"Alice found!\")\n",
    "        break  # exit the loop if \"Alice\" is found\n",
    "else:\n",
    "    print(\"Alice not found!\")"
   ]
  },
  {
   "cell_type": "code",
   "execution_count": null,
   "metadata": {
    "tags": []
   },
   "outputs": [],
   "source": [
    "\n"
   ]
  },
  {
   "cell_type": "markdown",
   "metadata": {},
   "source": [
    "Challenge 3: Password Checker\n",
    "Write a program that asks the user to enter a password (make a variable with the password of secret. e.g. password=\"secret\". The program should continue asking for the password until the user enters the correct password. Use the pass statement to create an empty code block in the loop."
   ]
  },
  {
   "cell_type": "code",
   "execution_count": null,
   "metadata": {
    "jupyter": {
     "source_hidden": true
    },
    "tags": []
   },
   "outputs": [],
   "source": [
    "password = \"secret\"\n",
    "while True:\n",
    "    user_input = input(\"Enter the password: \")\n",
    "    if user_input == password:\n",
    "        print(\"Access granted!\")\n",
    "        break  # exit the loop if the correct password is entered\n",
    "    else:\n",
    "        pass  # empty code block, execution continues to the next iteration"
   ]
  },
  {
   "cell_type": "code",
   "execution_count": null,
   "metadata": {
    "tags": []
   },
   "outputs": [],
   "source": []
  },
  {
   "cell_type": "markdown",
   "metadata": {},
   "source": [
    "<p>Challenge 4: Grade Calculator Write a program that asks the user to enter a score between 0 and 100. The program should then print the corresponding letter grade based on the following grading scale:</p>\n",
    "\n",
    "<ul>\n",
    "\t<li>90 or above: A</li>\n",
    "\t<li>80 to 89: B</li>\n",
    "\t<li>70 to 79: C</li>\n",
    "\t<li>60 to 69: D</li>\n",
    "\t<li>Below 60: F</li>\n",
    "</ul>\n"
   ]
  },
  {
   "cell_type": "code",
   "execution_count": null,
   "metadata": {
    "jupyter": {
     "source_hidden": true
    },
    "tags": []
   },
   "outputs": [],
   "source": [
    "score = int(input(\"Enter the score: \"))\n",
    "\n",
    "if score >= 90:\n",
    "    grade = \"A\"\n",
    "elif score >= 80:\n",
    "    grade = \"B\"\n",
    "elif score >= 70:\n",
    "    grade = \"C\"\n",
    "elif score >= 60:\n",
    "    grade = \"D\"\n",
    "else:\n",
    "    grade = \"F\"\n",
    "\n",
    "print(\"Grade:\", grade)"
   ]
  },
  {
   "cell_type": "code",
   "execution_count": null,
   "metadata": {
    "tags": []
   },
   "outputs": [],
   "source": []
  },
  {
   "cell_type": "markdown",
   "metadata": {},
   "source": [
    "<p>Challenge 5: Ticket Pricing Create a program that prompts the user to enter their age. Based on their age, the program should determine and print the ticket price for a movie theater according to the following conditions:</p>\n",
    "\n",
    "<ul>\n",
    "\t<li>Children (age 0-12): 5 </li>\n",
    "\t<li>Teenagers (age 13-17): 7 </li>\n",
    "\t<li>Adults (age 18 and above): 10 </li>\n",
    "</ul>\n"
   ]
  },
  {
   "cell_type": "code",
   "execution_count": null,
   "metadata": {
    "jupyter": {
     "source_hidden": true
    },
    "tags": []
   },
   "outputs": [],
   "source": [
    "age = int(input(\"Enter your age: \"))\n",
    "\n",
    "if age <= 12:\n",
    "    ticket_price = 5\n",
    "elif age <= 17:\n",
    "    ticket_price = 7\n",
    "else:\n",
    "    ticket_price = 10\n",
    "\n",
    "print(\"Ticket price:\", ticket_price)"
   ]
  },
  {
   "cell_type": "code",
   "execution_count": null,
   "metadata": {
    "tags": []
   },
   "outputs": [],
   "source": []
  }
 ],
 "metadata": {
  "kernelspec": {
   "display_name": "Python 3 (ipykernel)",
   "language": "python",
   "name": "python3"
  },
  "language_info": {
   "codemirror_mode": {
    "name": "ipython",
    "version": 3
   },
   "file_extension": ".py",
   "mimetype": "text/x-python",
   "name": "python",
   "nbconvert_exporter": "python",
   "pygments_lexer": "ipython3",
   "version": "3.11.3"
  }
 },
 "nbformat": 4,
 "nbformat_minor": 4
}

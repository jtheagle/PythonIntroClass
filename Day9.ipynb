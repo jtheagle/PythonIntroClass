{
 "cells": [
  {
   "cell_type": "markdown",
   "id": "22dc4e2d-62fb-4d52-9302-75d783b4f7a1",
   "metadata": {},
   "source": [
    "<h1>Class 9: Introduction to Libraries and Packages</h1>"
   ]
  },
  {
   "cell_type": "markdown",
   "id": "908a09d7-ccd5-4c17-82f6-7597ab867a7f",
   "metadata": {},
   "source": [
    "<h2>Overview of popular Python libraries and packages</h2>"
   ]
  },
  {
   "cell_type": "markdown",
   "id": "32eeb50c-8c34-474c-becd-d4cb401ef748",
   "metadata": {},
   "source": [
    "<p><span style=\"font-size:16px;\">Below are just a few examples of popular Python libraries and packages across various domains. Python&#39;s rich ecosystem offers libraries and packages for almost every application, making it a versatile language for different tasks and disciplines.</span></p>"
   ]
  },
  {
   "cell_type": "markdown",
   "id": "4b31ccc6-b210-4656-a047-cbd571967a4a",
   "metadata": {},
   "source": [
    "<ol>\n",
    "\t<li>\n",
    "\t<p><span style=\"font-size:16px;\">NumPy: A fundamental package for scientific computing with Python. It provides support for large, multi-dimensional arrays and matrices, along with a collection of mathematical functions to operate on these arrays efficiently.</span></p>\n",
    "\t</li>\n",
    "\t<li>\n",
    "\t<p><span style=\"font-size:16px;\">Pandas: A powerful library for data manipulation and analysis. It offers data structures such as DataFrames and Series, along with functions to perform tasks like data cleaning, merging, filtering, and statistical analysis.</span></p>\n",
    "\t</li>\n",
    "\t<li>\n",
    "\t<p><span style=\"font-size:16px;\">Matplotlib: A comprehensive library for creating static, animated, and interactive visualizations in Python. It provides a wide range of plotting options, including line plots, scatter plots, bar plots, histograms, and more.</span></p>\n",
    "\t</li>\n",
    "\t<li>\n",
    "\t<p><span style=\"font-size:16px;\">scikit-learn: A popular machine learning library that provides tools for classification, regression, clustering, dimensionality reduction, and model evaluation. It includes a wide range of algorithms and utilities for building machine learning models.</span></p>\n",
    "\t</li>\n",
    "\t<li>\n",
    "\t<p><span style=\"font-size:16px;\">TensorFlow: An open-source library for numerical computation and machine learning. It is widely used for developing and training deep learning models, including neural networks, and provides efficient execution on both CPUs and GPUs.</span></p>\n",
    "\t</li>\n",
    "\t<li>\n",
    "\t<p><span style=\"font-size:16px;\">PyTorch: Another powerful deep learning library that offers dynamic computational graphs and a user-friendly interface. It is known for its flexibility and ease of use, making it a popular choice for deep learning researchers and practitioners.</span></p>\n",
    "\t</li>\n",
    "\t<li>\n",
    "\t<p><span style=\"font-size:16px;\">Django: A high-level web framework that follows the model-view-controller (MVC) architectural pattern. It simplifies the development of robust and scalable web applications by providing features like URL routing, database integration, user authentication, and more.</span></p>\n",
    "\t</li>\n",
    "\t<li>\n",
    "\t<p><span style=\"font-size:16px;\">Flask: A lightweight and flexible web framework that is widely used for building small to medium-sized web applications. It focuses on simplicity and extensibility, allowing developers to choose the components they need.</span></p>\n",
    "\t</li>\n",
    "\t<li>\n",
    "\t<p><span style=\"font-size:16px;\">BeautifulSoup: A library for parsing HTML and XML documents. It provides an easy-to-use interface to extract data from web pages and navigate the document tree structure.</span></p>\n",
    "\t</li>\n",
    "\t<li>\n",
    "\t<p><span style=\"font-size:16px;\">Requests: A popular library for making HTTP requests in Python. It simplifies the process of sending HTTP requests and handling responses, making it easier to interact with web APIs and retrieve data from web services.</span></p>\n",
    "\t</li>\n",
    "\t<li>\n",
    "\t<p><span style=\"font-size:16px;\">SQLAlchemy: A SQL toolkit and Object-Relational Mapping (ORM) library for Python. It provides a set of high-level API for interacting with relational databases, abstracting away the underlying database-specific details.</span></p>\n",
    "\t</li>\n",
    "\t<li>\n",
    "\t<p><span style=\"font-size:16px;\">OpenCV: A computer vision library that provides a wide range of algorithms and functions for image and video processing, object detection, face recognition, and more. It is widely used in computer vision research and applications.</span></p>\n",
    "\t</li>\n",
    "</ol>\n"
   ]
  },
  {
   "cell_type": "code",
   "execution_count": null,
   "id": "cf4a389b-f285-454d-a8af-cf6b396b68ed",
   "metadata": {},
   "outputs": [],
   "source": []
  },
  {
   "cell_type": "markdown",
   "id": "cdac55f6-b7f2-40bb-afb4-c4a692b1fef0",
   "metadata": {},
   "source": [
    "<h2>Exploring the functionality and usage of libraries such as NumPy, Pandas, and Matplotlib</h2>"
   ]
  },
  {
   "cell_type": "markdown",
   "id": "ff77dd87-aa1c-4d70-a52b-a8e25787f449",
   "metadata": {},
   "source": [
    "<p><span style=\"font-size:16px;\">These three libraries, NumPy, Pandas, and Matplotlib, form the foundation of data analysis and visualization in Python. NumPy provides efficient numerical computing capabilities, Pandas simplifies data manipulation and analysis, and Matplotlib enables the creation of high-quality visualizations. Together, they offer powerful tools for working with data in Python.</span></p>"
   ]
  },
  {
   "cell_type": "markdown",
   "id": "5dc4f3d9-71d3-4472-aada-bb8211d4cc2f",
   "metadata": {},
   "source": [
    "<ol>\n",
    "\t<li><span style=\"font-size:16px;\">NumPy: NumPy is a fundamental package for scientific computing in Python. It provides support for large, multi-dimensional arrays and matrices, along with a collection of mathematical functions to operate on these arrays efficiently.</span></li>\n",
    "</ol>\n",
    "\n",
    "<p><span style=\"font-size:16px;\">Key Features and Usage:</span></p>\n",
    "\n",
    "<ul style=\"margin-left: 40px;\">\n",
    "\t<li><span style=\"font-size:16px;\">Multi-dimensional Arrays: NumPy&#39;s main feature is its <code>ndarray</code> (N-dimensional array) object, which allows efficient storage and manipulation of arrays of homogeneous data types.</span></li>\n",
    "\t<li><span style=\"font-size:16px;\">Mathematical Functions: NumPy provides a wide range of mathematical functions for array manipulation, such as element-wise operations, linear algebra, statistical calculations, and more.</span></li>\n",
    "\t<li><span style=\"font-size:16px;\">Array Operations: NumPy simplifies operations on arrays, including slicing, indexing, reshaping, and broadcasting, making it efficient for numerical computations and data processing.</span></li>\n",
    "</ul>"
   ]
  },
  {
   "cell_type": "code",
   "execution_count": null,
   "id": "50293deb-a426-4867-8ff8-306379f3a5c9",
   "metadata": {},
   "outputs": [],
   "source": []
  },
  {
   "cell_type": "markdown",
   "id": "17c2fadf-e728-4853-af1a-805c9698d1a6",
   "metadata": {},
   "source": [
    "<ol start=\"2\">\n",
    "\t<li><span style=\"font-size:16px;\">Pandas: Pandas is a powerful library for data manipulation and analysis. It provides data structures such as DataFrames and Series, along with functions to perform various operations on structured data.</span></li>\n",
    "</ol>\n",
    "\n",
    "<p><span style=\"font-size:16px;\">Key Features and Usage:</span></p>\n",
    "\n",
    "<ul style=\"margin-left: 40px;\">\n",
    "\t<li><span style=\"font-size:16px;\">DataFrame: Pandas&#39; <code>DataFrame</code> is a two-dimensional labeled data structure that can hold heterogeneous data. It is similar to a spreadsheet or SQL table, allowing operations like filtering, joining, grouping, and more.</span></li>\n",
    "\t<li><span style=\"font-size:16px;\">Data Operations: Pandas provides functions to perform common data operations, such as reading and writing data from various formats (CSV, Excel, SQL), data cleaning, merging, reshaping, and statistical computations.</span></li>\n",
    "\t<li><span style=\"font-size:16px;\">Indexing and Slicing: Pandas allows indexing and slicing of data based on labels or positional indices, enabling easy access to subsets of data for analysis.</span></li>\n",
    "</ul>"
   ]
  },
  {
   "cell_type": "code",
   "execution_count": null,
   "id": "7de5fa3d-1db3-4781-a5bb-b651ea307805",
   "metadata": {},
   "outputs": [],
   "source": []
  },
  {
   "cell_type": "markdown",
   "id": "455a28e8-a2ce-4e73-802c-87311c476c2a",
   "metadata": {},
   "source": [
    "<ol start=\"3\">\n",
    "\t<li><span style=\"font-size:16px;\">Matplotlib: Matplotlib is a comprehensive library for creating static, animated, and interactive visualizations in Python. It provides a wide range of plotting options, allowing users to create various types of charts and graphs.</span></li>\n",
    "</ol>\n",
    "\n",
    "<p><span style=\"font-size:16px;\">Key Features and Usage:</span></p>\n",
    "\n",
    "<ul style=\"margin-left: 40px;\">\n",
    "\t<li><span style=\"font-size:16px;\">Plotting Functions: Matplotlib provides a variety of plotting functions to create different types of visualizations, including line plots, scatter plots, bar plots, histograms, pie charts, and more.</span></li>\n",
    "\t<li><span style=\"font-size:16px;\">Customization: Matplotlib allows customization of plots with labels, titles, legends, colors, markers, and other visual attributes.</span></li>\n",
    "\t<li><span style=\"font-size:16px;\">Subplots: Matplotlib supports the creation of multiple plots within a single figure, facilitating the comparison of different datasets or views of the same data.</span></li>\n",
    "\t<li><span style=\"font-size:16px;\">Interactive Features: Matplotlib supports interactivity through features like zooming, panning, and adding tooltips to enhance the exploration of data.</span></li>\n",
    "</ul>"
   ]
  },
  {
   "cell_type": "code",
   "execution_count": null,
   "id": "c14a1c99-4c7a-4577-96d0-f3f3eb4b8128",
   "metadata": {},
   "outputs": [],
   "source": []
  },
  {
   "cell_type": "markdown",
   "id": "9594b0ae-cef3-4ba2-b376-e0388e75e8aa",
   "metadata": {},
   "source": [
    "<h2>Introduction to virtual environments for managing packages</h2>"
   ]
  },
  {
   "cell_type": "markdown",
   "id": "17087941-7071-48a4-900f-db7228a0f496",
   "metadata": {},
   "source": [
    "<p><span style=\"font-size:16px;\">Virtual environments are an essential tool for managing packages and creating isolated environments for Python projects. They help maintain clean and reproducible project setups, ensure dependency compatibility, and make it easier to collaborate and share projects. By leveraging virtual environments, you can keep your Python projects organized and maintain control over your package installations.</span></p>"
   ]
  },
  {
   "cell_type": "markdown",
   "id": "edac6bec-0fb2-473b-a609-1b8a038f0760",
   "metadata": {},
   "source": [
    "<ol>\n",
    "\t<li>\n",
    "\t<p><span style=\"font-size:16px;\">What is a Virtual Environment? A virtual environment is a self-contained Python environment that is isolated from the system-level Python installation and other virtual environments. It allows you to have different versions of Python and packages installed for different projects, avoiding conflicts between dependencies.</span></p>\n",
    "\t</li>\n",
    "\t<li>\n",
    "\t<p><span style=\"font-size:16px;\">Why Use Virtual Environments?</span></p>\n",
    "\t</li>\n",
    "</ol>\n",
    "\n",
    "<ul style=\"margin-left: 40px;\">\n",
    "\t<li><span style=\"font-size:16px;\"><strong>Dependency Management</strong>: Virtual environments help manage project dependencies by ensuring that each project has its own set of packages and versions. This prevents conflicts between different projects that may require different versions of the same package.</span></li>\n",
    "\t<li><span style=\"font-size:16px;\"><strong>Isolation</strong>: Virtual environments provide isolation, meaning changes made to one environment won&#39;t affect other environments or the system-wide Python installation.</span></li>\n",
    "\t<li><span style=\"font-size:16px;\"><strong>Reproducibility</strong>: With virtual environments, you can replicate an environment with all the required packages, making it easier to share projects and reproduce the same environment on different machines.</span></li>\n",
    "</ul>"
   ]
  },
  {
   "cell_type": "code",
   "execution_count": null,
   "id": "fb17c5dd-8dff-4b56-b56c-b311877eb92d",
   "metadata": {},
   "outputs": [],
   "source": []
  },
  {
   "cell_type": "markdown",
   "id": "1c35440c-fe04-422c-946d-b5e39e8e839e",
   "metadata": {},
   "source": [
    "<h2>Installing and using external libraries in Python</h2>"
   ]
  },
  {
   "cell_type": "markdown",
   "id": "210f0d1e-4a00-4dd1-a67c-ae0e380741e2",
   "metadata": {},
   "source": [
    "<p><span style=\"font-size:16px;\">Remember to always refer to the documentation of the specific library you are working with for detailed usage instructions and examples. The library&#39;s documentation will provide insights into available functions, classes, and best practices for using the library effectively in your Python code.</span></p>"
   ]
  },
  {
   "cell_type": "markdown",
   "id": "61d09055-2ec8-4a98-a862-93c77e5def7b",
   "metadata": {},
   "source": [
    "<ol>\n",
    "\t<li><span style=\"font-size:16px;\">Installing External Libraries:</span></li>\n",
    "</ol>\n",
    "\n",
    "<ul style=\"margin-left: 40px;\">\n",
    "\t<li><span style=\"font-size:16px;\">Python provides a package manager called <code>pip</code> (or <code>pip3</code> for Python 3) to install external libraries. It is typically included with Python installations.</span></li>\n",
    "\t<li><span style=\"font-size:16px;\">To install a library, open your terminal or command prompt and run the following command:<code>pip install library_name</code></span></li>\n",
    "\t<li><span style=\"font-size:16px;\">Replace <code>library_name</code> with the actual name of the library you want to install. For example, to install the <code>requests</code> library:<code>pip install requests</code></span></li>\n",
    "</ul>\n",
    "\n",
    "<ol start=\"2\">\n",
    "\t<li><span style=\"font-size:16px;\">Managing Library Versions:</span></li>\n",
    "</ol>\n",
    "\n",
    "<ul style=\"margin-left: 40px;\">\n",
    "\t<li><span style=\"font-size:16px;\">By default, <code>pip</code> installs the latest version of a library. However, you can specify a specific version if needed. For example:<code>pip install library_name==1.2.3</code></span></li>\n",
    "\t<li><span style=\"font-size:16px;\">This installs version 1.2.3 of <code>library_name</code>.</span></li>\n",
    "\t<li><span style=\"font-size:16px;\">You can also use comparison operators (<code>&lt;</code>, <code>&lt;=</code>, <code>&gt;</code>, <code>&gt;=</code>) to specify version ranges. For example:<code>pip install library_name&gt;=2.0.0</code></span></li>\n",
    "\t<li><span style=\"font-size:16px;\">his installs a version of <code>library_name</code> that is greater than or equal to 2.0.0.</span></li>\n",
    "</ul>\n"
   ]
  },
  {
   "cell_type": "code",
   "execution_count": null,
   "id": "a7d260b1-731f-432a-acb8-8caac17bc8f1",
   "metadata": {},
   "outputs": [],
   "source": []
  },
  {
   "cell_type": "markdown",
   "id": "96f4a1e7-6040-4b0f-b437-445dc1803ed4",
   "metadata": {},
   "source": [
    "<ol start=\"3\">\n",
    "\t<li><span style=\"font-size:16px;\">Using Installed Libraries:</span></li>\n",
    "</ol>\n",
    "\n",
    "<ul style=\"margin-left: 40px;\">\n",
    "\t<li><span style=\"font-size:16px;\">Once a library is installed, you can import it into your Python code and use its functionality. To import a library, use the <code>import</code> statement. For example:<br />\n",
    "\t<code>import library_name </code></span></li>\n",
    "\t<li><span style=\"font-size:16px;\">Depending on the library, you may need to import specific modules or functions within the library. For example:&nbsp;<br />\n",
    "\t<code>import library_name.module_name<br />\n",
    "\tfrom library_name import function_name</code></span></li>\n",
    "</ul>\n",
    "\n",
    "<p>&nbsp;</p>\n",
    "\n",
    "<ol start=\"4\">\n",
    "\t<li><span style=\"font-size:16px;\">Documentation and Examples:</span></li>\n",
    "</ol>\n",
    "\n",
    "<ul style=\"margin-left: 40px;\">\n",
    "\t<li><span style=\"font-size:16px;\">Most libraries provide documentation and examples to help you understand their usage and functionality.</span></li>\n",
    "\t<li><span style=\"font-size:16px;\">The official documentation for a library can usually be found on the library&#39;s website or on package index websites like PyPI (Python Package Index).</span></li>\n",
    "\t<li><span style=\"font-size:16px;\">The documentation often includes installation instructions, usage examples, API references, and tutorials.</span></li>\n",
    "</ul>\n",
    "\n",
    "<ol start=\"5\">\n",
    "\t<li><span style=\"font-size:16px;\">Virtual Environments:</span></li>\n",
    "</ol>\n",
    "\n",
    "<ul style=\"margin-left: 40px;\">\n",
    "\t<li><span style=\"font-size:16px;\">It is recommended to use virtual environments (as discussed earlier) when working with external libraries. This ensures that library installations are isolated to specific projects, preventing conflicts between different projects or the system-wide Python installation.</span></li>\n",
    "</ul>\n"
   ]
  },
  {
   "cell_type": "code",
   "execution_count": null,
   "id": "99e786d3-faa8-4a52-9610-7da99ee7cab4",
   "metadata": {},
   "outputs": [],
   "source": []
  },
  {
   "cell_type": "markdown",
   "id": "57778d74-dded-4716-b46a-0597c3090464",
   "metadata": {},
   "source": [
    "<p><span style=\"font-size:16px;\">Challenge 1: Analyzing Temperature Data </span></p>\n",
    "\n",
    "<p><span style=\"font-size:16px;\">Write a Python program that reads temperature data from a CSV file using Pandas, performs data analysis using NumPy, and visualizes the results using Matplotlib.</span></p>\n",
    "\n",
    "<ul>\n",
    "\t<li><span style=\"font-size:16px;\">Read the temperature data from a CSV file (<code>temperature_data.csv</code>) that contains two columns: <code>date</code> (string format) and <code>temperature</code> (float format).</span></li>\n",
    "\t<li><span style=\"font-size:16px;\">Use Pandas to load the data into a DataFrame.</span></li>\n",
    "\t<li><span style=\"font-size:16px;\">Calculate the average, minimum, and maximum temperatures using NumPy.</span></li>\n",
    "\t<li><span style=\"font-size:16px;\">Plot a line graph using Matplotlib to visualize the temperature data over time. Include labels for the x-axis, y-axis, and title.</span></li>\n",
    "</ul>"
   ]
  },
  {
   "cell_type": "code",
   "execution_count": null,
   "id": "82b78324-b774-4f3e-a80b-e8ba1422a650",
   "metadata": {
    "tags": []
   },
   "outputs": [],
   "source": [
    "temperature_list = [\"date,temperature\",\n",
    "\"2021-01-01,15.5\",\n",
    "\"2021-01-02,17.8\",\n",
    "\"2021-01-03,14.2\",\n",
    "\"2021-01-04,12.9\",\n",
    "\"2021-01-05,16.7\",\n",
    "\"2021-01-06,18.3\",\n",
    "\"2021-01-07,13.6\",\n",
    "\"2021-01-08,15.1\",\n",
    "\"2021-01-09,14.9\",\n",
    "\"2021-01-10,16.5\",\n",
    "\"2021-01-11,15.8\",\n",
    "\"2021-01-12,13.2\",\n",
    "\"2021-01-13,14.7\",\n",
    "\"2021-01-14,17.2\",\n",
    "\"2021-01-15,15.6\"]\n",
    "\n",
    "with open('temperature_data.csv', 'w') as file:\n",
    "    for line in temperature_list:\n",
    "        file.write(line + \"\\r\\n\")"
   ]
  },
  {
   "cell_type": "code",
   "execution_count": null,
   "id": "5e7f24bf-e5dc-4719-9b5b-d1030e9ee404",
   "metadata": {
    "jupyter": {
     "source_hidden": true
    },
    "tags": []
   },
   "outputs": [],
   "source": [
    "import pandas as pd\n",
    "import numpy as np\n",
    "import matplotlib.pyplot as plt\n",
    "\n",
    "# Read the temperature data from CSV\n",
    "data = pd.read_csv('temperature_data.csv')\n",
    "\n",
    "# Calculate statistics using NumPy\n",
    "avg_temp = np.mean(data['temperature'])\n",
    "min_temp = np.min(data['temperature'])\n",
    "max_temp = np.max(data['temperature'])\n",
    "\n",
    "# Plot the temperature data using Matplotlib\n",
    "plt.plot(data['date'], data['temperature'])\n",
    "plt.xlabel('Date')\n",
    "plt.ylabel('Temperature (Celsius)')\n",
    "plt.title('Temperature Variation')\n",
    "plt.xticks(rotation=45)\n",
    "plt.show()\n",
    "\n",
    "# Print the calculated statistics\n",
    "print('Average Temperature:', avg_temp)\n",
    "print('Minimum Temperature:', min_temp)\n",
    "print('Maximum Temperature:', max_temp)"
   ]
  },
  {
   "cell_type": "code",
   "execution_count": null,
   "id": "827d2fb5-ac6d-4a03-a494-f585558e43dd",
   "metadata": {},
   "outputs": [],
   "source": []
  },
  {
   "cell_type": "markdown",
   "id": "15daf5ab-3a15-457c-8929-819d287ed1d3",
   "metadata": {},
   "source": [
    "<p><span style=\"font-size:16px;\">Challenge 2: Sales Analysis and Visualization </span></p>\n",
    "\n",
    "<p><span style=\"font-size:16px;\">Write a Python program that analyzes sales data using Pandas and visualizes the results using Matplotlib.</span></p>\n",
    "\n",
    "<ul>\n",
    "\t<li><span style=\"font-size:16px;\">Read the sales data from a CSV file (<code>sales_data.csv</code>) that contains columns for <code>product</code>, <code>quantity</code>, and <code>revenue</code>.</span></li>\n",
    "\t<li><span style=\"font-size:16px;\">Use Pandas to load the data into a DataFrame.</span></li>\n",
    "\t<li><span style=\"font-size:16px;\">Calculate the total quantity and revenue for each product using Pandas.</span></li>\n",
    "\t<li><span style=\"font-size:16px;\">Create a bar chart using Matplotlib to visualize the total revenue for each product. Include labels for the x-axis, y-axis, and title.</span></li>\n",
    "</ul>"
   ]
  },
  {
   "cell_type": "code",
   "execution_count": null,
   "id": "0946dbde-9a70-4ba6-8f2a-6753128f2236",
   "metadata": {
    "tags": []
   },
   "outputs": [],
   "source": [
    "sales_data_list = [\"product,quantity,revenue\",\n",
    "\"Product A,100,500.00\",\n",
    "\"Product B,50,250.00\",\n",
    "\"Product C,75,375.00\",\n",
    "\"Product D,120,600.00\",\n",
    "\"Product E,80,400.00\",\n",
    "\"Product F,60,300.00\",\n",
    "\"Product G,90,450.00\",\n",
    "\"Product H,110,550.00\",\n",
    "\"Product I,70,350.00\",\n",
    "\"Product J,85,425.00\",\n",
    "\"Product A,95,475.00\",\n",
    "\"Product B,105,525.00\",\n",
    "\"Product C,115,575.00\",\n",
    "\"Product D,130,650.00\",\n",
    "\"Product E,88,440.00\"]\n",
    "\n",
    "\n",
    "with open('sales_data.csv', 'w') as file:\n",
    "    for line in sales_data_list:\n",
    "        file.write(line + \"\\r\\n\")"
   ]
  },
  {
   "cell_type": "code",
   "execution_count": null,
   "id": "4124179d-6d04-4fb9-9334-e44207b08572",
   "metadata": {
    "jupyter": {
     "source_hidden": true
    },
    "tags": []
   },
   "outputs": [],
   "source": [
    "import pandas as pd\n",
    "import matplotlib.pyplot as plt\n",
    "\n",
    "# Read the sales data from CSV\n",
    "data = pd.read_csv('sales_data.csv')\n",
    "\n",
    "# Calculate total quantity and revenue for each product\n",
    "product_stats = data.groupby('product').agg({'quantity': 'sum', 'revenue': 'sum'})\n",
    "\n",
    "# Plot the total revenue using Matplotlib\n",
    "plt.bar(product_stats.index, product_stats['revenue'])\n",
    "plt.xlabel('Product')\n",
    "plt.ylabel('Total Revenue')\n",
    "plt.title('Sales Analysis')\n",
    "plt.xticks(rotation=45)\n",
    "plt.show()\n",
    "\n",
    "# Print the product statistics\n",
    "print('Product Statistics:')\n",
    "print(product_stats)"
   ]
  },
  {
   "cell_type": "code",
   "execution_count": null,
   "id": "f1430f6c-a0ce-4a54-85ec-b0f07728f763",
   "metadata": {},
   "outputs": [],
   "source": []
  }
 ],
 "metadata": {
  "kernelspec": {
   "display_name": "Python 3 (ipykernel)",
   "language": "python",
   "name": "python3"
  },
  "language_info": {
   "codemirror_mode": {
    "name": "ipython",
    "version": 3
   },
   "file_extension": ".py",
   "mimetype": "text/x-python",
   "name": "python",
   "nbconvert_exporter": "python",
   "pygments_lexer": "ipython3",
   "version": "3.11.3"
  }
 },
 "nbformat": 4,
 "nbformat_minor": 5
}

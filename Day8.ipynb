{
 "cells": [
  {
   "cell_type": "markdown",
   "id": "3bb1e6a7-9ff2-4d09-bd8d-ef52cd8cb5c6",
   "metadata": {},
   "source": [
    "<h1>Class 8: Working with Files and Directories</h1>"
   ]
  },
  {
   "cell_type": "markdown",
   "id": "7b76aa62-e43c-401d-aa33-fb44f853f437",
   "metadata": {},
   "source": [
    "<h2>Advanced file handling operations in Python</h2>"
   ]
  },
  {
   "cell_type": "markdown",
   "id": "a6268803-699f-4770-943c-37188fcf6a5e",
   "metadata": {},
   "source": [
    "<p><span style=\"font-size:16px;\">Recap</span></p>\n",
    "\n",
    "<ol>\n",
    "\t<li><span style=\"font-size:16px;\">File Modes:</span></li>\n",
    "</ol>\n",
    "\n",
    "<ul style=\"margin-left: 40px;\">\n",
    "\t<li><span style=\"font-size:16px;\">In addition to the basic read (<code>&#39;r&#39;</code>) and write (<code>&#39;w&#39;</code>) modes, Python provides other file modes such as append (<code>&#39;a&#39;</code>), binary read/write (<code>&#39;rb&#39;</code> and <code>&#39;wb&#39;</code>), and exclusive creation (<code>&#39;x&#39;</code>).</span></li>\n",
    "\t<li><span style=\"font-size:16px;\">These modes offer more flexibility for specific file operations, such as appending data to an existing file or working with binary data.</span></li>\n",
    "</ul>\n",
    "\n",
    "<ol start=\"2\">\n",
    "\t<li><span style=\"font-size:16px;\">Context Managers (with statement):</span></li>\n",
    "</ol>\n",
    "\n",
    "<ul style=\"margin-left: 40px;\">\n",
    "\t<li><span style=\"font-size:16px;\">The <code>with</code> statement provides a convenient way to handle file resources and ensure proper opening and closing of files.</span></li>\n",
    "\t<li><span style=\"font-size:16px;\">It automatically takes care of closing the file, even if an exception occurs.</span></li>\n",
    "\t<li><span style=\"font-size:16px;\">It reduces the risk of resource leaks and makes code more concise and readable.</span></li>\n",
    "</ul>"
   ]
  },
  {
   "cell_type": "code",
   "execution_count": null,
   "id": "1ed62e27-5b85-40f1-a6c3-c9e3f01afa04",
   "metadata": {},
   "outputs": [],
   "source": []
  },
  {
   "cell_type": "markdown",
   "id": "bb90a415-5c4c-4f76-b5a4-2999b8ca2add",
   "metadata": {},
   "source": [
    "<ol start=\"3\">\n",
    "\t<li><span style=\"font-size:16px;\">Reading and Writing Lines:</span></li>\n",
    "</ol>\n",
    "\n",
    "<ul style=\"margin-left: 40px;\">\n",
    "\t<li><span style=\"font-size:16px;\">Files can be read and written line by line using methods like <code>readline()</code>, <code>readlines()</code>, and <code>writelines()</code>.</span></li>\n",
    "\t<li><span style=\"font-size:16px;\"><code>readline()</code> reads one line at a time, while <code>readlines()</code> reads all lines and returns them as a list.</span></li>\n",
    "\t<li><span style=\"font-size:16px;\"><code>writelines()</code> writes a list of lines to a file.</span></li>\n",
    "</ul>"
   ]
  },
  {
   "cell_type": "code",
   "execution_count": null,
   "id": "34442b26-242f-4196-94c7-64da04823180",
   "metadata": {},
   "outputs": [],
   "source": []
  },
  {
   "cell_type": "markdown",
   "id": "21254c2c-e5bb-4418-b731-ff07a514a5f7",
   "metadata": {},
   "source": [
    "<ol start=\"4\">\n",
    "\t<li><span style=\"font-size:16px;\">Seeking and Telling:</span></li>\n",
    "</ol>\n",
    "\n",
    "<ul style=\"margin-left: 40px;\">\n",
    "\t<li><span style=\"font-size:16px;\">The <code>seek()</code> method is used to move the file pointer to a specific position in the file.</span></li>\n",
    "\t<li><span style=\"font-size:16px;\">The <code>tell()</code> method returns the current position of the file pointer.</span></li>\n",
    "\t<li><span style=\"font-size:16px;\">These methods are useful for random access and manipulation of file contents.</span></li>\n",
    "</ul>"
   ]
  },
  {
   "cell_type": "code",
   "execution_count": null,
   "id": "e338e1af-e680-405b-b9b1-179bac4f1a7d",
   "metadata": {},
   "outputs": [],
   "source": []
  },
  {
   "cell_type": "markdown",
   "id": "b6cf2535-d743-4b07-aac8-6f8f4c7d1e5e",
   "metadata": {},
   "source": [
    "<ol start=\"5\">\n",
    "\t<li><span style=\"font-size:16px;\">File Iterators:</span></li>\n",
    "</ol>\n",
    "\n",
    "<ul style=\"margin-left: 40px;\">\n",
    "\t<li><span style=\"font-size:16px;\">Python supports iterating over a file object directly, treating it as an iterator.</span></li>\n",
    "\t<li><span style=\"font-size:16px;\">This allows you to loop over each line in a file without loading the entire file into memory.</span></li>\n",
    "\t<li><span style=\"font-size:16px;\">It is memory-efficient for large files.</span></li>\n",
    "</ul>"
   ]
  },
  {
   "cell_type": "code",
   "execution_count": null,
   "id": "fe561072-94fd-4298-8c82-58313fe5da16",
   "metadata": {},
   "outputs": [],
   "source": []
  },
  {
   "cell_type": "markdown",
   "id": "5d8b551b-ab48-4172-8180-211d584bfa11",
   "metadata": {},
   "source": [
    "<h2>Manipulating files and directories using os and shutil modules</h2>"
   ]
  },
  {
   "cell_type": "markdown",
   "id": "d9c3f180-6369-46b6-a7fd-75b8889864a3",
   "metadata": {},
   "source": [
    "<p><span style=\"font-size:16px;\">These modules provide powerful tools for manipulating files and directories in Python. The <code>os</code> module offers low-level operations, while the <code>shutil</code> module provides higher-level functionality for copying, moving, and deleting files and directories. By leveraging these modules, you can perform a wide range of file system operations in your Python programs.</span></p>"
   ]
  },
  {
   "cell_type": "markdown",
   "id": "ad13622b-9476-438a-8c22-7663a24f49bb",
   "metadata": {},
   "source": [
    "<ol>\n",
    "\t<li><span style=\"font-size:16px;\"><code>os</code> Module:</span></li>\n",
    "</ol>\n",
    "\n",
    "<ul style=\"margin-left: 40px;\">\n",
    "\t<li><span style=\"font-size:16px;\">The <code>os</code> module provides a wide range of functions for working with files and directories at a lower level.</span></li>\n",
    "</ul>\n",
    "\n",
    "<p><span style=\"font-size:16px;\">Common File Operations:</span></p>\n",
    "\n",
    "<ul style=\"margin-left: 40px;\">\n",
    "\t<li><span style=\"font-size:16px;\"><code>os.rename(src, dst)</code>: Renames a file or directory from <code>src</code> to <code>dst</code>.</span></li>\n",
    "\t<li><span style=\"font-size:16px;\"><code>os.remove(path)</code>: Deletes a file at the specified <code>path</code>.</span></li>\n",
    "\t<li><span style=\"font-size:16px;\"><code>os.path.isfile(path)</code>: Checks if a given path is a file.</span></li>\n",
    "\t<li><span style=\"font-size:16px;\"><code>os.path.isdir(path)</code>: Checks if a given path is a directory.</span></li>\n",
    "</ul>\n",
    "\n",
    "<p><span style=\"font-size:16px;\">Directory Operations:</span></p>\n",
    "\n",
    "<ul style=\"margin-left: 40px;\">\n",
    "\t<li><span style=\"font-size:16px;\"><code>os.mkdir(path)</code>: Creates a new directory at the specified <code>path</code>.</span></li>\n",
    "\t<li><span style=\"font-size:16px;\"><code>os.rmdir(path)</code>: Removes an empty directory at the specified <code>path</code>.</span></li>\n",
    "\t<li><span style=\"font-size:16px;\"><code>os.listdir(path)</code>: Returns a list of files and directories in the specified <code>path</code>.</span></li>\n",
    "\t<li><span style=\"font-size:16px;\"><code>os.chdir(path)</code>: Changes the current working directory to the specified <code>path</code>.</span></li>\n",
    "\t<li><span style=\"font-size:16px;\"><code>os.getcwd()</code>: Returns the current working directory.</span></li>\n",
    "</ul>"
   ]
  },
  {
   "cell_type": "code",
   "execution_count": null,
   "id": "9fa31256-9a1b-44d3-b5bf-78d84b3fc918",
   "metadata": {},
   "outputs": [],
   "source": []
  },
  {
   "cell_type": "markdown",
   "id": "3af8bbf5-fcde-428e-b570-956d13cf7dc0",
   "metadata": {},
   "source": [
    "<ol start=\"2\">\n",
    "\t<li><span style=\"font-size:16px;\"><code>shutil</code> Module:</span></li>\n",
    "</ol>\n",
    "\n",
    "<ul style=\"margin-left: 40px;\">\n",
    "\t<li><span style=\"font-size:16px;\">The <code>shutil</code> module provides higher-level file and directory operations, offering more convenience and functionality.</span></li>\n",
    "</ul>\n",
    "\n",
    "<p><span style=\"font-size:16px;\">Common File Operations:</span></p>\n",
    "\n",
    "<ul style=\"margin-left: 40px;\">\n",
    "\t<li><span style=\"font-size:16px;\"><code>shutil.copy(src, dst)</code>: Copies a file from <code>src</code> to <code>dst</code>.</span></li>\n",
    "\t<li><span style=\"font-size:16px;\"><code>shutil.move(src, dst)</code>: Moves a file from <code>src</code> to <code>dst</code>.</span></li>\n",
    "\t<li><span style=\"font-size:16px;\"><code>shutil.rmtree(path)</code>: Removes a directory and its contents recursively.</span></li>\n",
    "</ul>\n",
    "\n",
    "<p><span style=\"font-size:16px;\">Directory Operations:</span></p>\n",
    "\n",
    "<ul style=\"margin-left: 40px;\">\n",
    "\t<li><span style=\"font-size:16px;\"><code>shutil.copytree(src, dst)</code>: Copies a directory and its contents from <code>src</code> to <code>dst</code>.</span></li>\n",
    "\t<li><span style=\"font-size:16px;\"><code>shutil.rmtree(path)</code>: Removes a directory and its contents recursively.</span></li>\n",
    "\t<li><span style=\"font-size:16px;\"><code>shutil.make_archive(base_name, format, root_dir)</code>: Creates an archive file (zip, tar, etc.) from the specified <code>root_dir</code>.</span></li>\n",
    "</ul>"
   ]
  },
  {
   "cell_type": "code",
   "execution_count": null,
   "id": "a337c368-c703-45ea-a4ae-a23731f5a138",
   "metadata": {},
   "outputs": [],
   "source": []
  },
  {
   "cell_type": "markdown",
   "id": "5a3564ac-20af-44e8-b5e9-70237fec848b",
   "metadata": {},
   "source": [
    "<h2>File system traversal and file operations</h2>"
   ]
  },
  {
   "cell_type": "markdown",
   "id": "e2775c0a-a300-497b-9b84-4ece34645d85",
   "metadata": {},
   "source": [
    "<p><span style=\"font-size:16px;\">File system traversal refers to the process of navigating and accessing files and directories within a file system. It involves iterating through directories, obtaining file information, and performing various file operations.</span></p>"
   ]
  },
  {
   "cell_type": "markdown",
   "id": "75989ded-efb9-4b92-a02c-24c2b6da8851",
   "metadata": {},
   "source": [
    "<ol>\n",
    "\t<li><span style=\"font-size:16px;\">Traversing File System:</span></li>\n",
    "</ol>\n",
    "\n",
    "<ul style=\"margin-left: 40px;\">\n",
    "\t<li>\n",
    "\t<p><span style=\"font-size:16px;\">The <code>os</code> module in Python provides functions to traverse directories and obtain information about files and directories.</span></p>\n",
    "\t</li>\n",
    "\t<li>\n",
    "\t<p><span style=\"font-size:16px;\"><code>os.walk(top, topdown=True, onerror=None, followlinks=False)</code>: Generates the file names in a directory tree by walking through the tree from top to bottom.</span><br />\n",
    "\t&nbsp; &nbsp; -&nbsp;<span style=\"font-size: 16px;\">It returns a generator that yields a 3-tuple containing the directory path, subdirectories within that directory, and files within that directory.</span></p>\n",
    "\t</li>\n",
    "</ul>"
   ]
  },
  {
   "cell_type": "code",
   "execution_count": null,
   "id": "494e0477-37fe-483b-a9ca-4885ccc1804e",
   "metadata": {},
   "outputs": [],
   "source": []
  },
  {
   "cell_type": "markdown",
   "id": "af6bdf94-eacc-4cc7-b24e-be57dfff0f64",
   "metadata": {},
   "source": [
    "<ol start=\"2\">\n",
    "\t<li><span style=\"font-size:16px;\">File Operations:</span></li>\n",
    "</ol>\n",
    "\n",
    "<ul style=\"margin-left: 40px;\">\n",
    "\t<li>\n",
    "\t<p><span style=\"font-size:16px;\">Once you have obtained file information through traversal, you can perform various operations on the files.</span></p>\n",
    "\t</li>\n",
    "\t<li>\n",
    "\t<p><span style=\"font-size:16px;\"><code>os.path.exists(path)</code>: Checks if a file or directory exists at the specified <code>path</code>.</span></p>\n",
    "\t</li>\n",
    "\t<li>\n",
    "\t<p><span style=\"font-size:16px;\"><code>os.path.abspath(path)</code>: Returns the absolute path of a file or directory.</span></p>\n",
    "\t</li>\n",
    "\t<li>\n",
    "\t<p><span style=\"font-size:16px;\"><code>os.path.basename(path)</code>: Returns the base name (last component) of a path.</span></p>\n",
    "\t</li>\n",
    "\t<li>\n",
    "\t<p><span style=\"font-size:16px;\"><code>os.path.dirname(path)</code>: Returns the directory name (parent component) of a path.</span></p>\n",
    "\t</li>\n",
    "\t<li>\n",
    "\t<p><span style=\"font-size:16px;\"><code>os.path.join(path1, path2, ...)</code>: Joins multiple path components to form a complete path.</span></p>\n",
    "\t</li>\n",
    "\t<li>\n",
    "\t<p><span style=\"font-size:16px;\"><code>os.path.split(path)</code>: Splits a path into its directory and base name components.</span></p>\n",
    "\t</li>\n",
    "\t<li>\n",
    "\t<p><span style=\"font-size:16px;\"><code>os.path.splitext(path)</code>: Splits a path into its base name and file extension components.</span></p>\n",
    "\t</li>\n",
    "\t<li>\n",
    "\t<p><span style=\"font-size:16px;\"><code>os.path.getsize(path)</code>: Returns the size of a file in bytes.</span></p>\n",
    "\t</li>\n",
    "\t<li>\n",
    "\t<p><span style=\"font-size:16px;\"><code>os.path.isfile(path)</code>: Checks if a path is a file.</span></p>\n",
    "\t</li>\n",
    "\t<li>\n",
    "\t<p><span style=\"font-size:16px;\"><code>os.path.isdir(path)</code>: Checks if a path is a directory.</span></p>\n",
    "\t</li>\n",
    "\t<li>\n",
    "\t<p><span style=\"font-size:16px;\"><code>os.path.isabs(path)</code>: Checks if a path is an absolute path.</span></p>\n",
    "\t</li>\n",
    "</ul>"
   ]
  },
  {
   "cell_type": "code",
   "execution_count": null,
   "id": "d3ebfa40-5bd3-49d0-8f65-4dc2839ac6fc",
   "metadata": {},
   "outputs": [],
   "source": []
  },
  {
   "cell_type": "markdown",
   "id": "d2250ec2-1f8a-4764-9903-64b1b09983b7",
   "metadata": {},
   "source": [
    "<h2>Handling paths and file metadata</h2>"
   ]
  },
  {
   "cell_type": "markdown",
   "id": "afb6ba89-fdf4-4def-808a-3a31203daff8",
   "metadata": {},
   "source": [
    "<p><span style=\"font-size:16px;\">Handling paths and file metadata is crucial when working with files in Python. It allows you to manipulate paths, extract important information about files, and perform operations based on that metadata. By utilizing these functions, you can effectively work with files and directories in your Python programs.</span></p>"
   ]
  },
  {
   "cell_type": "markdown",
   "id": "9cb280a3-8381-4b11-84e1-a2d6b6162c39",
   "metadata": {},
   "source": [
    "<ol>\n",
    "\t<li><span style=\"font-size:16px;\">Working with Paths:</span></li>\n",
    "</ol>\n",
    "\n",
    "<ul style=\"margin-left: 40px;\">\n",
    "\t<li>\n",
    "\t<p><span style=\"font-size:16px;\">The <code>os.path</code> module provides functions for working with file paths in a platform-independent way.</span></p>\n",
    "\t</li>\n",
    "\t<li>\n",
    "\t<p><span style=\"font-size:16px;\"><code>os.path.join(path1, path2, ...)</code>: Joins multiple path components into a single path.</span></p>\n",
    "\t</li>\n",
    "\t<li>\n",
    "\t<p><span style=\"font-size:16px;\"><code>os.path.abspath(path)</code>: Returns the absolute path of a file or directory.</span></p>\n",
    "\t</li>\n",
    "\t<li>\n",
    "\t<p><span style=\"font-size:16px;\"><code>os.path.basename(path)</code>: Returns the base name (last component) of a path.</span></p>\n",
    "\t</li>\n",
    "\t<li>\n",
    "\t<p><span style=\"font-size:16px;\"><code>os.path.dirname(path)</code>: Returns the directory name (parent component) of a path.</span></p>\n",
    "\t</li>\n",
    "\t<li>\n",
    "\t<p><span style=\"font-size:16px;\"><code>os.path.split(path)</code>: Splits a path into its directory and base name components.</span></p>\n",
    "\t</li>\n",
    "\t<li>\n",
    "\t<p><span style=\"font-size:16px;\"><code>os.path.splitext(path)</code>: Splits a path into its base name and file extension</span></p>\n",
    "\t</li>\n",
    "</ul>"
   ]
  },
  {
   "cell_type": "code",
   "execution_count": null,
   "id": "8a214c36-7b9f-446c-a723-fafc3bb90e60",
   "metadata": {},
   "outputs": [],
   "source": []
  },
  {
   "cell_type": "markdown",
   "id": "4b852a6d-257a-4b9e-927d-ff27a20c86f4",
   "metadata": {},
   "source": [
    "<ol start=\"2\">\n",
    "\t<li><span style=\"font-size:16px;\">File Metadata:</span></li>\n",
    "</ol>\n",
    "\n",
    "<ul style=\"margin-left: 40px;\">\n",
    "\t<li>\n",
    "\t<p><span style=\"font-size:16px;\">The <code>os.path</code> module and other related modules provide functions to extract metadata about files.</span></p>\n",
    "\t</li>\n",
    "\t<li>\n",
    "\t<p><span style=\"font-size:16px;\"><code>os.path.getsize(path)</code>: Returns the size of a file in bytes.</span></p>\n",
    "\t</li>\n",
    "\t<li>\n",
    "\t<p><span style=\"font-size:16px;\"><code>os.path.getctime(path)</code>: Returns the creation time of a file.</span></p>\n",
    "\t</li>\n",
    "\t<li>\n",
    "\t<p><span style=\"font-size:16px;\"><code>os.path.getmtime(path)</code>: Returns the last modification time of a file.</span></p>\n",
    "\t</li>\n",
    "\t<li>\n",
    "\t<p><span style=\"font-size:16px;\"><code>os.path.getatime(path)</code>: Returns the last access time of a file.</span></p>\n",
    "\t</li>\n",
    "\t<li>\n",
    "\t<p><span style=\"font-size:16px;\"><code>os.path.isfile(path)</code>: Checks if a path is a file.</span></p>\n",
    "\t</li>\n",
    "\t<li>\n",
    "\t<p><span style=\"font-size:16px;\"><code>os.path.isdir(path)</code>: Checks if a path is a directory.</span></p>\n",
    "\t</li>\n",
    "\t<li>\n",
    "\t<p><span style=\"font-size:16px;\"><code>os.path.isabs(path)</code>: Checks if a path is an absolute path.</span></p>\n",
    "\t</li>\n",
    "</ul>\n"
   ]
  },
  {
   "cell_type": "code",
   "execution_count": null,
   "id": "29ecfbb3-d26d-4484-86e6-86c4a7e12dd9",
   "metadata": {},
   "outputs": [],
   "source": []
  },
  {
   "cell_type": "markdown",
   "id": "bacd45ea-b1e1-484c-b314-05c429da3d54",
   "metadata": {},
   "source": [
    "<p><span style=\"font-size:16px;\">Challenge 1: File Copy with Extension Filter </span></p>\n",
    "\n",
    "<p><span style=\"font-size:16px;\">Write a Python function called <code>copy_files_with_extension(source_dir, destination_dir, extension)</code> that copies all files with a specific extension from the <code>source_dir</code> to the <code>destination_dir</code>. Only files with the specified extension should be copied. Use the <code>shutil</code> module for file copying operations.</span></p>"
   ]
  },
  {
   "cell_type": "code",
   "execution_count": null,
   "id": "d8654adb-72fd-4e9e-9a50-23b81e7133a6",
   "metadata": {
    "jupyter": {
     "source_hidden": true
    },
    "tags": []
   },
   "outputs": [],
   "source": [
    "import os\n",
    "import shutil\n",
    "\n",
    "def copy_files_with_extension(source_dir, destination_dir, extension):\n",
    "    os.makedirs(destination_dir, exist_ok=True)\n",
    "\n",
    "    for file in os.listdir(source_dir):\n",
    "        if file.endswith(extension) and os.path.isfile(os.path.join(source_dir, file)):\n",
    "            shutil.copy2(os.path.join(source_dir, file), destination_dir)\n",
    "\n",
    "# Usage:\n",
    "copy_files_with_extension('source_directory', 'destination_directory', '.txt')\n"
   ]
  },
  {
   "cell_type": "code",
   "execution_count": null,
   "id": "0cff2cde-26dd-405c-9be2-d945085c952f",
   "metadata": {},
   "outputs": [],
   "source": []
  },
  {
   "cell_type": "markdown",
   "id": "a0ff133b-793f-4b48-bcde-e6b664baea86",
   "metadata": {},
   "source": [
    "<p><span style=\"font-size:16px;\">Challenge 2: Directory Compression </span></p>\n",
    "\n",
    "<p><span style=\"font-size:16px;\">Write a Python function called <code>compress_directory(directory, archive_name)</code> that compresses a directory into a zip archive. The function should create a zip archive named <code>archive_name</code> containing all the files and directories in the specified <code>directory</code>. Use the <code>shutil</code> module for archiving operations.</span></p>"
   ]
  },
  {
   "cell_type": "code",
   "execution_count": null,
   "id": "ae661e62-4a5f-4a32-bccc-c89356291a2a",
   "metadata": {
    "jupyter": {
     "source_hidden": true
    },
    "tags": []
   },
   "outputs": [],
   "source": [
    "import shutil\n",
    "\n",
    "def compress_directory(directory, archive_name):\n",
    "    shutil.make_archive(archive_name, 'zip', directory)\n",
    "\n",
    "# Usage:\n",
    "compress_directory('directory_to_compress', 'compressed_archive')"
   ]
  },
  {
   "cell_type": "code",
   "execution_count": null,
   "id": "316de918-3c88-4698-a6cd-d9a95d3fbfb7",
   "metadata": {},
   "outputs": [],
   "source": []
  }
 ],
 "metadata": {
  "kernelspec": {
   "display_name": "Python 3 (ipykernel)",
   "language": "python",
   "name": "python3"
  },
  "language_info": {
   "codemirror_mode": {
    "name": "ipython",
    "version": 3
   },
   "file_extension": ".py",
   "mimetype": "text/x-python",
   "name": "python",
   "nbconvert_exporter": "python",
   "pygments_lexer": "ipython3",
   "version": "3.11.3"
  }
 },
 "nbformat": 4,
 "nbformat_minor": 5
}

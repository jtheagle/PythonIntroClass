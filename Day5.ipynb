{
 "cells": [
  {
   "cell_type": "markdown",
   "id": "a599063a-f3ff-42bc-aa5f-ffa48f37d3aa",
   "metadata": {
    "tags": []
   },
   "source": [
    "<h1>Class 5: File Handling and Error Handling</h1>"
   ]
  },
  {
   "cell_type": "markdown",
   "id": "f42015ce-4654-47f2-b485-b2224237acc0",
   "metadata": {},
   "source": [
    "<h2>Reading from and writing to files in Python</h2>"
   ]
  },
  {
   "cell_type": "markdown",
   "id": "ad010d4a-f558-4a77-9822-995469266820",
   "metadata": {},
   "source": [
    "<p><span style=\"font-size:16px;\">Understanding how to read from and write to files in Python allows you to interact with external data sources, store information, and retrieve data for processing. It&#39;s crucial to handle file operations carefully, ensuring proper opening, reading, writing, and closing of files while taking error handling into account.</span></p>"
   ]
  },
  {
   "cell_type": "markdown",
   "id": "42ec58cb-ccc1-49a6-a285-82f23f337844",
   "metadata": {},
   "source": [
    "<ol>\n",
    "\t<li><span style=\"font-size:16px;\">Opening a File:</span></li>\n",
    "</ol>\n",
    "\n",
    "<ul>\n",
    "\t<li><span style=\"font-size:16px;\">To read from or write to a file, you need to open it first using the <code>open()</code> function.</span></li>\n",
    "\t<li><span style=\"font-size:16px;\">The <code>open()</code> function takes two arguments: the file path and the mode.</span></li>\n",
    "\t<li><span style=\"font-size:16px;\">The mode determines the purpose of opening the file, such as reading, writing, or both.</span></li>\n",
    "\t<li><span style=\"font-size:16px;\">Example: <code>file = open(&quot;myfile.txt&quot;, &quot;r&quot;)</code> opens the file named &quot;myfile.txt&quot; in read mode.</span></li>\n",
    "</ul>\n"
   ]
  },
  {
   "cell_type": "code",
   "execution_count": null,
   "id": "17317246-cd39-4332-9f64-7f8b5f30faca",
   "metadata": {},
   "outputs": [],
   "source": []
  },
  {
   "cell_type": "markdown",
   "id": "66817f7f-172d-454e-9f8d-5d422281a2e5",
   "metadata": {},
   "source": [
    "<ol start=\"2\">\n",
    "\t<li><span style=\"font-size:16px;\">Reading from a File:</span></li>\n",
    "</ol>\n",
    "\n",
    "<ul>\n",
    "\t<li><span style=\"font-size:16px;\">After opening a file in read mode, you can read its contents using various methods.</span></li>\n",
    "\t<li><span style=\"font-size:16px;\">The <code>read()</code> method reads the entire content of the file as a string.</span></li>\n",
    "\t<li><span style=\"font-size:16px;\">The <code>readline()</code> method reads a single line from the file.</span></li>\n",
    "\t<li><span style=\"font-size:16px;\">The <code>readlines()</code> method reads all the lines and returns them as a list of strings.</span></li>\n",
    "</ul>"
   ]
  },
  {
   "cell_type": "code",
   "execution_count": null,
   "id": "2c42df7b-3cf8-4993-a678-ec79303eb0f4",
   "metadata": {},
   "outputs": [],
   "source": []
  },
  {
   "cell_type": "markdown",
   "id": "f76e7c8a-6d1a-4376-981a-ec8d82af9243",
   "metadata": {},
   "source": [
    "<ol start=\"3\">\n",
    "\t<li><span style=\"font-size:16px;\">Writing to a File:</span></li>\n",
    "</ol>\n",
    "\n",
    "<ul>\n",
    "\t<li><span style=\"font-size:16px;\">To write data to a file, open it in write mode using the <code>open()</code> function.</span></li>\n",
    "\t<li><span style=\"font-size:16px;\">If the file does not exist, it will be created. If it exists, its contents will be overwritten.</span></li>\n",
    "\t<li><span style=\"font-size:16px;\">The <code>write()</code> method writes a string to the file.</span></li>\n",
    "</ul>"
   ]
  },
  {
   "cell_type": "code",
   "execution_count": null,
   "id": "008110a5-7a4a-47f9-bd8e-6386b34c2b10",
   "metadata": {},
   "outputs": [],
   "source": []
  },
  {
   "cell_type": "markdown",
   "id": "8ed0a502-1512-444d-8455-d445019bba7a",
   "metadata": {},
   "source": [
    "<ol start=\"3\">\n",
    "\t<li><span style=\"font-size:16px;\">Closing a File:</span></li>\n",
    "</ol>\n",
    "\n",
    "<ul>\n",
    "\t<li><span style=\"font-size:16px;\">It is important to close the file after reading from or writing to it to release system resources.</span></li>\n",
    "\t<li><span style=\"font-size:16px;\">The <code>close()</code> method is used to close the file.</span></li>\n",
    "</ul>"
   ]
  },
  {
   "cell_type": "code",
   "execution_count": null,
   "id": "fddc28fc-5ef4-4b66-bf2d-0f3f2574fff0",
   "metadata": {},
   "outputs": [],
   "source": []
  },
  {
   "cell_type": "markdown",
   "id": "f46ff517-64dd-4e0c-ab51-b949f7c5662d",
   "metadata": {},
   "source": [
    "<ol start=\"6\">\n",
    "\t<li><span style=\"font-size:16px;\">Using the <code>with</code> Statement:</span></li>\n",
    "</ol>\n",
    "\n",
    "<ul>\n",
    "\t<li><span style=\"font-size:16px;\">It is considered a best practice to use the <code>with</code> statement when working with files.</span></li>\n",
    "\t<li><span style=\"font-size:16px;\">The <code>with</code> statement automatically handles closing the file, even if an exception occurs.</span></li>\n",
    "    <li><span style=\"font-size:16px;\">The file object obtained within the with statement is automatically closed once the block is exited.</span></li>\n",
    "</ul>"
   ]
  },
  {
   "cell_type": "code",
   "execution_count": null,
   "id": "e67d9999-b13e-4b59-a996-5589a1c85fc6",
   "metadata": {},
   "outputs": [],
   "source": []
  },
  {
   "cell_type": "markdown",
   "id": "1e25e7f6-6c5a-4fff-a6ae-45979df849d0",
   "metadata": {},
   "source": [
    "<h2>Understanding file modes and file objects</h2>"
   ]
  },
  {
   "cell_type": "markdown",
   "id": "545ba39e-8f08-47c1-a932-aa1e5fe6fbb0",
   "metadata": {},
   "source": [
    "<p><span style=\"font-size:16px;\">Understanding file modes allows you to control the purpose and behavior of file operations, such as reading, writing, or appending data. File objects provide a convenient interface to read from or write to files using various methods. Using the <code>with</code> statement ensures proper opening and closing of files while simplifying exception handling.</span></p>"
   ]
  },
  {
   "cell_type": "markdown",
   "id": "7aac5b67-c100-4096-ac87-42f4b5936b61",
   "metadata": {},
   "source": [
    "<ol>\n",
    "\t<li><span style=\"font-size:16px;\">File Modes:</span></li>\n",
    "</ol>\n",
    "\n",
    "<ul>\n",
    "\t<li><span style=\"font-size:16px;\">File modes determine the purpose and permissions of opening a file.</span></li>\n",
    "\t<li><span style=\"font-size:16px;\">The <code>open()</code> function takes a second argument, the mode, which specifies the file mode.</span></li>\n",
    "\t<li><span style=\"font-size:16px;\">Common file modes in Python include:</span>\n",
    "\t<ul>\n",
    "\t\t<li><span style=\"font-size:16px;\"><code>&quot;r&quot;</code>: Read mode. Opens the file for reading (default mode). Raises an error if the file does not exist.</span></li>\n",
    "\t\t<li><span style=\"font-size:16px;\"><code>&quot;w&quot;</code>: Write mode. Opens the file for writing. Creates a new file if it doesn&#39;t exist or overwrites the existing file.</span></li>\n",
    "\t\t<li><span style=\"font-size:16px;\"><code>&quot;a&quot;</code>: Append mode. Opens the file for appending (adding content at the end). Creates a new file if it doesn&#39;t exist.</span></li>\n",
    "\t\t<li><span style=\"font-size:16px;\"><code>&quot;x&quot;</code>: Exclusive creation mode. Creates a new file, but raises an error if the file already exists.</span></li>\n",
    "\t\t<li><span style=\"font-size:16px;\"><code>&quot;t&quot;</code>: Text mode (default). Opens the file in text mode for reading or writing.</span></li>\n",
    "\t\t<li><span style=\"font-size:16px;\"><code>&quot;b&quot;</code>: Binary mode. Opens the file in binary mode for reading or writing binary data.</span></li>\n",
    "\t\t<li><span style=\"font-size:16px;\"><code>&quot;+&quot;</code>: Update mode. Allows both reading and writing.</span></li>\n",
    "\t</ul>\n",
    "\t</li>\n",
    "\t<li><span style=\"font-size:16px;\">You can combine multiple modes by using them together, such as <code>&quot;rb&quot;</code> for opening a file in binary mode for reading.</span></li>\n",
    "</ul>"
   ]
  },
  {
   "cell_type": "code",
   "execution_count": null,
   "id": "1bf21ef2-87e6-43bc-8fad-d00ba7c720bf",
   "metadata": {},
   "outputs": [],
   "source": []
  },
  {
   "cell_type": "markdown",
   "id": "db925a31-e314-4dd0-8d0c-6786d67edba5",
   "metadata": {},
   "source": [
    "<ol start=\"2\">\n",
    "\t<li><span style=\"font-size:16px;\">File Objects:</span></li>\n",
    "</ol>\n",
    "\n",
    "<ul>\n",
    "\t<li><span style=\"font-size:16px;\">When you open a file using the <code>open()</code> function, it returns a file object.</span></li>\n",
    "\t<li><span style=\"font-size:16px;\">The file object provides methods and attributes that allow you to interact with the file.</span></li>\n",
    "\t<li><span style=\"font-size:16px;\">Common methods of a file object include:</span>\n",
    "\t<ul>\n",
    "\t\t<li><span style=\"font-size:16px;\"><code>read(size)</code>: Reads and returns the specified number of characters from the file.</span></li>\n",
    "\t\t<li><span style=\"font-size:16px;\"><code>readline()</code>: Reads and returns a single line from the file.</span></li>\n",
    "\t\t<li><span style=\"font-size:16px;\"><code>write(string)</code>: Writes the specified string to the file.</span></li>\n",
    "\t\t<li><span style=\"font-size:16px;\"><code>writelines(lines)</code>: Writes a list of lines to the file.</span></li>\n",
    "\t\t<li><span style=\"font-size:16px;\"><code>close()</code>: Closes the file, releasing system resources.</span></li>\n",
    "\t</ul>\n",
    "\t</li>\n",
    "</ul>"
   ]
  },
  {
   "cell_type": "code",
   "execution_count": null,
   "id": "8614f169-4dba-469d-94fb-1501080bff3d",
   "metadata": {},
   "outputs": [],
   "source": []
  },
  {
   "cell_type": "markdown",
   "id": "aaf9d37d-c08e-461f-9487-688bd8e14bc9",
   "metadata": {},
   "source": [
    "<h2>Handling exceptions and errors using try-except blocks</h2>"
   ]
  },
  {
   "cell_type": "markdown",
   "id": "57e7d025-83a0-4037-8690-99120996c781",
   "metadata": {},
   "source": [
    "<p><span style=\"font-size:16px;\">By using try-except blocks, you can anticipate and handle exceptions or errors in a controlled manner, allowing your program to gracefully recover from unexpected situations. It is important to use appropriate exception handling to improve the robustness and reliability of your code.</span></p>"
   ]
  },
  {
   "cell_type": "markdown",
   "id": "5fecf27f-abcd-4ba0-ac63-85892b3ea682",
   "metadata": {},
   "source": [
    "<ol start=\"1\">\n",
    "\t<li><span style=\"font-size:16px;\">The <code>try</code> Block:</span></li>\n",
    "</ol>\n",
    "\n",
    "<ul>\n",
    "\t<li><span style=\"font-size:16px;\">The <code>try</code> block is where you place the code that may potentially raise an exception or error.</span></li>\n",
    "\t<li><span style=\"font-size:16px;\">If an exception occurs within the <code>try</code> block, the program will jump to the corresponding <code>except</code> block to handle the exception.</span></li>\n",
    "</ul>\n",
    "\n",
    "<ol start=\"2\">\n",
    "\t<li><span style=\"font-size:16px;\">The <code>except</code> Block:</span></li>\n",
    "</ol>\n",
    "\n",
    "<ul>\n",
    "\t<li><span style=\"font-size:16px;\">The <code>except</code> block is where you define the code that will handle the specific exception raised within the <code>try</code> block.</span></li>\n",
    "\t<li><span style=\"font-size:16px;\">You specify the type of exception you want to catch after the <code>except</code> keyword.</span></li>\n",
    "\t<li><span style=\"font-size:16px;\">The code within the <code>except</code> block will be executed only if the specified exception occurs within the <code>try</code> block.</span></li>\n",
    "</ul>"
   ]
  },
  {
   "cell_type": "code",
   "execution_count": null,
   "id": "1cdbc9c9-93af-49f1-832d-b6b35da3d5b7",
   "metadata": {},
   "outputs": [],
   "source": []
  },
  {
   "cell_type": "markdown",
   "id": "b1e4d799-da9f-4e60-a73a-26a608d6861c",
   "metadata": {},
   "source": [
    "<h2>Introduction to common Python exceptions</h2>"
   ]
  },
  {
   "cell_type": "markdown",
   "id": "e2d4df81-dedd-4302-9ee2-a28e395a9094",
   "metadata": {},
   "source": [
    "<ol start=\"1\">\n",
    "\t<li><span style=\"font-size:16px;\">Handling Specific Exceptions:</span></li>\n",
    "</ol>\n",
    "\n",
    "<ul style=\"margin-left: 40px;\">\n",
    "\t<li><span style=\"font-size:16px;\">You can handle specific exceptions by specifying the appropriate exception type after the <code>except</code> keyword.</span></li>\n",
    "\t<li><span style=\"font-size:16px;\">Examples of commonly used exception types include <code>ZeroDivisionError</code>, <code>FileNotFoundError</code>, <code>TypeError</code>, <code>ValueError</code>, and <code>NameError</code>.</span></li>\n",
    "</ul>"
   ]
  },
  {
   "cell_type": "code",
   "execution_count": null,
   "id": "9034c691-d80d-4b82-b6c0-4cb257f2f42e",
   "metadata": {},
   "outputs": [],
   "source": []
  },
  {
   "cell_type": "markdown",
   "id": "11475726-9599-48c9-ab22-a33d4e684075",
   "metadata": {},
   "source": [
    "<ol start=\"2\">\n",
    "\t<li><span style=\"font-size:16px;\">Handling Multiple Exceptions:</span></li>\n",
    "</ol>\n",
    "\n",
    "<ul style=\"margin-left: 40px;\">\n",
    "\t<li><span style=\"font-size:16px;\">You can handle multiple exceptions by including multiple <code>except</code> blocks, each targeting a specific exception type.</span></li>\n",
    "\t<li><span style=\"font-size:16px;\">This allows you to have different handling logic for different types of exceptions that may occur.</span></li>\n",
    "\t<li><span style=\"font-size:16px;\">The first <code>except</code> block that matches the raised exception type will be executed, and subsequent <code>except</code> blocks will be skipped.</span></li>\n",
    "</ul>"
   ]
  },
  {
   "cell_type": "code",
   "execution_count": null,
   "id": "174eb6a6-fdf9-41b7-837c-9cf1f67ada99",
   "metadata": {},
   "outputs": [],
   "source": []
  },
  {
   "cell_type": "markdown",
   "id": "7e19ab81-b596-4c4d-874c-2d746da12038",
   "metadata": {},
   "source": [
    "<ol start=\"3\">\n",
    "\t<li><span style=\"font-size:16px;\">Handling Any Exception:</span></li>\n",
    "</ol>\n",
    "\n",
    "<ul style=\"margin-left: 40px;\">\n",
    "\t<li><span style=\"font-size:16px;\">You can use a general <code>except</code> block without specifying any exception type to catch any exception that occurs within the <code>try</code> block.</span></li>\n",
    "\t<li><span style=\"font-size:16px;\">However, it is recommended to handle specific exceptions whenever possible to provide targeted handling for specific scenarios.</span></li>\n",
    "</ul>"
   ]
  },
  {
   "cell_type": "code",
   "execution_count": null,
   "id": "34446c4a-dce4-4161-9d10-4e0914844588",
   "metadata": {},
   "outputs": [],
   "source": []
  },
  {
   "cell_type": "markdown",
   "id": "dbfa0a7c-9370-4c77-918c-e63bbb4098f0",
   "metadata": {},
   "source": [
    "<ol start=\"4\">\n",
    "\t<li><span style=\"font-size:16px;\">Exception Hierarchy:</span></li>\n",
    "</ol>\n",
    "\n",
    "<ul style=\"margin-left: 40px;\">\n",
    "\t<li><span style=\"font-size:16px;\">Exception types in Python are organized in a hierarchy, with the base class <code>Exception</code> at the top.</span></li>\n",
    "\t<li><span style=\"font-size:16px;\">You can catch multiple exception types by specifying a tuple of exception types in the <code>except</code> block.</span></li>\n",
    "\t<li><span style=\"font-size:16px;\">You can also use the <code>as</code> keyword to assign the exception instance to a variable for further examination.</span></li>\n",
    "</ul>"
   ]
  },
  {
   "cell_type": "code",
   "execution_count": null,
   "id": "3c32c4ac-48ec-4d57-a0e3-96c186317700",
   "metadata": {},
   "outputs": [],
   "source": []
  },
  {
   "cell_type": "markdown",
   "id": "a5bfad94-e00c-4421-997f-2961ec297238",
   "metadata": {},
   "source": [
    "<p><span style=\"font-size:16px;\">Challenge 1: File Reader<br />\n",
    "Write a program that reads a text file and prints its contents. Implement exception handling to catch any potential errors that may occur during file handling.</span></p>"
   ]
  },
  {
   "cell_type": "code",
   "execution_count": null,
   "id": "742b32bf-6dee-4a35-ae7b-94a618f785b8",
   "metadata": {
    "jupyter": {
     "source_hidden": true
    },
    "tags": []
   },
   "outputs": [],
   "source": [
    "try:\n",
    "    file_path = input(\"Enter the path to the file: \")\n",
    "    with open(file_path, \"r\") as file:\n",
    "        content = file.read()\n",
    "        print(content)\n",
    "except FileNotFoundError:\n",
    "    print(\"File not found.\")\n",
    "except IOError:\n",
    "    print(\"Error reading the file.\")"
   ]
  },
  {
   "cell_type": "code",
   "execution_count": null,
   "id": "b9f8e6e5-c5fa-4b13-bd06-88228777ba3b",
   "metadata": {},
   "outputs": [],
   "source": []
  },
  {
   "cell_type": "markdown",
   "id": "a8e29134-6960-4711-aa67-c07320c5f742",
   "metadata": {},
   "source": [
    "<p><span style=\"font-size:16px;\">Challenge 2: Division Calculator<br />\n",
    "Write a program that takes two numbers as input and performs division. Implement exception handling to catch division by zero errors and display a custom error message in such cases.</span></p>"
   ]
  },
  {
   "cell_type": "code",
   "execution_count": null,
   "id": "42485724-807e-4c79-89a5-56ece07f074a",
   "metadata": {
    "jupyter": {
     "source_hidden": true
    },
    "tags": []
   },
   "outputs": [],
   "source": [
    "try:\n",
    "    numerator = int(input(\"Enter the numerator: \"))\n",
    "    denominator = int(input(\"Enter the denominator: \"))\n",
    "    result = numerator / denominator\n",
    "    print(f\"The result of the division is: {result}\")\n",
    "except ZeroDivisionError:\n",
    "    print(\"Error: Division by zero is not allowed.\")\n",
    "except ValueError:\n",
    "    print(\"Error: Invalid input. Please enter valid integers.\")\n",
    "except Exception as e:\n",
    "    print(f\"An error occurred: {str(e)}\")"
   ]
  },
  {
   "cell_type": "code",
   "execution_count": null,
   "id": "e1d35a76-0dce-4552-b874-1acb54c97cda",
   "metadata": {},
   "outputs": [],
   "source": []
  }
 ],
 "metadata": {
  "kernelspec": {
   "display_name": "Python 3 (ipykernel)",
   "language": "python",
   "name": "python3"
  },
  "language_info": {
   "codemirror_mode": {
    "name": "ipython",
    "version": 3
   },
   "file_extension": ".py",
   "mimetype": "text/x-python",
   "name": "python",
   "nbconvert_exporter": "python",
   "pygments_lexer": "ipython3",
   "version": "3.11.3"
  }
 },
 "nbformat": 4,
 "nbformat_minor": 5
}

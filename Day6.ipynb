{
 "cells": [
  {
   "cell_type": "markdown",
   "id": "69ac85f2-9f95-4f13-b6c4-cd3be1e63ac5",
   "metadata": {},
   "source": [
    "<h1>Class 6: Object-Oriented Programming (OOP) Basics</h1>"
   ]
  },
  {
   "cell_type": "markdown",
   "id": "40b56b73-b01b-444d-a3a8-a43222f91135",
   "metadata": {},
   "source": [
    "<h2>Introduction to object-oriented programming concepts</h2>"
   ]
  },
  {
   "cell_type": "markdown",
   "id": "bb3b3793-a246-4214-a3c3-b562ede83f4e",
   "metadata": {},
   "source": [
    "<p><span style=\"font-size:16px;\">Object Oriented Programming provides a way to structure code, create reusable components, and model real-world entities in a more intuitive and modular manner. By understanding and applying these concepts, you can design and build more scalable and maintainable software systems.</span></p>"
   ]
  },
  {
   "cell_type": "markdown",
   "id": "f6bd553d-1172-4fb9-b1ed-1bc1c3e438fe",
   "metadata": {},
   "source": [
    "<ol>\n",
    "\t<li><span style=\"font-size:16px;\">Classes and Objects:</span></li>\n",
    "</ol>\n",
    "\n",
    "<ul style=\"margin-left: 40px;\">\n",
    "\t<li><span style=\"font-size:16px;\">A class is a blueprint or template that defines the structure and behavior of objects.</span></li>\n",
    "\t<li><span style=\"font-size:16px;\">An object is an instance of a class. It represents a specific occurrence of the class, with its own unique data and behavior.</span></li>\n",
    "</ul>"
   ]
  },
  {
   "cell_type": "code",
   "execution_count": null,
   "id": "4904dad7-2b43-4c33-90d4-dd823a11352c",
   "metadata": {},
   "outputs": [],
   "source": []
  },
  {
   "cell_type": "markdown",
   "id": "cfb0c02a-a583-4976-b220-9425bb679250",
   "metadata": {},
   "source": [
    "<ol start=\"2\">\n",
    "\t<li><span style=\"font-size:16px;\">Abstraction:</span></li>\n",
    "</ol>\n",
    "\n",
    "<ul style=\"margin-left: 40px;\">\n",
    "\t<li><span style=\"font-size:16px;\">Abstraction is the process of simplifying complex systems by breaking them down into manageable and abstract representations.</span></li>\n",
    "\t<li><span style=\"font-size:16px;\">It involves defining abstract classes or interfaces that provide a common interface for multiple related classes.</span></li>\n",
    "\t<li><span style=\"font-size:16px;\">Abstract classes cannot be instantiated and are meant to be inherited by subclasses.</span></li>\n",
    "</ul>"
   ]
  },
  {
   "cell_type": "code",
   "execution_count": null,
   "id": "0a05dc81-dae7-437f-926f-ce3336f4e711",
   "metadata": {},
   "outputs": [],
   "source": []
  },
  {
   "cell_type": "markdown",
   "id": "de96e574-641b-43ce-8b48-3c63172e9be4",
   "metadata": {},
   "source": [
    "<ol start=\"3\">\n",
    "\t<li><span style=\"font-size:16px;\">Polymorphism:</span></li>\n",
    "</ol>\n",
    "\n",
    "<ul style=\"margin-left: 40px;\">\n",
    "\t<li><span style=\"font-size:16px;\">Polymorphism allows objects of different classes to be treated as if they are objects of a common parent class.</span></li>\n",
    "\t<li><span style=\"font-size:16px;\">It enables the flexibility to use different objects interchangeably, as long as they conform to a shared interface or inherit from a common parent class.</span></li>\n",
    "\t<li><span style=\"font-size:16px;\">Polymorphism is achieved through method overriding and method overloading.</span></li>\n",
    "</ul>"
   ]
  },
  {
   "cell_type": "code",
   "execution_count": null,
   "id": "8cce217d-c86e-4c64-87b6-6dc4d503077e",
   "metadata": {},
   "outputs": [],
   "source": []
  },
  {
   "cell_type": "markdown",
   "id": "9fdf36d6-18f3-4156-9b69-a8be893df99c",
   "metadata": {},
   "source": [
    "<ol start=\"4\">\n",
    "\t<li><span style=\"font-size:16px;\">Inheritance:</span></li>\n",
    "</ol>\n",
    "\n",
    "<ul style=\"margin-left: 40px;\">\n",
    "\t<li><span style=\"font-size:16px;\">Inheritance allows one class (child class) to inherit properties and behaviors from another class (parent class).</span></li>\n",
    "\t<li><span style=\"font-size:16px;\">The child class can extend or override the attributes and methods of the parent class, promoting code reuse and creating a hierarchical relationship between classes.</span></li>\n",
    "</ul>"
   ]
  },
  {
   "cell_type": "code",
   "execution_count": null,
   "id": "ac919ea7-e469-4668-886f-f618784342ac",
   "metadata": {},
   "outputs": [],
   "source": []
  },
  {
   "cell_type": "markdown",
   "id": "1a07798c-6b64-4ad7-b3ba-43d9073e4901",
   "metadata": {},
   "source": [
    "<ol start=\"5\">\n",
    "\t<li><span style=\"font-size:16px;\">Encapsulation:</span></li>\n",
    "</ol>\n",
    "\n",
    "<ul style=\"margin-left: 40px;\">\n",
    "\t<li><span style=\"font-size:16px;\">Encapsulation is the concept of bundling data and methods together within a class, hiding the internal implementation details from the outside.</span></li>\n",
    "\t<li><span style=\"font-size:16px;\">It allows for better organization and protection of data, ensuring that it is accessed and modified through controlled methods (getters and setters).</span></li>\n",
    "</ul>"
   ]
  },
  {
   "cell_type": "code",
   "execution_count": null,
   "id": "da35b24d-4eb8-41c4-bca4-713120863368",
   "metadata": {},
   "outputs": [],
   "source": []
  },
  {
   "cell_type": "markdown",
   "id": "884ff039-949a-4165-8a37-1a72eb198c4f",
   "metadata": {},
   "source": [
    "<h2>Defining classes, objects, and attributes</h2>"
   ]
  },
  {
   "cell_type": "markdown",
   "id": "9b188574-64f4-4675-b8b5-71ae2dc538dc",
   "metadata": {},
   "source": [
    "<p><span style=\"font-size:16px;\">By defining classes, creating objects, and assigning attributes, you can model and represent real-world entities or concepts in your Python programs. Classes provide a way to encapsulate data and behavior, while objects allow you to create and interact with specific instances of those classes. Attributes give objects their individual characteristics and properties.</span></p>"
   ]
  },
  {
   "cell_type": "markdown",
   "id": "f2d03ee1-12f3-4215-9742-400cf9e02adc",
   "metadata": {},
   "source": [
    "<ol>\n",
    "\t<li><span style=\"font-size:16px;\">Defining a Class:</span></li>\n",
    "</ol>\n",
    "\n",
    "<ul style=\"margin-left: 40px;\">\n",
    "\t<li><span style=\"font-size:16px;\">A class is a blueprint or template that defines the structure and behavior of objects.</span></li>\n",
    "\t<li><span style=\"font-size:16px;\">It encapsulates data (attributes) and functions (methods) that operate on that data.</span></li>\n",
    "\t<li><span style=\"font-size:16px;\">To define a class, you use the <code>class</code> keyword followed by the name of the class (usually capitalized).</span></li>\n",
    "</ul>"
   ]
  },
  {
   "cell_type": "code",
   "execution_count": null,
   "id": "698a763a-6779-4641-abbc-2f408354f67b",
   "metadata": {},
   "outputs": [],
   "source": []
  },
  {
   "cell_type": "markdown",
   "id": "5dda791f-6b82-4457-a793-887ca81c5764",
   "metadata": {},
   "source": [
    "<ol start=\"2\">\n",
    "\t<li><span style=\"font-size:16px;\">Creating Objects (Instances):</span></li>\n",
    "</ol>\n",
    "\n",
    "<ul style=\"margin-left: 40px;\">\n",
    "\t<li><span style=\"font-size:16px;\">An object is an instance of a class.</span></li>\n",
    "\t<li><span style=\"font-size:16px;\">It represents a specific occurrence of the class, with its own unique data and behavior.</span></li>\n",
    "\t<li><span style=\"font-size:16px;\">To create an object, you call the class as if it were a function, which creates a new instance of that class.</span></li>\n",
    "</ul>"
   ]
  },
  {
   "cell_type": "code",
   "execution_count": null,
   "id": "d1788b44-414b-417f-b5d7-1e2755a72869",
   "metadata": {},
   "outputs": [],
   "source": []
  },
  {
   "cell_type": "markdown",
   "id": "3903aba3-3cc4-4f6f-a9b1-8572a4a898a1",
   "metadata": {},
   "source": [
    "<ol start=\"3\">\n",
    "\t<li><span style=\"font-size:16px;\">Defining Attributes:</span></li>\n",
    "</ol>\n",
    "\n",
    "<ul style=\"margin-left: 40px;\">\n",
    "\t<li>\n",
    "\t<p><span style=\"font-size:16px;\">Attributes are data associated with a class or an object.</span></p>\n",
    "\t</li>\n",
    "\t<li>\n",
    "\t<p><span style=\"font-size:16px;\">They represent the characteristics or properties of the object.</span></p>\n",
    "\t</li>\n",
    "\t<li>\n",
    "\t<p><span style=\"font-size:16px;\">Attributes can be defined at the class level (class attributes) or at the instance level (instance attributes).</span></p>\n",
    "\t</li>\n",
    "\t<li>\n",
    "\t<p><span style=\"font-size:16px;\">Class Attributes:</span><br />\n",
    "\t<span style=\"font-size: 16px;\">&nbsp; &nbsp; - Class attributes are shared by all instances of the class.</span><br />\n",
    "\t<span style=\"font-size: 16px;\">&nbsp; &nbsp; - They are defined directly within the class but outside of any methods.</span><br />\n",
    "\t<span style=\"font-size: 16px;\">&nbsp; &nbsp; - Class attributes are accessed using the class name or instance objects.</span></p>\n",
    "\t</li>\n",
    "\t<li>\n",
    "\t<p><span style=\"font-size:16px;\">Instance Attributes:</span><br />\n",
    "\t<span style=\"font-size: 16px;\">&nbsp; &nbsp; - Instance attributes are specific to each instance of the class.</span><br />\n",
    "\t<span style=\"font-size: 16px;\">&nbsp; &nbsp; - They are defined inside the class&#39;s methods, typically the special </span><code style=\"font-size: 16px;\">__init__()</code><span style=\"font-size: 16px;\"> method.</span><br />\n",
    "\t<span style=\"font-size: 16px;\">&nbsp; &nbsp; - Instance attributes are accessed using the instance object.</span></p>\n",
    "\t</li>\n",
    "</ul>\n"
   ]
  },
  {
   "cell_type": "code",
   "execution_count": null,
   "id": "a9b02056-4332-4c96-85d5-4f9c9bee2a52",
   "metadata": {},
   "outputs": [],
   "source": []
  },
  {
   "cell_type": "markdown",
   "id": "8e3b9a21-38ab-4a7a-9bb0-113ea4fcd714",
   "metadata": {},
   "source": [
    "<h2>Inheritance and polymorphism in Python</h2>"
   ]
  },
  {
   "cell_type": "markdown",
   "id": "d3f37131-e862-4b03-b3ad-b33b67482b67",
   "metadata": {},
   "source": [
    "<p><span style=\"font-size:16px;\">Encapsulation promotes data protection and allows for the implementation of access restrictions and validation checks. By using methods to interact with encapsulated attributes, you can ensure proper data manipulation and maintain the integrity of the object&#39;s internal state. </span></p>\n",
    "\n",
    "<p>&nbsp;</p>\n",
    "\n",
    "<p><span style=\"font-size:16px;\">Note: In Python, encapsulation is not strictly enforced like in some other languages. Conventionally, an attribute or method starting with an underscore (e.g., _name) indicates that it is intended to be treated as a private member, although it can still be accessed from outside the class.</span></p>"
   ]
  },
  {
   "cell_type": "markdown",
   "id": "9cc7da76-c7d5-4c48-b467-faf85e192a97",
   "metadata": {},
   "source": [
    "<ol>\n",
    "\t<li><span style=\"font-size:16px;\">Methods:</span></li>\n",
    "</ol>\n",
    "\n",
    "<ul style=\"margin-left: 40px;\">\n",
    "\t<li><span style=\"font-size:16px;\">Methods are functions that are defined within a class and operate on objects of that class.</span></li>\n",
    "\t<li><span style=\"font-size:16px;\">They are used to perform actions or operations specific to the class.</span></li>\n",
    "\t<li><span style=\"font-size:16px;\">Methods are defined using the <code>def</code> keyword followed by the method name, parentheses, and a colon.</span></li>\n",
    "\t<li><span style=\"font-size:16px;\">The first parameter of a method is typically <code>self</code>, which refers to the instance of the class.</span></li>\n",
    "</ul>"
   ]
  },
  {
   "cell_type": "code",
   "execution_count": null,
   "id": "ecc2c901-72cd-4bb3-839e-0dc98ef05eb6",
   "metadata": {},
   "outputs": [],
   "source": []
  },
  {
   "cell_type": "markdown",
   "id": "a4014310-315b-4bb1-aa54-b2a7c2de98f8",
   "metadata": {},
   "source": [
    "<ol start=\"2\">\n",
    "\t<li><span style=\"font-size:16px;\">Encapsulation:</span></li>\n",
    "</ol>\n",
    "\n",
    "<ul style=\"margin-left: 40px;\">\n",
    "\t<li><span style=\"font-size:16px;\">Encapsulation is the concept of bundling data and methods together within a class, hiding the internal implementation details from the outside.</span></li>\n",
    "\t<li><span style=\"font-size:16px;\">It allows for better organization and protection of data, ensuring that it is accessed and modified through controlled methods (getters and setters).</span></li>\n",
    "\t<li><span style=\"font-size:16px;\">Encapsulation helps achieve data abstraction and provides a way to control access to the internal state of an object.</span></li>\n",
    "</ul>\n"
   ]
  },
  {
   "cell_type": "code",
   "execution_count": null,
   "id": "ccc8db4b-5dfb-4a39-aa7d-c97667c93802",
   "metadata": {},
   "outputs": [],
   "source": []
  },
  {
   "cell_type": "markdown",
   "id": "6943af35-5171-43ea-9f40-37a8d8a82046",
   "metadata": {},
   "source": [
    "<p><span style=\"font-size:16px;\">Challenge 1: Shape Calculator</span></p>\n",
    "\n",
    "<p><span style=\"font-size:16px;\">Create a Shape class with the following attributes and methods:</span></p>\n",
    "\n",
    "<ul>\n",
    "\t<li><span style=\"font-size:16px;\">Attributes: color (string)</span></li>\n",
    "\t<li><span style=\"font-size:16px;\">Methods:</span>\n",
    "\t<ul>\n",
    "\t\t<li><span style=\"font-size:16px;\"><code>get_color()</code>: Returns the color of the shape.</span></li>\n",
    "\t\t<li><span style=\"font-size:16px;\"><code>area()</code>: Abstract method that calculates and returns the area of the shape (specific to each shape subclass).</span></li>\n",
    "\t\t<li><span style=\"font-size:16px;\"><code>display_area()</code>: Prints the area of the shape using the <code>area()</code> method.</span></li>\n",
    "\t</ul>\n",
    "\t</li>\n",
    "</ul>\n",
    "\n",
    "<p><span style=\"font-size:16px;\">Create two subclasses of the Shape class, Circle and Square. Implement the <code>area()</code> method for each subclass to calculate the area specific to that shape.</span></p>\n"
   ]
  },
  {
   "cell_type": "code",
   "execution_count": null,
   "id": "f433fe29-90c0-4b01-84de-6c9a0605d9e3",
   "metadata": {
    "jupyter": {
     "source_hidden": true
    },
    "tags": []
   },
   "outputs": [],
   "source": [
    "from math import pi\n",
    "from abc import abstractmethod\n",
    "class Shape:\n",
    "    \n",
    "    def __init__(self, color):\n",
    "        self._color = color  # Encapsulated attribute \n",
    "        \n",
    "    def get_color(self):\n",
    "        return _color\n",
    "    \n",
    "    @abstractmethod\n",
    "    def area(self):\n",
    "        pass\n",
    "    \n",
    "    def display_area(self):\n",
    "        print(self.area())\n",
    "\n",
    "class Circle(Shape):\n",
    "    \n",
    "    def __init__(self, radius = 10):\n",
    "        self.radius = radius\n",
    "    \n",
    "    def area(self):\n",
    "        return self.radius ** 2 * pi\n",
    "    \n",
    "class Square(Shape):\n",
    "    \n",
    "    def __init__(self, side = 10):\n",
    "        self._side_length = side\n",
    "    \n",
    "    def area(self):\n",
    "        return self._side_length ** 2\n",
    "\n",
    "circle = Circle(1.5)\n",
    "circle.display_area()\n",
    "\n",
    "square = Square(25)\n",
    "square.display_area()     "
   ]
  },
  {
   "cell_type": "code",
   "execution_count": null,
   "id": "0642eaf7-8491-4982-a32b-677f76a7e0ab",
   "metadata": {},
   "outputs": [],
   "source": []
  },
  {
   "cell_type": "markdown",
   "id": "24747bf8-0e21-4541-a776-e72d4648b0af",
   "metadata": {},
   "source": [
    "<p><span style=\"font-size:16px;\">Challenge 2: Bank Account Management </span></p>\n",
    "\n",
    "<p><span style=\"font-size:16px;\">Create a BankAccount class with the following attributes and methods:</span></p>\n",
    "\n",
    "<ul>\n",
    "\t<li><span style=\"font-size:16px;\">Attributes: account_number (string), balance (float)</span></li>\n",
    "\t<li><span style=\"font-size:16px;\">Methods:</span>\n",
    "\t<ul>\n",
    "\t\t<li><span style=\"font-size:16px;\"><code>get_balance()</code>: Returns the current balance of the account.</span></li>\n",
    "\t\t<li><span style=\"font-size:16px;\"><code>deposit(amount)</code>: Increases the balance by the specified amount.</span></li>\n",
    "\t\t<li><span style=\"font-size:16px;\"><code>withdraw(amount)</code>: Decreases the balance by the specified amount.</span></li>\n",
    "\t\t<li><span style=\"font-size:16px;\"><code>display_account_info()</code>: Prints the account number and current balance.</span></li>\n",
    "\t</ul>\n",
    "\t</li>\n",
    "</ul>\n",
    "\n",
    "<p><span style=\"font-size:16px;\">Create two instances of the BankAccount class. Deposite different amouts of money in each instance. From one instance, withdraw some money. Then call the display_account_info on both instances.</span></p>"
   ]
  },
  {
   "cell_type": "code",
   "execution_count": null,
   "id": "b8066775-16b1-4787-a787-fcfa4bd9d88d",
   "metadata": {
    "jupyter": {
     "source_hidden": true
    },
    "tags": []
   },
   "outputs": [],
   "source": [
    "class BankAccount:\n",
    "    \n",
    "    def __init__(self, account_number = \"\", balance = 0):\n",
    "        self._account_number = account_number\n",
    "        self.balance = balance\n",
    "        \n",
    "    def get_balance(self,):\n",
    "        return self._balance\n",
    "    \n",
    "    def deposit(self, amount):\n",
    "        self.balance += amount\n",
    "    \n",
    "    def withdraw(self, amount):\n",
    "        self.balance -= amount\n",
    "        \n",
    "    def display_account_info(self):\n",
    "        print(f\"Account: {self._account_number} has a balance of {self.balance}.\")\n",
    "    \n",
    "account1 = BankAccount(\"123456789\")\n",
    "account2 = BankAccount(\"987654321\", 100)\n",
    "\n",
    "account1.deposit(250)\n",
    "account1.withdraw(25)\n",
    "\n",
    "account2.deposit(500)\n",
    "\n",
    "account1.display_account_info()\n",
    "account2.display_account_info()"
   ]
  },
  {
   "cell_type": "code",
   "execution_count": null,
   "id": "eae7f529-6727-4dc6-8a44-0ad0833f1097",
   "metadata": {},
   "outputs": [],
   "source": []
  }
 ],
 "metadata": {
  "kernelspec": {
   "display_name": "Python 3 (ipykernel)",
   "language": "python",
   "name": "python3"
  },
  "language_info": {
   "codemirror_mode": {
    "name": "ipython",
    "version": 3
   },
   "file_extension": ".py",
   "mimetype": "text/x-python",
   "name": "python",
   "nbconvert_exporter": "python",
   "pygments_lexer": "ipython3",
   "version": "3.11.3"
  }
 },
 "nbformat": 4,
 "nbformat_minor": 5
}

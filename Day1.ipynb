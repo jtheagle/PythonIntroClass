{
 "cells": [
  {
   "cell_type": "markdown",
   "metadata": {},
   "source": [
    "<p style='font-size:14pt'>Python is a high-level, interpreted programming language known for its simplicity, readability, and versatility. It was created by Guido van Rossum and first released in 1991. Python emphasizes code readability with its clean and concise syntax, making it an ideal language for beginners and experienced developers alike.</p>"
   ]
  },
  {
   "cell_type": "markdown",
   "metadata": {},
   "source": [
    "<h1>Introduction to Python programming language and its features</h1>"
   ]
  },
  {
   "cell_type": "markdown",
   "metadata": {},
   "source": [
    "<div style=\"border:solid #d9d9e3 1.0pt; padding:0in 0in 0in 5.0pt; margin-left:24px\">\n",
    "<ol>\n",
    "\t<li style=\"border:none; padding:0in\"><span style=\"background:#f7f7f8\"><span style=\"font-size:12pt\"><span style=\"background:#f7f7f8\"><span style=\"tab-stops:list .5in\"><span style=\"font-family:&quot;Times New Roman&quot;,serif\"><b><span style=\"font-size:14.0pt\"><span style=\"font-family:&quot;Segoe UI&quot;,sans-serif\"><span style=\"color:#374151\">Readability</span></span></span></b><span style=\"font-size:14.0pt\"><span style=\"font-family:&quot;Segoe UI&quot;,sans-serif\"><span style=\"color:#374151\">: Python uses a syntax that is easy to read and understand, resembling English-like statements. This feature makes it easier to write and maintain Python code, as well as promotes code readability and collaboration.</span></span></span></span></span></span></span></span></li>\n",
    "\t<li style=\"border:none; padding:0in; --tw-border-spacing-x:0; --tw-border-spacing-y:0; --tw-ring-offset-width:0px\"><span style=\"background:#f7f7f8\"><span style=\"font-size:12pt\"><span style=\"background:#f7f7f8\"><span style=\"tab-stops:list .5in\"><span style=\"box-sizing:border-box\"><span style=\"--tw-translate-x:0\"><span style=\"--tw-translate-y:0\"><span style=\"--tw-rotate:0\"><span style=\"--tw-skew-x:0\"><span style=\"--tw-skew-y:0\"><span style=\"--tw-scale-x:1\"><span style=\"--tw-scale-y:1\"><span style=\"--tw-pan-x: \"><span style=\"--tw-pan-y: \"><span style=\"--tw-pinch-zoom: \"><span style=\"--tw-scroll-snap-strictness:proximity\"><span style=\"--tw-gradient-from-position: \"><span style=\"--tw-gradient-via-position: \"><span style=\"--tw-gradient-to-position: \"><span style=\"--tw-ordinal: \"><span style=\"--tw-slashed-zero: \"><span style=\"--tw-numeric-figure: \"><span style=\"--tw-numeric-spacing: \"><span style=\"--tw-numeric-fraction: \"><span style=\"--tw-ring-inset: \"><span style=\"--tw-ring-offset-color:#ffffff\"><span style=\"--tw-ring-color:rgba(69,89,164,.5)\"><span style=\"--tw-ring-offset-shadow:0 0 transparent\"><span style=\"--tw-ring-shadow:0 0 transparent\"><span style=\"--tw-shadow:0 0 transparent\"><span style=\"--tw-shadow-colored:0 0 transparent\"><span style=\"--tw-blur: \"><span style=\"--tw-brightness: \"><span style=\"--tw-contrast: \"><span style=\"--tw-grayscale: \"><span style=\"--tw-hue-rotate: \"><span style=\"--tw-invert: \"><span style=\"--tw-saturate: \"><span style=\"--tw-sepia: \"><span style=\"--tw-drop-shadow: \"><span style=\"--tw-backdrop-blur: \"><span style=\"--tw-backdrop-brightness: \"><span style=\"--tw-backdrop-contrast: \"><span style=\"--tw-backdrop-grayscale: \"><span style=\"--tw-backdrop-hue-rotate: \"><span style=\"--tw-backdrop-invert: \"><span style=\"--tw-backdrop-opacity: \"><span style=\"--tw-backdrop-saturate: \"><span style=\"--tw-backdrop-sepia: \"><span style=\"font-family:&quot;Times New Roman&quot;,serif\"><b><span style=\"font-size:14.0pt\"><span style=\"font-family:&quot;Segoe UI&quot;,sans-serif\"><span style=\"color:#374151\">Simplicity</span></span></span></b><span style=\"font-size:14.0pt\"><span style=\"font-family:&quot;Segoe UI&quot;,sans-serif\"><span style=\"color:#374151\">: Python&#39;s simplicity allows developers to express concepts and ideas using fewer lines of code compared to other programming languages. This simplicity also makes it easier to learn and grasp the fundamentals of programming.</span></span></span></span></span></span></span></span></span></span></span></span></span></span></span></span></span></span></span></span></span></span></span></span></span></span></span></span></span></span></span></span></span></span></span></span></span></span></span></span></span></span></span></span></span></span></span></span></span></span></span></span></span></li>\n",
    "\t<li style=\"border:none; padding:0in; --tw-border-spacing-x:0; --tw-border-spacing-y:0; --tw-ring-offset-width:0px\"><span style=\"background:#f7f7f8\"><span style=\"font-size:12pt\"><span style=\"background:#f7f7f8\"><span style=\"tab-stops:list .5in\"><span style=\"box-sizing:border-box\"><span style=\"--tw-translate-x:0\"><span style=\"--tw-translate-y:0\"><span style=\"--tw-rotate:0\"><span style=\"--tw-skew-x:0\"><span style=\"--tw-skew-y:0\"><span style=\"--tw-scale-x:1\"><span style=\"--tw-scale-y:1\"><span style=\"--tw-pan-x: \"><span style=\"--tw-pan-y: \"><span style=\"--tw-pinch-zoom: \"><span style=\"--tw-scroll-snap-strictness:proximity\"><span style=\"--tw-gradient-from-position: \"><span style=\"--tw-gradient-via-position: \"><span style=\"--tw-gradient-to-position: \"><span style=\"--tw-ordinal: \"><span style=\"--tw-slashed-zero: \"><span style=\"--tw-numeric-figure: \"><span style=\"--tw-numeric-spacing: \"><span style=\"--tw-numeric-fraction: \"><span style=\"--tw-ring-inset: \"><span style=\"--tw-ring-offset-color:#ffffff\"><span style=\"--tw-ring-color:rgba(69,89,164,.5)\"><span style=\"--tw-ring-offset-shadow:0 0 transparent\"><span style=\"--tw-ring-shadow:0 0 transparent\"><span style=\"--tw-shadow:0 0 transparent\"><span style=\"--tw-shadow-colored:0 0 transparent\"><span style=\"--tw-blur: \"><span style=\"--tw-brightness: \"><span style=\"--tw-contrast: \"><span style=\"--tw-grayscale: \"><span style=\"--tw-hue-rotate: \"><span style=\"--tw-invert: \"><span style=\"--tw-saturate: \"><span style=\"--tw-sepia: \"><span style=\"--tw-drop-shadow: \"><span style=\"--tw-backdrop-blur: \"><span style=\"--tw-backdrop-brightness: \"><span style=\"--tw-backdrop-contrast: \"><span style=\"--tw-backdrop-grayscale: \"><span style=\"--tw-backdrop-hue-rotate: \"><span style=\"--tw-backdrop-invert: \"><span style=\"--tw-backdrop-opacity: \"><span style=\"--tw-backdrop-saturate: \"><span style=\"--tw-backdrop-sepia: \"><span style=\"font-family:&quot;Times New Roman&quot;,serif\"><b><span style=\"font-size:14.0pt\"><span style=\"font-family:&quot;Segoe UI&quot;,sans-serif\"><span style=\"color:#374151\">Versatility</span></span></span></b><span style=\"font-size:14.0pt\"><span style=\"font-family:&quot;Segoe UI&quot;,sans-serif\"><span style=\"color:#374151\">: Python supports various programming paradigms, including procedural, object-oriented, and functional programming. This versatility enables developers to choose the most appropriate approach based on their specific needs and project requirements.</span></span></span></span></span></span></span></span></span></span></span></span></span></span></span></span></span></span></span></span></span></span></span></span></span></span></span></span></span></span></span></span></span></span></span></span></span></span></span></span></span></span></span></span></span></span></span></span></span></span></span></span></span></li>\n",
    "\t<li style=\"border:none; padding:0in; --tw-border-spacing-x:0; --tw-border-spacing-y:0; --tw-ring-offset-width:0px\"><span style=\"background:#f7f7f8\"><span style=\"font-size:12pt\"><span style=\"background:#f7f7f8\"><span style=\"tab-stops:list .5in\"><span style=\"box-sizing:border-box\"><span style=\"--tw-translate-x:0\"><span style=\"--tw-translate-y:0\"><span style=\"--tw-rotate:0\"><span style=\"--tw-skew-x:0\"><span style=\"--tw-skew-y:0\"><span style=\"--tw-scale-x:1\"><span style=\"--tw-scale-y:1\"><span style=\"--tw-pan-x: \"><span style=\"--tw-pan-y: \"><span style=\"--tw-pinch-zoom: \"><span style=\"--tw-scroll-snap-strictness:proximity\"><span style=\"--tw-gradient-from-position: \"><span style=\"--tw-gradient-via-position: \"><span style=\"--tw-gradient-to-position: \"><span style=\"--tw-ordinal: \"><span style=\"--tw-slashed-zero: \"><span style=\"--tw-numeric-figure: \"><span style=\"--tw-numeric-spacing: \"><span style=\"--tw-numeric-fraction: \"><span style=\"--tw-ring-inset: \"><span style=\"--tw-ring-offset-color:#ffffff\"><span style=\"--tw-ring-color:rgba(69,89,164,.5)\"><span style=\"--tw-ring-offset-shadow:0 0 transparent\"><span style=\"--tw-ring-shadow:0 0 transparent\"><span style=\"--tw-shadow:0 0 transparent\"><span style=\"--tw-shadow-colored:0 0 transparent\"><span style=\"--tw-blur: \"><span style=\"--tw-brightness: \"><span style=\"--tw-contrast: \"><span style=\"--tw-grayscale: \"><span style=\"--tw-hue-rotate: \"><span style=\"--tw-invert: \"><span style=\"--tw-saturate: \"><span style=\"--tw-sepia: \"><span style=\"--tw-drop-shadow: \"><span style=\"--tw-backdrop-blur: \"><span style=\"--tw-backdrop-brightness: \"><span style=\"--tw-backdrop-contrast: \"><span style=\"--tw-backdrop-grayscale: \"><span style=\"--tw-backdrop-hue-rotate: \"><span style=\"--tw-backdrop-invert: \"><span style=\"--tw-backdrop-opacity: \"><span style=\"--tw-backdrop-saturate: \"><span style=\"--tw-backdrop-sepia: \"><span style=\"font-family:&quot;Times New Roman&quot;,serif\"><b><span style=\"font-size:14.0pt\"><span style=\"font-family:&quot;Segoe UI&quot;,sans-serif\"><span style=\"color:#374151\">Cross-platform compatibility</span></span></span></b><span style=\"font-size:14.0pt\"><span style=\"font-family:&quot;Segoe UI&quot;,sans-serif\"><span style=\"color:#374151\">: Python is available on multiple platforms, including Windows, macOS, and Linux. This cross-platform compatibility allows developers to write code once and run it on different operating systems without making significant changes.</span></span></span></span></span></span></span></span></span></span></span></span></span></span></span></span></span></span></span></span></span></span></span></span></span></span></span></span></span></span></span></span></span></span></span></span></span></span></span></span></span></span></span></span></span></span></span></span></span></span></span></span></span></li>\n",
    "\t<li style=\"border:none; padding:0in; --tw-border-spacing-x:0; --tw-border-spacing-y:0; --tw-ring-offset-width:0px\"><span style=\"background:#f7f7f8\"><span style=\"font-size:12pt\"><span style=\"background:#f7f7f8\"><span style=\"tab-stops:list .5in\"><span style=\"box-sizing:border-box\"><span style=\"--tw-translate-x:0\"><span style=\"--tw-translate-y:0\"><span style=\"--tw-rotate:0\"><span style=\"--tw-skew-x:0\"><span style=\"--tw-skew-y:0\"><span style=\"--tw-scale-x:1\"><span style=\"--tw-scale-y:1\"><span style=\"--tw-pan-x: \"><span style=\"--tw-pan-y: \"><span style=\"--tw-pinch-zoom: \"><span style=\"--tw-scroll-snap-strictness:proximity\"><span style=\"--tw-gradient-from-position: \"><span style=\"--tw-gradient-via-position: \"><span style=\"--tw-gradient-to-position: \"><span style=\"--tw-ordinal: \"><span style=\"--tw-slashed-zero: \"><span style=\"--tw-numeric-figure: \"><span style=\"--tw-numeric-spacing: \"><span style=\"--tw-numeric-fraction: \"><span style=\"--tw-ring-inset: \"><span style=\"--tw-ring-offset-color:#ffffff\"><span style=\"--tw-ring-color:rgba(69,89,164,.5)\"><span style=\"--tw-ring-offset-shadow:0 0 transparent\"><span style=\"--tw-ring-shadow:0 0 transparent\"><span style=\"--tw-shadow:0 0 transparent\"><span style=\"--tw-shadow-colored:0 0 transparent\"><span style=\"--tw-blur: \"><span style=\"--tw-brightness: \"><span style=\"--tw-contrast: \"><span style=\"--tw-grayscale: \"><span style=\"--tw-hue-rotate: \"><span style=\"--tw-invert: \"><span style=\"--tw-saturate: \"><span style=\"--tw-sepia: \"><span style=\"--tw-drop-shadow: \"><span style=\"--tw-backdrop-blur: \"><span style=\"--tw-backdrop-brightness: \"><span style=\"--tw-backdrop-contrast: \"><span style=\"--tw-backdrop-grayscale: \"><span style=\"--tw-backdrop-hue-rotate: \"><span style=\"--tw-backdrop-invert: \"><span style=\"--tw-backdrop-opacity: \"><span style=\"--tw-backdrop-saturate: \"><span style=\"--tw-backdrop-sepia: \"><span style=\"font-family:&quot;Times New Roman&quot;,serif\"><b><span style=\"font-size:14.0pt\"><span style=\"font-family:&quot;Segoe UI&quot;,sans-serif\"><span style=\"color:#374151\">Extensive standard library</span></span></span></b><span style=\"font-size:14.0pt\"><span style=\"font-family:&quot;Segoe UI&quot;,sans-serif\"><span style=\"color:#374151\">: Python comes with a rich and extensive standard library, providing a wide range of modules and functions for common tasks. This library eliminates the need to write code from scratch for many functionalities, saving development time and effort.</span></span></span></span></span></span></span></span></span></span></span></span></span></span></span></span></span></span></span></span></span></span></span></span></span></span></span></span></span></span></span></span></span></span></span></span></span></span></span></span></span></span></span></span></span></span></span></span></span></span></span></span></span></li>\n",
    "\t<li style=\"border:none; padding:0in; --tw-border-spacing-x:0; --tw-border-spacing-y:0; --tw-ring-offset-width:0px\"><span style=\"background:#f7f7f8\"><span style=\"font-size:12pt\"><span style=\"background:#f7f7f8\"><span style=\"tab-stops:list .5in\"><span style=\"box-sizing:border-box\"><span style=\"--tw-translate-x:0\"><span style=\"--tw-translate-y:0\"><span style=\"--tw-rotate:0\"><span style=\"--tw-skew-x:0\"><span style=\"--tw-skew-y:0\"><span style=\"--tw-scale-x:1\"><span style=\"--tw-scale-y:1\"><span style=\"--tw-pan-x: \"><span style=\"--tw-pan-y: \"><span style=\"--tw-pinch-zoom: \"><span style=\"--tw-scroll-snap-strictness:proximity\"><span style=\"--tw-gradient-from-position: \"><span style=\"--tw-gradient-via-position: \"><span style=\"--tw-gradient-to-position: \"><span style=\"--tw-ordinal: \"><span style=\"--tw-slashed-zero: \"><span style=\"--tw-numeric-figure: \"><span style=\"--tw-numeric-spacing: \"><span style=\"--tw-numeric-fraction: \"><span style=\"--tw-ring-inset: \"><span style=\"--tw-ring-offset-color:#ffffff\"><span style=\"--tw-ring-color:rgba(69,89,164,.5)\"><span style=\"--tw-ring-offset-shadow:0 0 transparent\"><span style=\"--tw-ring-shadow:0 0 transparent\"><span style=\"--tw-shadow:0 0 transparent\"><span style=\"--tw-shadow-colored:0 0 transparent\"><span style=\"--tw-blur: \"><span style=\"--tw-brightness: \"><span style=\"--tw-contrast: \"><span style=\"--tw-grayscale: \"><span style=\"--tw-hue-rotate: \"><span style=\"--tw-invert: \"><span style=\"--tw-saturate: \"><span style=\"--tw-sepia: \"><span style=\"--tw-drop-shadow: \"><span style=\"--tw-backdrop-blur: \"><span style=\"--tw-backdrop-brightness: \"><span style=\"--tw-backdrop-contrast: \"><span style=\"--tw-backdrop-grayscale: \"><span style=\"--tw-backdrop-hue-rotate: \"><span style=\"--tw-backdrop-invert: \"><span style=\"--tw-backdrop-opacity: \"><span style=\"--tw-backdrop-saturate: \"><span style=\"--tw-backdrop-sepia: \"><span style=\"font-family:&quot;Times New Roman&quot;,serif\"><b><span style=\"font-size:14.0pt\"><span style=\"font-family:&quot;Segoe UI&quot;,sans-serif\"><span style=\"color:#374151\">Large third-party ecosystem</span></span></span></b><span style=\"font-size:14.0pt\"><span style=\"font-family:&quot;Segoe UI&quot;,sans-serif\"><span style=\"color:#374151\">: Python has a vast ecosystem of third-party libraries and packages, known as the Python Package Index (PyPI). These libraries cover a wide range of domains, such as web development, data analysis, machine learning, and more, enabling developers to leverage existing solutions and accelerate development.</span></span></span></span></span></span></span></span></span></span></span></span></span></span></span></span></span></span></span></span></span></span></span></span></span></span></span></span></span></span></span></span></span></span></span></span></span></span></span></span></span></span></span></span></span></span></span></span></span></span></span></span></span></li>\n",
    "\t<li style=\"border:none; padding:0in; --tw-border-spacing-x:0; --tw-border-spacing-y:0; --tw-ring-offset-width:0px\"><span style=\"background:#f7f7f8\"><span style=\"font-size:12pt\"><span style=\"background:#f7f7f8\"><span style=\"tab-stops:list .5in\"><span style=\"box-sizing:border-box\"><span style=\"--tw-translate-x:0\"><span style=\"--tw-translate-y:0\"><span style=\"--tw-rotate:0\"><span style=\"--tw-skew-x:0\"><span style=\"--tw-skew-y:0\"><span style=\"--tw-scale-x:1\"><span style=\"--tw-scale-y:1\"><span style=\"--tw-pan-x: \"><span style=\"--tw-pan-y: \"><span style=\"--tw-pinch-zoom: \"><span style=\"--tw-scroll-snap-strictness:proximity\"><span style=\"--tw-gradient-from-position: \"><span style=\"--tw-gradient-via-position: \"><span style=\"--tw-gradient-to-position: \"><span style=\"--tw-ordinal: \"><span style=\"--tw-slashed-zero: \"><span style=\"--tw-numeric-figure: \"><span style=\"--tw-numeric-spacing: \"><span style=\"--tw-numeric-fraction: \"><span style=\"--tw-ring-inset: \"><span style=\"--tw-ring-offset-color:#ffffff\"><span style=\"--tw-ring-color:rgba(69,89,164,.5)\"><span style=\"--tw-ring-offset-shadow:0 0 transparent\"><span style=\"--tw-ring-shadow:0 0 transparent\"><span style=\"--tw-shadow:0 0 transparent\"><span style=\"--tw-shadow-colored:0 0 transparent\"><span style=\"--tw-blur: \"><span style=\"--tw-brightness: \"><span style=\"--tw-contrast: \"><span style=\"--tw-grayscale: \"><span style=\"--tw-hue-rotate: \"><span style=\"--tw-invert: \"><span style=\"--tw-saturate: \"><span style=\"--tw-sepia: \"><span style=\"--tw-drop-shadow: \"><span style=\"--tw-backdrop-blur: \"><span style=\"--tw-backdrop-brightness: \"><span style=\"--tw-backdrop-contrast: \"><span style=\"--tw-backdrop-grayscale: \"><span style=\"--tw-backdrop-hue-rotate: \"><span style=\"--tw-backdrop-invert: \"><span style=\"--tw-backdrop-opacity: \"><span style=\"--tw-backdrop-saturate: \"><span style=\"--tw-backdrop-sepia: \"><span style=\"font-family:&quot;Times New Roman&quot;,serif\"><b><span style=\"font-size:14.0pt\"><span style=\"font-family:&quot;Segoe UI&quot;,sans-serif\"><span style=\"color:#374151\">Interpreted nature</span></span></span></b><span style=\"font-size:14.0pt\"><span style=\"font-family:&quot;Segoe UI&quot;,sans-serif\"><span style=\"color:#374151\">: Python is an interpreted language, which means that it does not require compilation before running. This allows for rapid development and quick prototyping, as code changes can be tested and executed immediately.</span></span></span></span></span></span></span></span></span></span></span></span></span></span></span></span></span></span></span></span></span></span></span></span></span></span></span></span></span></span></span></span></span></span></span></span></span></span></span></span></span></span></span></span></span></span></span></span></span></span></span></span></span></li>\n",
    "\t<li style=\"border:none; padding:0in; --tw-border-spacing-x:0; --tw-border-spacing-y:0; --tw-ring-offset-width:0px\"><span style=\"background:#f7f7f8\"><span style=\"font-size:12pt\"><span style=\"background:#f7f7f8\"><span style=\"tab-stops:list .5in\"><span style=\"box-sizing:border-box\"><span style=\"--tw-translate-x:0\"><span style=\"--tw-translate-y:0\"><span style=\"--tw-rotate:0\"><span style=\"--tw-skew-x:0\"><span style=\"--tw-skew-y:0\"><span style=\"--tw-scale-x:1\"><span style=\"--tw-scale-y:1\"><span style=\"--tw-pan-x: \"><span style=\"--tw-pan-y: \"><span style=\"--tw-pinch-zoom: \"><span style=\"--tw-scroll-snap-strictness:proximity\"><span style=\"--tw-gradient-from-position: \"><span style=\"--tw-gradient-via-position: \"><span style=\"--tw-gradient-to-position: \"><span style=\"--tw-ordinal: \"><span style=\"--tw-slashed-zero: \"><span style=\"--tw-numeric-figure: \"><span style=\"--tw-numeric-spacing: \"><span style=\"--tw-numeric-fraction: \"><span style=\"--tw-ring-inset: \"><span style=\"--tw-ring-offset-color:#ffffff\"><span style=\"--tw-ring-color:rgba(69,89,164,.5)\"><span style=\"--tw-ring-offset-shadow:0 0 transparent\"><span style=\"--tw-ring-shadow:0 0 transparent\"><span style=\"--tw-shadow:0 0 transparent\"><span style=\"--tw-shadow-colored:0 0 transparent\"><span style=\"--tw-blur: \"><span style=\"--tw-brightness: \"><span style=\"--tw-contrast: \"><span style=\"--tw-grayscale: \"><span style=\"--tw-hue-rotate: \"><span style=\"--tw-invert: \"><span style=\"--tw-saturate: \"><span style=\"--tw-sepia: \"><span style=\"--tw-drop-shadow: \"><span style=\"--tw-backdrop-blur: \"><span style=\"--tw-backdrop-brightness: \"><span style=\"--tw-backdrop-contrast: \"><span style=\"--tw-backdrop-grayscale: \"><span style=\"--tw-backdrop-hue-rotate: \"><span style=\"--tw-backdrop-invert: \"><span style=\"--tw-backdrop-opacity: \"><span style=\"--tw-backdrop-saturate: \"><span style=\"--tw-backdrop-sepia: \"><span style=\"font-family:&quot;Times New Roman&quot;,serif\"><b><span style=\"font-size:14.0pt\"><span style=\"font-family:&quot;Segoe UI&quot;,sans-serif\"><span style=\"color:#374151\">Dynamic typing</span></span></span></b><span style=\"font-size:14.0pt\"><span style=\"font-family:&quot;Segoe UI&quot;,sans-serif\"><span style=\"color:#374151\">: Python is dynamically typed, meaning that variable types are determined at runtime. This flexibility allows for more expressive code and faster development iterations.</span></span></span></span></span></span></span></span></span></span></span></span></span></span></span></span></span></span></span></span></span></span></span></span></span></span></span></span></span></span></span></span></span></span></span></span></span></span></span></span></span></span></span></span></span></span></span></span></span></span></span></span></span></li>\n",
    "</ol>\n",
    "</div>\n"
   ]
  },
  {
   "cell_type": "code",
   "execution_count": null,
   "metadata": {},
   "outputs": [],
   "source": []
  },
  {
   "cell_type": "markdown",
   "metadata": {},
   "source": [
    "<p style='font-size:14pt'>Python&#39;s wide range of applications includes web development, scientific computing, data analysis, machine learning, automation, scripting, and more. Its popularity and active community support make it a powerful and versatile language for various programming tasks.</p>"
   ]
  },
  {
   "cell_type": "markdown",
   "metadata": {},
   "source": [
    "<h1>Installing Python and setting up the development environment</h1>"
   ]
  },
  {
   "cell_type": "markdown",
   "metadata": {},
   "source": [
    "<p>Items to install for Python</p>\n",
    "\n",
    "<ul>\n",
    "\t<li>Python</li>\n",
    "\t<li>IDE (Jetbrains, VS Code, Visual studio)</li>\n",
    "\t<li>Python tool suite</li>\n",
    "</ul>"
   ]
  },
  {
   "cell_type": "markdown",
   "metadata": {},
   "source": [
    "<h2>To install Python on Windows, follow these simple instructions:</h2>\n",
    "\n",
    "<ol>\n",
    "\t<li>\n",
    "\t<p><strong>Visit the Python website</strong>: Go to the official Python website at <a href=\"https://www.python.org/\" target=\"_new\">https://www.python.org/</a>.</p>\n",
    "\t</li>\n",
    "\t<li>\n",
    "\t<p><strong>Download the Python installer</strong>: On the Python website, click on the &quot;Downloads&quot; tab, and you will be redirected to the download page. Scroll down to find the latest stable release of Python for Windows and select the appropriate installer based on your system architecture (32-bit or 64-bit). Most modern systems are 64-bit.</p>\n",
    "\t</li>\n",
    "\t<li>\n",
    "\t<p><strong>Run the installer</strong>: Once the installer file is downloaded, locate it in your computer&#39;s downloads or designated folder. Double-click on the installer file to start the installation process.</p>\n",
    "\t</li>\n",
    "\t<li>\n",
    "\t<p><strong>Customize the installation (optional)</strong>: The installer will provide customization options. You can choose to modify the installation location, select additional features, and customize the setup according to your preferences. If you&#39;re unsure, the default settings are typically sufficient.</p>\n",
    "\t</li>\n",
    "\t<li>\n",
    "\t<p><strong>Add Python to PATH</strong>: On the &quot;Customize Python&quot; screen during the installation, make sure to check the box that says &quot;Add Python to PATH.&quot; This will allow you to run Python from the command prompt or PowerShell without specifying the full path.</p>\n",
    "\t</li>\n",
    "\t<li>\n",
    "\t<p><strong>Complete the installation</strong>: Click on the &quot;Install Now&quot; button to begin the installation. The installer will extract and install Python and its associated tools and libraries.</p>\n",
    "\t</li>\n",
    "\t<li>\n",
    "\t<p><strong>Verify the installation</strong>: Once the installation is complete, open the command prompt or PowerShell and type <code>python --version</code> to verify that Python is installed correctly. You should see the installed Python version displayed.</p>\n",
    "\t</li>\n",
    "</ol>\n"
   ]
  },
  {
   "cell_type": "markdown",
   "metadata": {},
   "source": [
    "<h2>To install PyCharm, follow these simple instructions:</h2>\n",
    "\n",
    "<ol>\n",
    "\t<li>\n",
    "\t<p><span style=\"font-size:16px;\"><strong>Visit the JetBrains PyCharm website</strong>: Go to the official website of JetBrains PyCharm at <a href=\"https://www.jetbrains.com/pycharm/\" target=\"_new\">https://www.jetbrains.com/pycharm/</a>.</span></p>\n",
    "\t</li>\n",
    "\t<li>\n",
    "\t<p><span style=\"font-size:16px;\"><strong>Choose the edition</strong>: PyCharm offers both a Community Edition (free) and a Professional Edition (paid). Select the edition that suits your needs.</span></p>\n",
    "\t</li>\n",
    "\t<li>\n",
    "\t<p><span style=\"font-size:16px;\"><strong>Download the installer</strong>: Click on the &quot;Download&quot; button for the chosen edition, and the installer file will start downloading.</span></p>\n",
    "\t</li>\n",
    "\t<li>\n",
    "\t<p><span style=\"font-size:16px;\"><strong>Run the installer</strong>: Once the installer file is downloaded, locate it in your computer&#39;s downloads or designated folder. Double-click on the installer file to start the installation process.</span></p>\n",
    "\t</li>\n",
    "\t<li>\n",
    "\t<p><span style=\"font-size:16px;\"><strong>Select installation options</strong>: The installer will guide you through the installation process. You may need to choose the installation location and select any additional components or configurations you desire. Review the options and make your selections accordingly.</span></p>\n",
    "\t</li>\n",
    "\t<li>\n",
    "\t<p><span style=\"font-size:16px;\"><strong>Start the installation</strong>: Click on the &quot;Install&quot; button to begin the installation process. The installer will extract and set up the necessary files.</span></p>\n",
    "\t</li>\n",
    "\t<li>\n",
    "\t<p><span style=\"font-size:16px;\"><strong>Configure PyCharm (optional)</strong>: After the installation is complete, you can choose to configure the initial settings according to your preferences. This includes selecting themes, keymaps, and customizations.</span></p>\n",
    "\t</li>\n",
    "\t<li>\n",
    "\t<p><span style=\"font-size:16px;\"><strong>Launch PyCharm</strong>: Once the configuration is complete, you can launch PyCharm from the installation directory or by using the desktop/start menu shortcut created during installation.</span></p>\n",
    "\t</li>\n",
    "\t<li>\n",
    "\t<p><span style=\"font-size:16px;\"><strong>Activate PyCharm (optional, for the Professional Edition)</strong>: If you are using the Professional Edition of PyCharm, you may need to activate it using your JetBrains account or a license key. Follow the prompts to activate PyCharm.</span></p>\n",
    "\t</li>\n",
    "</ol>\n"
   ]
  },
  {
   "cell_type": "markdown",
   "metadata": {},
   "source": [
    "<h2>To install Anaconda on Windows, follow these step-by-step instructions:</h2>\n",
    "\n",
    "<ol>\n",
    "\t<li>\n",
    "\t<p><strong>Visit the Anaconda website</strong>: Go to the official Anaconda website at <a href=\"https://www.anaconda.com/\" target=\"_new\">https://www.anaconda.com/</a>.</p>\n",
    "\t</li>\n",
    "\t<li>\n",
    "\t<p><strong>Navigate to the Downloads page</strong>: On the Anaconda website, click on the &quot;Download&quot; button in the top menu.</p>\n",
    "\t</li>\n",
    "\t<li>\n",
    "\t<p><strong>Choose the Anaconda distribution</strong>: Anaconda offers two distributions: Anaconda Individual Edition and Anaconda Team Edition. Select the Individual Edition, which is free and suitable for individual users.</p>\n",
    "\t</li>\n",
    "\t<li>\n",
    "\t<p><strong>Select the appropriate installer</strong>: On the Individual Edition download page, you will see options for Windows, macOS, and Linux. Click on the &quot;Download&quot; button for the Windows installer.</p>\n",
    "\t</li>\n",
    "\t<li>\n",
    "\t<p><strong>Download the installer</strong>: Once you click the download button, the installer file will start downloading. It may take some time, depending on your internet connection.</p>\n",
    "\t</li>\n",
    "\t<li>\n",
    "\t<p><strong>Run the installer</strong>: Locate the downloaded installer file (usually in your downloads folder) and double-click on it to start the installation process.</p>\n",
    "\t</li>\n",
    "\t<li>\n",
    "\t<p><strong>Follow the installation wizard</strong>: The installer will guide you through the installation process. Read and accept the license agreement, choose the installation location (the default location is recommended), and select the installation type as &quot;Just Me&quot; unless you have specific requirements.</p>\n",
    "\t</li>\n",
    "\t<li>\n",
    "\t<p><strong>Select advanced options (optional)</strong>: During the installation, you may be presented with additional options such as adding Anaconda to your system PATH or registering Anaconda as your default Python distribution. It is recommended to leave these options enabled for easier command-line access to Anaconda.</p>\n",
    "\t</li>\n",
    "\t<li>\n",
    "\t<p><strong>Complete the installation</strong>: After selecting the desired options, click on the &quot;Install&quot; button to start the installation process. Wait for the installer to complete the installation of Anaconda and its components.</p>\n",
    "\t</li>\n",
    "\t<li>\n",
    "\t<p><strong>Verify the installation</strong>: Once the installation is complete, you can verify it by opening the Anaconda Navigator. To do this, click on the Windows Start button, search for &quot;Anaconda Navigator&quot; in the search bar, and click on the Anaconda Navigator application when it appears. If the Anaconda Navigator opens successfully, it means the installation was successful.</p>\n",
    "\t</li>\n",
    "</ol>\n"
   ]
  },
  {
   "cell_type": "code",
   "execution_count": null,
   "metadata": {},
   "outputs": [],
   "source": []
  },
  {
   "cell_type": "markdown",
   "metadata": {},
   "source": [
    "<h1>Basic syntax, variables, and data types in Python</h1>"
   ]
  },
  {
   "cell_type": "markdown",
   "metadata": {},
   "source": [
    "<p><span style=\"font-size:16px;\">Basic Syntax: Python uses a simple and readable syntax. Here are a few key points:</span></p>\n",
    "\n",
    "<ul>\n",
    "\t<li><span style=\"font-size:16px;\">Statements are typically written on separate lines.</span></li>\n",
    "\t<li><span style=\"font-size:16px;\">Indentation (whitespace at the beginning of a line) is crucial for defining code blocks, such as loops and functions.</span></li>\n",
    "\t<li><span style=\"font-size:16px;\">Comments can be added using the &#39;#&#39; symbol, and they are ignored by the Python interpreter.</span></li>\n",
    "\t<li><span style=\"font-size:16px;\">Python is case-sensitive, so variables named &quot;myVar&quot; and &quot;myvar&quot; are considered different.</span></li>\n",
    "</ul>"
   ]
  },
  {
   "cell_type": "code",
   "execution_count": null,
   "metadata": {},
   "outputs": [],
   "source": []
  },
  {
   "cell_type": "markdown",
   "metadata": {},
   "source": [
    "<p><span style=\"font-size:16px;\">Variables: In Python, variables are used to store data values. They can be assigned values using the &#39;=&#39; operator. Here&#39;s an example:</span></p>\n",
    "\n",
    "<ul>\n",
    "\t<li>\n",
    "\t<p><span style=\"font-size:16px;\"><code>name = &quot;John&quot; age = 25 </code></span></p>\n",
    "\t</li>\n",
    "\t<li><span style=\"font-size:16px;\">Variables can store different types of data, such as strings, numbers, or Boolean values.</span></li>\n",
    "\t<li><span style=\"font-size:16px;\">Python uses dynamic typing, meaning you don&#39;t need to explicitly declare the variable type. The type is inferred based on the value assigned.</span></li>\n",
    "</ul>\n"
   ]
  },
  {
   "cell_type": "code",
   "execution_count": null,
   "metadata": {},
   "outputs": [],
   "source": []
  },
  {
   "cell_type": "markdown",
   "metadata": {},
   "source": [
    "<p><span style=\"font-size:16px;\">Data Types: Python supports several built-in data types. Here are some common ones:</span></p>\n",
    "\n",
    "<ul>\n",
    "\t<li>\n",
    "\t<p><span style=\"font-size:16px;\">Integers: Used to represent whole numbers. Example: <code>age = 25</code></span></p>\n",
    "\t</li>\n",
    "\t<li>\n",
    "\t<p><span style=\"font-size:16px;\">Floats: Used to represent decimal numbers. Example: <code>price = 19.99</code></span></p>\n",
    "\t</li>\n",
    "\t<li>\n",
    "\t<p><span style=\"font-size:16px;\">Strings: Used to represent text. Enclosed in single or double quotes. Example: <code>name = &quot;John&quot;</code></span></p>\n",
    "\t</li>\n",
    "\t<li>\n",
    "\t<p><span style=\"font-size:16px;\">Booleans: Represents either <code>True</code> or <code>False</code>. Used for logical operations. Example: <code>is_valid = True</code></span></p>\n",
    "\t</li>\n",
    "\t<li>\n",
    "\t<p><span style=\"font-size:16px;\">Lists: Ordered collection of items enclosed in square brackets, separated by commas. Example: <code>fruits = [&#39;apple&#39;, &#39;banana&#39;, &#39;orange&#39;]</code></span></p>\n",
    "\t</li>\n",
    "\t<li>\n",
    "\t<p><span style=\"font-size:16px;\">Tuples: Similar to lists but enclosed in parentheses. Tuples are immutable, meaning their values cannot be changed after creation. Example: <code>point = (3, 4)</code></span></p>\n",
    "\t</li>\n",
    "\t<li>\n",
    "\t<p><span style=\"font-size:16px;\">Dictionaries: Key-value pairs enclosed in curly braces. Example: <code>person = {&#39;name&#39;: &#39;John&#39;, &#39;age&#39;: 25}</code></span></p>\n",
    "\t</li>\n",
    "\t<li>\n",
    "\t<p><span style=\"font-size:16px;\">Sets: Unordered collection of unique elements. Example: <code>numbers = {1, 2, 3, 4, 5}</code></span></p>\n",
    "\t</li>\n",
    "</ul>\n"
   ]
  },
  {
   "cell_type": "code",
   "execution_count": null,
   "metadata": {},
   "outputs": [],
   "source": []
  },
  {
   "cell_type": "markdown",
   "metadata": {},
   "source": [
    "<h1>Working with arithmetic and logical operators</h1>"
   ]
  },
  {
   "cell_type": "markdown",
   "metadata": {},
   "source": [
    "<p><span style=\"font-size:16px;\">In Python, there are several arithmetic and logical operators available for performing mathematical and logical operations.&nbsp;</span></p>\n",
    "\n",
    "<p><span style=\"font-size:16px;\">Arithmetic Operators:</span></p>\n",
    "\n",
    "<ul>\n",
    "\t<li><span style=\"font-size:16px;\">Addition: <code>+</code> (e.g., <code>2 + 3</code>)</span></li>\n",
    "\t<li><span style=\"font-size:16px;\">Subtraction: <code>-</code> (e.g., <code>5 - 2</code>)</span></li>\n",
    "\t<li><span style=\"font-size:16px;\">Multiplication: <code>*</code> (e.g., <code>4 * 3</code>)</span></li>\n",
    "\t<li><span style=\"font-size:16px;\">Division: <code>/</code> (e.g., <code>10 / 2</code>)</span></li>\n",
    "\t<li><span style=\"font-size:16px;\">Floor Division: <code>//</code> (e.g., <code>10 // 3</code> returns the quotient)</span></li>\n",
    "\t<li><span style=\"font-size:16px;\">Modulus: <code>%</code> (e.g., <code>10 % 3</code> returns the remainder)</span></li>\n",
    "\t<li><span style=\"font-size:16px;\">Exponentiation: <code>**</code> (e.g., <code>2 ** 3</code> raises 2 to the power of 3)</span></li>\n",
    "</ul>"
   ]
  },
  {
   "cell_type": "code",
   "execution_count": null,
   "metadata": {},
   "outputs": [],
   "source": []
  },
  {
   "cell_type": "markdown",
   "metadata": {},
   "source": [
    "<p><span style=\"font-size:16px;\">Logical Operators:</span></p>\n",
    "\n",
    "<ul>\n",
    "\t<li><span style=\"font-size:16px;\">AND: <code>and</code> (e.g., <code>True and False</code> returns False)</span></li>\n",
    "\t<li><span style=\"font-size:16px;\">OR: <code>or</code> (e.g., <code>True or False</code> returns True)</span></li>\n",
    "\t<li><span style=\"font-size:16px;\">NOT: <code>not</code> (e.g., <code>not True</code> returns False)</span></li>\n",
    "</ul>\n",
    "\n"
   ]
  },
  {
   "cell_type": "code",
   "execution_count": null,
   "metadata": {},
   "outputs": [],
   "source": []
  },
  {
   "cell_type": "markdown",
   "metadata": {},
   "source": [
    "<p><span style=\"font-size:16px;\">Comparison Operators:</span></p>\n",
    "\n",
    "<ul>\n",
    "\t<li><span style=\"font-size:16px;\">Equal to: <code>==</code> (e.g., <code>5 == 5</code> returns True)</span></li>\n",
    "\t<li><span style=\"font-size:16px;\">Not equal to: <code>!=</code> (e.g., <code>5 != 3</code> returns True)</span></li>\n",
    "\t<li><span style=\"font-size:16px;\">Greater than: <code>&gt;</code> (e.g., <code>5 &gt; 3</code> returns True)</span></li>\n",
    "\t<li><span style=\"font-size:16px;\">Less than: <code>&lt;</code> (e.g., <code>2 &lt; 5</code> returns True)</span></li>\n",
    "\t<li><span style=\"font-size:16px;\">Greater than or equal to: <code>&gt;=</code> (e.g., <code>4 &gt;= 4</code> returns True)</span></li>\n",
    "\t<li><span style=\"font-size:16px;\">Less than or equal to: <code>&lt;=</code> (e.g., <code>3 &lt;= 2</code> returns False)</span></li>\n",
    "</ul>\n",
    "\n"
   ]
  },
  {
   "cell_type": "code",
   "execution_count": null,
   "metadata": {},
   "outputs": [],
   "source": []
  },
  {
   "cell_type": "markdown",
   "metadata": {},
   "source": [
    "<p><span style=\"font-size:16px;\">These operators are used to perform calculations, compare values, and evaluate conditions within<strong> if statements</strong>, <strong>loops</strong>, and other control structures. Understanding and utilizing these operators is fundamental to writingprograms in Python.</span></p>"
   ]
  },
  {
   "cell_type": "code",
   "execution_count": null,
   "metadata": {},
   "outputs": [],
   "source": []
  }
 ],
 "metadata": {
  "kernelspec": {
   "display_name": "Python 3 (ipykernel)",
   "language": "python",
   "name": "python3"
  },
  "language_info": {
   "codemirror_mode": {
    "name": "ipython",
    "version": 3
   },
   "file_extension": ".py",
   "mimetype": "text/x-python",
   "name": "python",
   "nbconvert_exporter": "python",
   "pygments_lexer": "ipython3",
   "version": "3.11.3"
  }
 },
 "nbformat": 4,
 "nbformat_minor": 4
}

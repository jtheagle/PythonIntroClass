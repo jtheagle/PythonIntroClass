{
 "cells": [
  {
   "cell_type": "markdown",
   "id": "a006ce87-d1b0-463a-8819-46abe068f853",
   "metadata": {
    "tags": []
   },
   "source": [
    "<h1>Class 4: Functions and Modules</h1>"
   ]
  },
  {
   "cell_type": "markdown",
   "id": "c00c56fb-ebc4-4bf4-85e1-7ca2c15aafc0",
   "metadata": {},
   "source": [
    "<h2>Defining and calling functions in Python</h2>"
   ]
  },
  {
   "cell_type": "markdown",
   "id": "47678d7b-87a4-4fe1-a311-6c12a75c488e",
   "metadata": {},
   "source": [
    "<p><span style=\"font-size:16px;\">Understanding how to define and call functions in Python allows you to organize your code, reuse logic, and make it more modular and maintainable. Functions provide a way to break down complex problems into smaller, manageable tasks.</span></p>"
   ]
  },
  {
   "cell_type": "markdown",
   "id": "3a3ad9f2-bdec-42ab-a39a-3ce5bbd54d47",
   "metadata": {},
   "source": [
    "<ol>\n",
    "\t<li><span style=\"font-size:16px;\">Defining a Function:</span></li>\n",
    "</ol>\n",
    "\n",
    "<ul>\n",
    "\t<li><span style=\"font-size:16px;\">To define a function in Python, you use the <code>def</code> keyword followed by the function name and parentheses.</span></li>\n",
    "\t<li><span style=\"font-size:16px;\">Inside the parentheses, you can specify parameters (input values) that the function accepts.</span></li>\n",
    "\t<li><span style=\"font-size:16px;\">The function definition is followed by a colon (:) and an indented block of code that represents the function&#39;s body.</span></li>\n",
    "</ul>\n"
   ]
  },
  {
   "cell_type": "code",
   "execution_count": null,
   "id": "dc89aa6f-ec54-434f-ba0f-e35dff6af055",
   "metadata": {
    "tags": []
   },
   "outputs": [],
   "source": []
  },
  {
   "cell_type": "markdown",
   "id": "38da608b-e300-4355-a982-61a5ab8e38f5",
   "metadata": {},
   "source": [
    "<ol start=\"2\">\n",
    "\t<li><span style=\"font-size:16px;\">Calling a Function:</span></li>\n",
    "</ol>\n",
    "\n",
    "<ul>\n",
    "\t<li><span style=\"font-size:16px;\">To call a function, you simply write the function name followed by parentheses.</span></li>\n",
    "\t<li><span style=\"font-size:16px;\">If the function expects parameters, you pass the values inside the parentheses.</span></li>\n",
    "</ul>\n"
   ]
  },
  {
   "cell_type": "code",
   "execution_count": null,
   "id": "0a409b1b-7f71-41df-86c5-96e82f9ede2d",
   "metadata": {
    "tags": []
   },
   "outputs": [],
   "source": []
  },
  {
   "cell_type": "markdown",
   "id": "19ff7808-7287-485f-ac55-8404102621c4",
   "metadata": {},
   "source": [
    "<ol start=\"3\">\n",
    "\t<li><span style=\"font-size:16px;\">Function Documentation (Docstring):</span></li>\n",
    "</ol>\n",
    "\n",
    "<ul>\n",
    "\t<li><span style=\"font-size:16px;\">It is a good practice to include a docstring, a brief description of the function&#39;s purpose and usage, at the beginning of the function definition.</span></li>\n",
    "\t<li><span style=\"font-size:16px;\">The docstring helps others (including yourself) understand how to use the function and what it does.</span></li>\n",
    "</ul>"
   ]
  },
  {
   "cell_type": "code",
   "execution_count": null,
   "id": "2bac3978-2938-4064-beac-5dc0b76293c6",
   "metadata": {},
   "outputs": [],
   "source": []
  },
  {
   "cell_type": "markdown",
   "id": "307f30cf-edbc-4054-ac4e-6d73f0a29af0",
   "metadata": {},
   "source": [
    "<h2>Understanding function parameters and return values</h2>"
   ]
  },
  {
   "cell_type": "markdown",
   "id": "2dcaffdf-02a8-4c53-a3ff-6ff24ea6be6e",
   "metadata": {},
   "source": [
    "<ol start=\"1\">\n",
    "\t<li><span style=\"font-size:16px;\">Function Parameters:</span></li>\n",
    "</ol>\n",
    "\n",
    "<ul>\n",
    "\t<li><span style=\"font-size:16px;\">Functions can accept parameters, which are placeholders for values that are passed to the function during the function call.</span></li>\n",
    "\t<li><span style=\"font-size:16px;\">Parameters can be specified in the function definition, and they can have default values.</span></li>\n",
    "</ul>"
   ]
  },
  {
   "cell_type": "markdown",
   "id": "2ad711cb-0a61-41e8-b421-04826bf59801",
   "metadata": {},
   "source": [
    "<ol start=\"2\">\n",
    "\t<li><span style=\"font-size:16px;\">Return Statement:</span></li>\n",
    "</ol>\n",
    "\n",
    "<ul>\n",
    "\t<li><span style=\"font-size:16px;\">Functions can return values using the <code>return</code> statement.</span></li>\n",
    "\t<li><span style=\"font-size:16px;\">The <code>return</code> statement ends the function execution and sends back the specified value as the result of the function call.</span></li>\n",
    "</ul>"
   ]
  },
  {
   "cell_type": "code",
   "execution_count": null,
   "id": "7d01806c-957f-4f69-b645-1a6f21880ab3",
   "metadata": {
    "tags": []
   },
   "outputs": [],
   "source": []
  },
  {
   "cell_type": "markdown",
   "id": "f0c55f82-e72b-4adc-9cce-5aa32ab70b1a",
   "metadata": {},
   "source": [
    "<ol start=\"6\">\n",
    "\t<li><span style=\"font-size:16px;\">Function Scope:</span></li>\n",
    "</ol>\n",
    "\n",
    "<ul>\n",
    "\t<li><span style=\"font-size:16px;\">Variables defined inside a function are local to that function and cannot be accessed outside of it.</span></li>\n",
    "\t<li><span style=\"font-size:16px;\">Variables defined outside of any function (at the top level) are global and can be accessed from anywhere in the code.</span></li>\n",
    "</ul>"
   ]
  },
  {
   "cell_type": "code",
   "execution_count": null,
   "id": "ae14739b-568a-4d9e-8086-10b772edb579",
   "metadata": {
    "tags": []
   },
   "outputs": [],
   "source": []
  },
  {
   "cell_type": "markdown",
   "id": "ff54c821-16b4-4103-89c3-303d8a2023a6",
   "metadata": {},
   "source": [
    "<h2>Introduction to modules and libraries in Python</h2>"
   ]
  },
  {
   "cell_type": "markdown",
   "id": "34f3ed29-14c9-44a2-91f1-0533bf1cd487",
   "metadata": {},
   "source": [
    "<p><span style=\"font-size:16px;\">Using modules and libraries in Python promotes code reusability, reduces redundancy, and enables you to leverage existing solutions and functionality. They make it easier to organize and maintain code and allow you to tap into the vast ecosystem of libraries available in Python.</span></p>\n"
   ]
  },
  {
   "cell_type": "markdown",
   "id": "cdd4b649-1ac8-486a-b43d-bd8c3965b8b0",
   "metadata": {},
   "source": [
    "<ol>\n",
    "\t<li><span style=\"font-size:16px;\">Modules:</span></li>\n",
    "</ol>\n",
    "\n",
    "<ul>\n",
    "\t<li><span style=\"font-size:16px;\">A module is a Python file that contains definitions, functions, classes, or variables that can be imported and used in other Python programs.</span></li>\n",
    "\t<li><span style=\"font-size:16px;\">Modules provide a way to organize related code into separate files, making it easier to manage and maintain large projects.</span></li>\n",
    "\t<li><span style=\"font-size:16px;\">You can create your own modules by creating a Python file with a <code>.py</code> extension and defining code within it.</span></li>\n",
    "</ul>\n"
   ]
  },
  {
   "cell_type": "code",
   "execution_count": null,
   "id": "ea8e4968-4260-4b32-b88d-8d13a7f8b64e",
   "metadata": {
    "tags": []
   },
   "outputs": [],
   "source": []
  },
  {
   "cell_type": "markdown",
   "id": "a28d0c4d-9ad6-464e-a54f-dccd630a5e1b",
   "metadata": {},
   "source": [
    "<ol start=\"2\">\n",
    "\t<li><span style=\"font-size:16px;\">Importing Modules:</span></li>\n",
    "</ol>\n",
    "\n",
    "<ul>\n",
    "\t<li><span style=\"font-size:16px;\">To use code from a module, you need to import it into your Python program.</span></li>\n",
    "\t<li><span style=\"font-size:16px;\">The <code>import</code> statement is used to import modules.</span></li>\n",
    "\t<li><span style=\"font-size:16px;\">Example: To import the <code>math</code> module, you would use <code>import math</code>.</span></li>\n",
    "\t<li><span style=\"font-size:16px;\">Once imported, you can access the functions, classes, or variables defined in the module using dot notation, such as <code>math.sqrt()</code>.</span></li>\n",
    "</ul>"
   ]
  },
  {
   "cell_type": "code",
   "execution_count": null,
   "id": "3209a5c7-a08d-49e8-8111-09a426e212bc",
   "metadata": {
    "tags": []
   },
   "outputs": [],
   "source": []
  },
  {
   "cell_type": "markdown",
   "id": "8a92efe7-8f0c-41ba-bd5d-2b4c56370a45",
   "metadata": {},
   "source": [
    "<ol start=\"3\">\n",
    "\t<li><span style=\"font-size:16px;\">Libraries:</span></li>\n",
    "</ol>\n",
    "\n",
    "<ul>\n",
    "\t<li><span style=\"font-size:16px;\">A library (or package) is a collection of modules that provide specific functionality or solve particular problems.</span></li>\n",
    "\t<li><span style=\"font-size:16px;\">Libraries are pre-written code that can be used to extend the capabilities of Python by providing ready-to-use functions, classes, and modules.</span></li>\n",
    "\t<li><span style=\"font-size:16px;\">Python has a vast ecosystem of libraries that cover various domains, such as NumPy for numerical computations, pandas for data manipulation, or matplotlib for data visualization.</span></li>\n",
    "\t<li><span style=\"font-size:16px;\">Libraries are typically installed using package managers like pip (Python package installer).</span></li>\n",
    "</ul>\n"
   ]
  },
  {
   "cell_type": "code",
   "execution_count": null,
   "id": "4366e571-bd3a-4bb6-b3d0-965357a3e879",
   "metadata": {},
   "outputs": [],
   "source": []
  },
  {
   "cell_type": "markdown",
   "id": "d700d470-6192-4eae-837e-75b5b67faccb",
   "metadata": {},
   "source": [
    "<ol start=\"4\">\n",
    "\t<li><span style=\"font-size:16px;\">Using Libararies:</span></li>\n",
    "</ol>\n",
    "\n",
    "<ul>\n",
    "\t<li><span style=\"font-size:16px;\">To use a library, you need to install it first using the appropriate package manager.</span></li>\n",
    "\t<li><span style=\"font-size:16px;\">Once installed, you can import the desired module(s) from the library and use its functions, classes, and variables in your code.</span></li>\n",
    "\t<li><span style=\"font-size:16px;\">Example: To import the <code>numpy</code> library and use its <code>array</code> function, you would use <code>import numpy</code> followed by <code>numpy.array()</code>.</span></li>\n",
    "</ul>\n",
    "\n",
    "<ol start=\"5\">\n",
    "\t<li><span style=\"font-size:16px;\">Alias and Selective Importing:</span></li>\n",
    "</ol>\n",
    "\n",
    "<ul>\n",
    "\t<li><span style=\"font-size:16px;\">You can provide an alias to a module or library to simplify its usage by using the <code>as</code> keyword.</span></li>\n",
    "\t<li><span style=\"font-size:16px;\">Selective importing allows you to import only specific elements (functions, classes, etc.) from a module or library.</span></li>\n",
    "\t<li><span style=\"font-size:16px;\">Example: <code>import numpy as np</code> creates an alias <code>np</code> for the <code>numpy</code> library, allowing you to use <code>np.array()</code> instead of <code>numpy.array()</code>.</span></li>\n",
    "</ul>\n"
   ]
  },
  {
   "cell_type": "code",
   "execution_count": null,
   "id": "0028fa50-e9c4-4edb-bc69-02a1938ae65f",
   "metadata": {},
   "outputs": [],
   "source": []
  },
  {
   "cell_type": "markdown",
   "id": "4712f564-b71b-4df4-a497-6509de334033",
   "metadata": {},
   "source": [
    "<h2>Importing and using built-in and external modules</h2>"
   ]
  },
  {
   "cell_type": "markdown",
   "id": "0fe34652-c284-406d-911d-9d4eee91edf8",
   "metadata": {},
   "source": [
    "<p><span style=\"font-size:16px;\">By importing and using built-in and external modules, you can tap into a wealth of existing functionality, save development time, and benefit from the collective efforts of the Python community. It&#39;s crucial to understand how to effectively import and utilize these modules to leverage their capabilities and enhance your Python projects.</span></p>"
   ]
  },
  {
   "cell_type": "markdown",
   "id": "c6a94b8f-ccc1-4246-b30e-f39c5a5664d0",
   "metadata": {},
   "source": [
    "<ol>\n",
    "\t<li><span style=\"font-size:16px;\">Built-in Modules:</span></li>\n",
    "</ol>\n",
    "\n",
    "<ul>\n",
    "\t<li><span style=\"font-size:16px;\">Python comes with a set of built-in modules that provide a wide range of functionality without the need for external installation.</span></li>\n",
    "\t<li><span style=\"font-size:16px;\">Built-in modules cover areas such as math calculations (<code>math</code>), file operations (<code>os</code>, <code>sys</code>), date and time manipulation (<code>datetime</code>), and more.</span></li>\n",
    "\t<li><span style=\"font-size:16px;\">To use a built-in module, you simply import it using the <code>import</code> statement, and then access its functions, classes, or variables using dot notation.</span></li>\n",
    "\t<li><span style=\"font-size:16px;\">Example: To import the <code>math</code> module and use its <code>sqrt</code> function, you would use <code>import math</code> followed by <code>math.sqrt()</code>.</span></li>\n",
    "</ul>"
   ]
  },
  {
   "cell_type": "code",
   "execution_count": null,
   "id": "83fbaf47-1c55-477c-85a3-e088a3c73d42",
   "metadata": {},
   "outputs": [],
   "source": []
  },
  {
   "cell_type": "markdown",
   "id": "82342daf-83d8-4997-94f7-4cfd8e4c3ff9",
   "metadata": {},
   "source": [
    "<ol start=\"2\">\n",
    "\t<li><span style=\"font-size:16px;\">External Modules:</span></li>\n",
    "</ol>\n",
    "\n",
    "<ul>\n",
    "\t<li><span style=\"font-size:16px;\">External modules (also known as third-party modules or libraries) are created by developers outside of the Python standard library.</span></li>\n",
    "\t<li><span style=\"font-size:16px;\">These modules provide additional functionality and solve specific problems that are not covered by the built-in modules.</span></li>\n",
    "\t<li><span style=\"font-size:16px;\">External modules are typically installed using package managers like pip (Python package installer).</span></li>\n",
    "\t<li><span style=\"font-size:16px;\">Example: The <code>requests</code> library is an external module commonly used for making HTTP requests. To use it, you need to install it using <code>pip install requests</code>, and then import it with <code>import requests</code>.</span></li>\n",
    "</ul>"
   ]
  },
  {
   "cell_type": "code",
   "execution_count": null,
   "id": "fb9db7e8-4708-4c73-9915-ff164171f573",
   "metadata": {},
   "outputs": [],
   "source": []
  },
  {
   "cell_type": "markdown",
   "id": "1e78f5bc-6e63-4ac7-8130-5feb39b6eeea",
   "metadata": {},
   "source": [
    "<ol start=\"3\">\n",
    "\t<li><span style=\"font-size:16px;\">Importing Specific Elements:</span></li>\n",
    "</ol>\n",
    "\n",
    "<ul>\n",
    "\t<li><span style=\"font-size:16px;\">You can import specific elements (such as functions, classes, or variables) from a module instead of importing the entire module.</span></li>\n",
    "\t<li><span style=\"font-size:16px;\">This selective importing helps to reduce memory usage and improve code readability by only importing what is necessary.</span></li>\n",
    "\t<li><span style=\"font-size:16px;\">Example: To import only the <code>sqrt</code> function from the <code>math</code> module, you can use <code>from math import sqrt</code>.</span></li>\n",
    "</ul>"
   ]
  },
  {
   "cell_type": "code",
   "execution_count": null,
   "id": "5f9b52e9-4b49-4ccc-b5fe-d914d9e3ae83",
   "metadata": {},
   "outputs": [],
   "source": []
  },
  {
   "cell_type": "markdown",
   "id": "880dcb70-0079-4175-8121-a8b5f7f1c0c9",
   "metadata": {},
   "source": [
    "<ol start=\"5\">\n",
    "\t<li><span style=\"font-size:16px;\">Best Practices:</span></li>\n",
    "</ol>\n",
    "\n",
    "<ul>\n",
    "\t<li><span style=\"font-size:16px;\">It is recommended to place import statements at the beginning of your Python script or module.</span></li>\n",
    "\t<li><span style=\"font-size:16px;\">Using explicit import statements and avoiding wildcard imports (<code>from module import *</code>) is generally considered good practice for code readability and avoiding namespace clashes.</span></li>\n",
    "\t<li><span style=\"font-size:16px;\">When using external modules, it&#39;s crucial to document the required dependencies for others who may want to use your code. You can typically include a <code>requirements.txt</code> file with the list of required modules and their versions.</span></li>\n",
    "</ul>"
   ]
  },
  {
   "cell_type": "code",
   "execution_count": null,
   "id": "d7f17d08-d8b1-414a-a651-8a2f0065a859",
   "metadata": {},
   "outputs": [],
   "source": []
  },
  {
   "cell_type": "markdown",
   "id": "c8ab8e80-c408-4e56-8e0b-177ae38bf6b5",
   "metadata": {},
   "source": [
    "<p><span style=\"font-size:16px;\">Challenge 1: Temperature Conversion Write a program that converts temperatures between Celsius and Fahrenheit. The program should include two functions:</span></p>\n",
    "\n",
    "<ul>\n",
    "\t<li><span style=\"font-size:16px;\"><code>celsius_to_fahrenheit(celsius)</code>: Converts Celsius temperature to Fahrenheit.</span></li>\n",
    "\t<li><span style=\"font-size:16px;\"><code>fahrenheit_to_celsius(fahrenheit)</code>: Converts Fahrenheit temperature to Celsius.</span></li>\n",
    "</ul>"
   ]
  },
  {
   "cell_type": "code",
   "execution_count": null,
   "id": "978e28cd-5daf-4ce4-a5a2-da45a16aeaf3",
   "metadata": {
    "jupyter": {
     "source_hidden": true
    },
    "tags": []
   },
   "outputs": [],
   "source": [
    "\n",
    "def celsius_to_fahrenheit(celsius):\n",
    "    fahrenheit = (celsius * 9/5) + 32\n",
    "    return fahrenheit\n",
    "\n",
    "def fahrenheit_to_celsius(fahrenheit):\n",
    "    celsius = (fahrenheit - 32) * 5/9\n",
    "    return celsius\n",
    "\n",
    "# Test the functions\n",
    "celsius = 21\n",
    "converted_fahrenheit = celsius_to_fahrenheit(celsius)\n",
    "print(f\"{celsius} degrees Celsius is equal to {converted_fahrenheit:.2f} degrees Fahrenheit.\")\n",
    "\n",
    "fahrenheit = 78\n",
    "converted_celsius = fahrenheit_to_celsius(fahrenheit)\n",
    "print(f\"{fahrenheit} degrees Fahrenheit is equal to {converted_celsius:.2f} degrees Celsius.\")"
   ]
  },
  {
   "cell_type": "code",
   "execution_count": null,
   "id": "0ebb0b21-4e68-4eab-a537-6cff87a238f9",
   "metadata": {},
   "outputs": [],
   "source": []
  },
  {
   "cell_type": "markdown",
   "id": "c302b14a-7dea-4da1-8a57-dc7c4a728656",
   "metadata": {},
   "source": [
    "<p><span style=\"font-size:16px;\">Challenge 2: Word Counter Write a program that counts the occurrences of each word in a given sentence. The program should include the following functions:</span></p>\n",
    "\n",
    "<ul>\n",
    "\t<li><span style=\"font-size:16px;\"><code>count_words(sentence)</code>: Accepts a sentence as input and returns a dictionary with each word as a key and its count as the corresponding value.</span></li>\n",
    "\t<li><span style=\"font-size:16px;\">Import the <code>collections</code> module and use the <code>Counter</code> class to simplify the counting process.</span></li>\n",
    "</ul>"
   ]
  },
  {
   "cell_type": "code",
   "execution_count": null,
   "id": "14377e68-79cc-4dd9-9083-0f2d7fe75bd5",
   "metadata": {
    "jupyter": {
     "source_hidden": true
    },
    "tags": []
   },
   "outputs": [],
   "source": [
    "import collections\n",
    "\n",
    "def count_words(sentence):\n",
    "    words = sentence.split()\n",
    "    word_counts = collections.Counter(words)\n",
    "    return dict(word_counts)\n",
    "\n",
    "# Test the function\n",
    "sentence = \"I love to program in Python, Python is a great language!\"\n",
    "word_counts = count_words(sentence)\n",
    "print(\"Word Counts:\")\n",
    "for word, count in word_counts.items():\n",
    "    print(f\"{word}: {count}\")"
   ]
  },
  {
   "cell_type": "code",
   "execution_count": null,
   "id": "86937e21-aef2-4d07-aa06-002b2c057772",
   "metadata": {
    "tags": []
   },
   "outputs": [],
   "source": []
  }
 ],
 "metadata": {
  "kernelspec": {
   "display_name": "Python 3 (ipykernel)",
   "language": "python",
   "name": "python3"
  },
  "language_info": {
   "codemirror_mode": {
    "name": "ipython",
    "version": 3
   },
   "file_extension": ".py",
   "mimetype": "text/x-python",
   "name": "python",
   "nbconvert_exporter": "python",
   "pygments_lexer": "ipython3",
   "version": "3.11.3"
  }
 },
 "nbformat": 4,
 "nbformat_minor": 5
}
